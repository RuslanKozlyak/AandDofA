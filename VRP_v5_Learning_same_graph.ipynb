{
  "cells": [
    {
      "cell_type": "markdown",
      "metadata": {
        "id": "view-in-github",
        "colab_type": "text"
      },
      "source": [
        "<a href=\"https://colab.research.google.com/github/RuslanKozlyak/Labs_ITMO/blob/main/VRP_v5_Learning_same_graph.ipynb\" target=\"_parent\"><img src=\"https://colab.research.google.com/assets/colab-badge.svg\" alt=\"Open In Colab\"/></a>"
      ]
    },
    {
      "cell_type": "markdown",
      "metadata": {
        "id": "sPfNa2nSqmDc"
      },
      "source": [
        "# Pip"
      ]
    },
    {
      "cell_type": "code",
      "execution_count": 1,
      "metadata": {
        "id": "pGSDYp6qmxoA"
      },
      "outputs": [],
      "source": [
        "# !pip install blocksnet -q\n",
        "!pip install torch_geometric -q\n",
        "!pip install ortools -q"
      ]
    },
    {
      "cell_type": "code",
      "execution_count": 2,
      "metadata": {
        "id": "eivl0IqYq-ds",
        "colab": {
          "base_uri": "https://localhost:8080/"
        },
        "outputId": "e9c746a3-5ba1-4cf2-e12e-733e26d40852"
      },
      "outputs": [
        {
          "output_type": "stream",
          "name": "stdout",
          "text": [
            "\u001b[31mERROR: Could not open requirements file: [Errno 2] No such file or directory: 'requirements.txt'\u001b[0m\u001b[31m\n",
            "\u001b[0m"
          ]
        }
      ],
      "source": [
        "!pip install -r requirements.txt"
      ]
    },
    {
      "cell_type": "code",
      "execution_count": 3,
      "metadata": {
        "id": "GWTba_S3tRKg",
        "colab": {
          "base_uri": "https://localhost:8080/"
        },
        "outputId": "7e2778fd-b987-4ae4-ecad-4973eeccc661"
      },
      "outputs": [
        {
          "output_type": "stream",
          "name": "stdout",
          "text": [
            "fatal: destination path 'VRP-GYM' already exists and is not an empty directory.\n"
          ]
        }
      ],
      "source": [
        "!git clone https://github.com/kevin-schumann/VRP-GYM.git"
      ]
    },
    {
      "cell_type": "markdown",
      "metadata": {
        "id": "CBqdCBZ_qkgN"
      },
      "source": [
        "# Imports"
      ]
    },
    {
      "cell_type": "code",
      "execution_count": 4,
      "metadata": {
        "id": "7R3X447YnBXo"
      },
      "outputs": [],
      "source": [
        "# import blocksnet as bn"
      ]
    },
    {
      "cell_type": "code",
      "execution_count": 5,
      "metadata": {
        "id": "_b8rXuUUX6dz"
      },
      "outputs": [],
      "source": [
        "import random\n",
        "import pandas as pd\n",
        "from pprint import pprint\n",
        "from pathlib import Path\n",
        "from datetime import datetime\n",
        "import shutil\n",
        "import math"
      ]
    },
    {
      "cell_type": "code",
      "source": [
        "import logging\n",
        "from typing import Tuple\n",
        "import csv\n",
        "import logging\n",
        "import os\n",
        "import time\n",
        "from copy import deepcopy\n",
        "from typing import Tuple\n",
        "\n",
        "import numpy as np\n",
        "import torch\n",
        "import torch.nn as nn\n",
        "from scipy import stats\n",
        "\n",
        "import torch\n",
        "from collections import defaultdict"
      ],
      "metadata": {
        "id": "T3JcxZ5NAiQ1"
      },
      "execution_count": 6,
      "outputs": []
    },
    {
      "cell_type": "code",
      "execution_count": 7,
      "metadata": {
        "id": "DVW2YCukapDR"
      },
      "outputs": [],
      "source": [
        "import matplotlib.colors as mcolors"
      ]
    },
    {
      "cell_type": "code",
      "execution_count": 8,
      "metadata": {
        "id": "YEvPPcNS98r6"
      },
      "outputs": [],
      "source": [
        "from typing import List\n",
        "\n",
        "import matplotlib.pyplot as plt\n",
        "import numpy as np\n",
        "from typing import List\n",
        "\n",
        "import matplotlib.pyplot as plt\n",
        "import numpy as np\n",
        "import networkx as nx\n",
        "import numpy as np\n",
        "from typing import Tuple, Union\n",
        "\n",
        "import numpy as np\n",
        "from torch.utils.data import DataLoader"
      ]
    },
    {
      "cell_type": "markdown",
      "metadata": {
        "id": "JTq_Z8cCo29U"
      },
      "source": [
        "# Paths"
      ]
    },
    {
      "cell_type": "code",
      "execution_count": 9,
      "metadata": {
        "id": "Mp235_Elo17z"
      },
      "outputs": [],
      "source": [
        "\n",
        "import os\n",
        "from pathlib import Path\n",
        "\n",
        "models_dir = os.path.join(\"..\", \"..\", \"..\", \"models\")\n",
        "if not Path( models_dir ).exists():\n",
        "    Path( models_dir ).mkdir(parents=True, exist_ok=True)\n",
        "\n",
        "data_dir = os.path.join(\"..\", \"..\", \"..\", \"data\")\n",
        "if not Path( data_dir ).exists():\n",
        "    Path( data_dir ).mkdir(parents=True, exist_ok=True)\n",
        "\n",
        "raw_dir = os.path.join( data_dir, \"raw\" )\n",
        "if not Path( raw_dir ).exists():\n",
        "    Path( raw_dir ).mkdir(parents=True, exist_ok=True)\n",
        "\n",
        "graphs_dir = os.path.join( raw_dir, \"graphs\" )\n",
        "if not Path( graphs_dir ).exists():\n",
        "    Path( graphs_dir ).mkdir(parents=True, exist_ok=True)\n",
        "\n",
        "synthetic_tasks_dir = os.path.join( raw_dir, \"synthetic_tasks\" )\n",
        "if not Path( synthetic_tasks_dir ).exists():\n",
        "    Path( synthetic_tasks_dir ).mkdir(parents=True, exist_ok=True)\n",
        "\n",
        "log_dir = os.path.join( data_dir, \"logs\" )\n",
        "if not Path( log_dir ).exists():\n",
        "    Path( log_dir ).mkdir(parents=True, exist_ok=True)\n",
        "\n",
        "images_dir = os.path.join( raw_dir, \"images\" )\n",
        "if not Path( images_dir ).exists():\n",
        "    Path( images_dir ).mkdir(parents=True, exist_ok=True)\n",
        "\n",
        "interim_dir = os.path.join( data_dir, \"interim\" )\n",
        "if not Path( interim_dir ).exists():\n",
        "    Path( interim_dir ).mkdir(parents=True, exist_ok=True)\n",
        "\n",
        "result_dir = os.path.join( data_dir, \"result\" )\n",
        "if not Path( result_dir ).exists():\n",
        "    Path( result_dir ).mkdir(parents=True, exist_ok=True)\n"
      ]
    },
    {
      "cell_type": "markdown",
      "metadata": {
        "id": "n5jcEAKlo4AW"
      },
      "source": [
        "# Utils"
      ]
    },
    {
      "cell_type": "code",
      "execution_count": 10,
      "metadata": {
        "id": "0oVkgJh2o6KQ"
      },
      "outputs": [],
      "source": [
        "\n",
        "import pickle\n",
        "\n",
        "def save(obj, path, verbose=False):\n",
        "    if verbose:\n",
        "        print(\"Saving object to {}\".format(path))\n",
        "\n",
        "    with open(path, \"wb\") as obj_file:\n",
        "        pickle.dump( obj, obj_file, protocol=pickle.HIGHEST_PROTOCOL )\n",
        "\n",
        "    if verbose:\n",
        "        print(\"Object saved to {}\".format(path))\n",
        "    pass\n",
        "\n",
        "def load(path, verbose=False):\n",
        "    if verbose:\n",
        "        print(\"Loading object from {}\".format(path))\n",
        "    with open(path, \"rb\") as obj_file:\n",
        "        obj = pickle.load(obj_file)\n",
        "    if verbose:\n",
        "        print(\"Object loaded from {}\".format(path))\n",
        "    return obj\n",
        "\n"
      ]
    },
    {
      "cell_type": "markdown",
      "metadata": {
        "id": "JOR_NBlxpEWk"
      },
      "source": [
        "# GraphGenerator"
      ]
    },
    {
      "cell_type": "code",
      "execution_count": 11,
      "metadata": {
        "id": "eCykd2FVpF_k"
      },
      "outputs": [],
      "source": [
        "import matplotlib\n",
        "#matplotlib.use(\"TkAgg\")\n",
        "import matplotlib.pyplot as plt\n",
        "\n",
        "import numpy as np\n",
        "import networkx as nx\n",
        "from pprint import pprint\n",
        "\n",
        "class GraphGenerator():\n",
        "    def __init__(self):\n",
        "        pass\n",
        "\n",
        "    def build_graph(self, n, graph_type, layout=\"kamada-kawai\", random_seed=45):\n",
        "\n",
        "        g_init = None\n",
        "        if graph_type == \"ring\": g_init = nx.cycle_graph( n )\n",
        "        if graph_type == \"wheel\": g_init = nx.wheel_graph(n)\n",
        "        if graph_type == \"tree\": g_init = nx.binomial_tree( n )\n",
        "        if graph_type == \"cube\":\n",
        "            g_init = nx.grid_2d_graph( n, n )\n",
        "            g_init = self.convert_grid_ids_to_int_( g_init )\n",
        "\n",
        "        if g_init is None: raise Exception( \"Available graph types: ring, wheel, tree, cube\" )\n",
        "\n",
        "        node_positions = None\n",
        "        if layout == \"spring\": node_positions = nx.drawing.spring_layout( g_init, seed=random_seed )\n",
        "        if layout == \"kamada-kawai\": node_positions = nx.drawing.kamada_kawai_layout(g_init)\n",
        "        if node_positions is None: raise Exception(\"Available layouts types: spring, kamada-kawai\")\n",
        "\n",
        "        g = nx.Graph()\n",
        "        for node_id in node_positions:\n",
        "            g.add_node( node_id, pos=(node_positions[node_id][0], node_positions[node_id][1]))\n",
        "\n",
        "        edges_init = []\n",
        "        for node_id in node_positions:\n",
        "            current_edges = g_init.edges( node_id )\n",
        "            for current_edge in current_edges:\n",
        "                edges_init.append( current_edge )\n",
        "        g.add_edges_from( edges_init )\n",
        "\n",
        "        return g\n",
        "\n",
        "    def convert_grid_ids_to_int_(self, grid_graph):\n",
        "        int_ids_graph = nx.Graph()\n",
        "\n",
        "        grid_graph_nodes = list(grid_graph.nodes)\n",
        "        mapped_node_ids = {}\n",
        "        for i, node_id in enumerate(grid_graph_nodes):\n",
        "            mapped_node_ids[node_id] = i\n",
        "        for node_id in grid_graph_nodes:\n",
        "            new_node_id = mapped_node_ids[ node_id ]\n",
        "            int_ids_graph.add_node( new_node_id )\n",
        "\n",
        "        grid_graph_edges = list( grid_graph.edges.data() )\n",
        "        for grid_edge in grid_graph_edges:\n",
        "            new_edge = ( mapped_node_ids[grid_edge[0]], mapped_node_ids[grid_edge[1]] )\n",
        "            int_ids_graph.add_edge( new_edge[0], new_edge[1] )\n",
        "\n",
        "        return int_ids_graph\n",
        "\n",
        "\n",
        "    def plot_graph(self, g, ax=None, with_edge_labels=False, **kwds):\n",
        "\n",
        "        if ax is None:\n",
        "            cf = plt.gcf()\n",
        "        else:\n",
        "            cf = ax.get_figure()\n",
        "        cf.set_facecolor(\"w\")\n",
        "        if ax is None:\n",
        "            if cf.axes:\n",
        "                ax = cf.gca()\n",
        "            else:\n",
        "                ax = cf.add_axes((0, 0, 1, 1))\n",
        "\n",
        "        if \"with_labels\" not in kwds:\n",
        "            kwds[\"with_labels\"] = \"labels\" in kwds\n",
        "\n",
        "\n",
        "        pos = nx.get_node_attributes(g, 'pos')\n",
        "\n",
        "        if with_edge_labels:\n",
        "            labels = nx.get_edge_attributes(g, 'weight')\n",
        "            nx.draw_networkx_edge_labels(g, pos, edge_labels=labels)\n",
        "\n",
        "        nx.draw_networkx(g, pos=pos, ax=ax, **kwds)\n",
        "\n",
        "    def alter_graph(self, g,\n",
        "                    shift=(0.0, 0.0),\n",
        "                    scale=(1.0, 1.0),\n",
        "                    rotation_angle=0,\n",
        "                    noised_nodes_part=0.0,\n",
        "                    node_noise_strength=0.0,\n",
        "                    convert_to_int=True,\n",
        "                    random_seed=45):\n",
        "\n",
        "        np.random.seed( random_seed )\n",
        "        node_positions = nx.get_node_attributes( g, \"pos\" )\n",
        "        old_x, old_y, new_x, new_y = [], [], [], []\n",
        "        for node_id in node_positions:\n",
        "            x = node_positions[node_id][0]\n",
        "            y = node_positions[node_id][1]\n",
        "\n",
        "            x = (x + shift[0]) * scale[0]\n",
        "            y = (y + shift[1]) * scale[1]\n",
        "\n",
        "            if noised_nodes_part > 0.0 and node_noise_strength > 0.0:\n",
        "                if np.random.uniform() <= noised_nodes_part:\n",
        "                    x = x + node_noise_strength * np.random.uniform() * x\n",
        "                    y = y + node_noise_strength * np.random.uniform() * y\n",
        "\n",
        "            if rotation_angle > 0:\n",
        "                rotation_phi = (rotation_angle / 180) * np.pi\n",
        "                x_rot = x * np.cos( rotation_phi ) - y * np.sin( rotation_phi )\n",
        "                y_rot = x * np.sin( rotation_phi ) + y * np.cos( rotation_phi )\n",
        "                old_x.append( x )\n",
        "                old_y.append( y )\n",
        "                new_x.append( x_rot )\n",
        "                new_y.append( y_rot )\n",
        "                x = x_rot\n",
        "                y = y_rot\n",
        "\n",
        "            if convert_to_int:\n",
        "                x = round( x )\n",
        "                y = round( y )\n",
        "\n",
        "            node_positions[node_id] = (x, y)\n",
        "\n",
        "        if rotation_angle > 0:\n",
        "            mean_old_x = np.mean(old_x)\n",
        "            mean_old_y = np.mean(old_y)\n",
        "            mean_new_x = np.mean(new_x)\n",
        "            mean_new_y = np.mean(new_y)\n",
        "\n",
        "            for node_id in node_positions:\n",
        "                x = node_positions[node_id][0]\n",
        "                y = node_positions[node_id][1]\n",
        "                x = x + (mean_old_x - mean_new_x)\n",
        "                y = y + (mean_old_y - mean_new_y)\n",
        "                if convert_to_int:\n",
        "                    x = round(x)\n",
        "                    y = round(y)\n",
        "                node_positions[node_id] = (x, y)\n",
        "\n",
        "        nx.set_node_attributes( g, node_positions, name=\"pos\" )\n",
        "        return g\n",
        "\n",
        "    def compose_graphs(self, g_1, g_2, m_routes=1, k_neighbours=1,\n",
        "                       routes_strategy=\"global\", neighbours_strategy=\"nearest\"):\n",
        "        \"\"\"\n",
        "        Compose 2 graphs into one by building routes from g_1 nodes to g_2 nodes.\n",
        "        :param g_1:\n",
        "        :param g_2:\n",
        "        :param m_routes:\n",
        "        :param k_neighbours:\n",
        "        :param routes_strategy: global strategy builds m_routes in total,\n",
        "        local strategy builds m_routes for each node.\n",
        "        :param neighbours_strategy: nearest, further, random\n",
        "        :return:\n",
        "        \"\"\"\n",
        "\n",
        "        g_1_nodes = nx.get_node_attributes(g_1, 'pos')\n",
        "        g_2_nodes = nx.get_node_attributes(g_2, 'pos')\n",
        "        g_1_edges = list( g_1.edges.data() )\n",
        "        g_2_edges = list( g_2.edges.data() )\n",
        "\n",
        "        # mapping g_2 nodes and edges to new node_ids\n",
        "        max_g_1_node_id = max( list(g_1_nodes.keys()) )\n",
        "        g_2_node_mapping = {}\n",
        "        for i in g_2_nodes.keys():\n",
        "            g_2_node_mapping[i] = max_g_1_node_id + 1 + i\n",
        "        #inv_g_2_node_mapping = {v: k for k, v in g_2_node_mapping.items()}\n",
        "\n",
        "        mapped_g_2_nodes = {}\n",
        "        for i in g_2_nodes.keys():\n",
        "            new_node_id = g_2_node_mapping[i]\n",
        "            mapped_g_2_nodes[ new_node_id ] = g_2_nodes[ i ]\n",
        "\n",
        "        mapped_g_2_edges = []\n",
        "        for edge in g_2_edges:\n",
        "            i, j = edge[0], edge[1]\n",
        "            i, j = g_2_node_mapping[i], g_2_node_mapping[j]\n",
        "            new_edge = ( i, j, edge[2] )\n",
        "            mapped_g_2_edges.append( new_edge )\n",
        "\n",
        "        # building connection edges between graphs\n",
        "        graphs_connection_edges = None\n",
        "        if neighbours_strategy == \"nearest\":\n",
        "            pairwise_distances = self.calculate_pairwise_distances_( g_1_nodes, g_2_nodes )\n",
        "            if routes_strategy == \"local\":\n",
        "                graphs_connection_edges = self.build_connection_edges_for_each_node_( pairwise_distances, k_neighbours )\n",
        "            elif routes_strategy == \"global\":\n",
        "                graphs_connection_edges = self.build_global_connection_edges_(pairwise_distances, m_routes, k_neighbours)\n",
        "            else:\n",
        "                raise Exception(\"Available routing_strategy: local, global\")\n",
        "        else:\n",
        "            raise Exception( \"Available neighbours_strategy: nearest\" )\n",
        "        for i in range( len(graphs_connection_edges) ):\n",
        "            node_1 = graphs_connection_edges[i][0]\n",
        "            node_2 = graphs_connection_edges[i][1]\n",
        "            node_2 = g_2_node_mapping[ node_2 ]\n",
        "            graphs_connection_edges[i] = (node_1, node_2, {})\n",
        "\n",
        "        # building composed graph\n",
        "        composed_graph = nx.Graph()\n",
        "        for node_id in g_1_nodes:\n",
        "            composed_graph.add_node( node_id, pos=g_1_nodes[node_id] )\n",
        "        for node_id in mapped_g_2_nodes:\n",
        "            composed_graph.add_node( node_id, pos=mapped_g_2_nodes[node_id] )\n",
        "        for edge in g_1_edges:\n",
        "            composed_graph.add_edge( edge[0], edge[1] )\n",
        "        for edge in mapped_g_2_edges:\n",
        "            composed_graph.add_edge( edge[0], edge[1] )\n",
        "        for edge in graphs_connection_edges:\n",
        "            composed_graph.add_edge( edge[0], edge[1] )\n",
        "\n",
        "        return composed_graph\n",
        "\n",
        "    def build_connection_edges_for_each_node_(self, pairwise_distances, k):\n",
        "\n",
        "        graphs_connection_edges = []\n",
        "        for i in range( pairwise_distances.shape[0] ):\n",
        "            current_distances = pairwise_distances[i]\n",
        "            k_nearest_node_ids = np.argsort( current_distances )[:k]\n",
        "            for j in range( k ):\n",
        "                graphs_connection_edges.append( (i, k_nearest_node_ids[j]) )\n",
        "\n",
        "        return graphs_connection_edges\n",
        "\n",
        "    def build_global_connection_edges_(self, pairwise_distances, m, k):\n",
        "        graphs_connection_edges = []\n",
        "\n",
        "        mean_k_dists = np.zeros( (pairwise_distances.shape[0]), dtype=np.float64 )\n",
        "        for i in range(pairwise_distances.shape[0]):\n",
        "            current_distances = pairwise_distances[i]\n",
        "            k_nearest_node_ids = np.argsort(current_distances)[:k]\n",
        "            mean_k_nearest_distance = np.mean( current_distances[ k_nearest_node_ids ] )\n",
        "            mean_k_dists[i] = mean_k_nearest_distance\n",
        "\n",
        "        m_nearest_nodes_ids = np.argsort(mean_k_dists)[:m]\n",
        "        for g_1_node_id in m_nearest_nodes_ids:\n",
        "            current_distances = pairwise_distances[g_1_node_id]\n",
        "            k_nearest_node_ids = np.argsort(current_distances)[:k]\n",
        "            for j in range(k):\n",
        "                graphs_connection_edges.append((g_1_node_id, k_nearest_node_ids[j]))\n",
        "\n",
        "        return graphs_connection_edges\n",
        "\n",
        "\n",
        "    def calculate_pairwise_distances_(self, g_1_nodes, g_2_nodes):\n",
        "        g_1_nodes_coors = np.zeros((len(g_1_nodes), 2), dtype=np.float64)\n",
        "        g_2_nodes_coors = np.zeros((len(g_2_nodes), 2), dtype=np.float64)\n",
        "        pairwise_distances = np.zeros((g_1_nodes_coors.shape[0], g_2_nodes_coors.shape[0]), dtype=np.float64)\n",
        "\n",
        "        for i, node_id in enumerate(g_1_nodes.keys()):\n",
        "            current_node_coors = g_1_nodes[node_id]\n",
        "            g_1_nodes_coors[i][0] = current_node_coors[0]\n",
        "            g_1_nodes_coors[i][1] = current_node_coors[1]\n",
        "\n",
        "        for i, node_id in enumerate(g_2_nodes.keys()):\n",
        "            current_node_coors = g_2_nodes[node_id]\n",
        "            g_2_nodes_coors[i][0] = current_node_coors[0]\n",
        "            g_2_nodes_coors[i][1] = current_node_coors[1]\n",
        "\n",
        "        for i in range(g_1_nodes_coors.shape[0]):\n",
        "            for j in range(g_2_nodes_coors.shape[0]):\n",
        "                a = g_1_nodes_coors[i]\n",
        "                b = g_2_nodes_coors[j]\n",
        "                pairwise_distances[i][j] = np.linalg.norm(a - b)\n",
        "\n",
        "        return pairwise_distances\n",
        "\n",
        "    def init_edge_weights(self, g, round_to = 3):\n",
        "        \"\"\"\n",
        "        init by euclidean distance between nodes\n",
        "        :param g:\n",
        "        :return:\n",
        "        \"\"\"\n",
        "\n",
        "        node_positions = nx.get_node_attributes(g, \"pos\")\n",
        "        distances_attr = {}\n",
        "        for node_i in node_positions:\n",
        "            adj_edges = g.edges(node_i)\n",
        "            ni_xy = node_positions[node_i]\n",
        "            for edge in adj_edges:\n",
        "                nj_xy = node_positions[edge[1]]\n",
        "                distance = np.sqrt( (nj_xy[0] - ni_xy[0]) ** 2 + (nj_xy[1] - ni_xy[1]) ** 2)\n",
        "                distance = round( distance, round_to )\n",
        "                distances_attr[(edge[0], edge[1])] = {\"weight\": distance}\n",
        "        nx.set_edge_attributes( g, distances_attr )\n",
        "\n",
        "        return g\n",
        "\n",
        "    def build_edge_weight_matrix(self, g, fill_empty_policy = \"shortest\", make_int = True):\n",
        "        \"\"\"\n",
        "        Build, for example, distance or travel time matrix between nodes\n",
        "        (depends on the sense of weights of edges).\n",
        "\n",
        "        :param g:\n",
        "        :return:\n",
        "        \"\"\"\n",
        "\n",
        "        edge_weights = nx.get_edge_attributes(g, 'weight')\n",
        "        n = len(g.nodes())\n",
        "        weight_matrix = np.zeros( shape=(n, n), dtype=np.float64 )\n",
        "        for edge in edge_weights:\n",
        "            edge_weight = edge_weights[edge]\n",
        "            weight_matrix[ edge[0], edge[1] ] = edge_weight\n",
        "            weight_matrix[ edge[1], edge[0] ] = edge_weight\n",
        "\n",
        "        for i in range( n ):\n",
        "            for j in range( n ):\n",
        "                if i == j: continue\n",
        "                if weight_matrix[i][j] == 0.0:\n",
        "                    weight_matrix[i][j] = np.nan\n",
        "\n",
        "        if fill_empty_policy == \"shortest\":\n",
        "            weight_matrix = self.fill_by_shortest_path_( g, weight_matrix )\n",
        "        elif fill_empty_policy == \"sum\":\n",
        "            weight_matrix = self.fill_by_sum_( weight_matrix )\n",
        "        else:\n",
        "            raise Exception(\"Available fill policies: shortest, sum\")\n",
        "\n",
        "        if make_int:\n",
        "            weight_matrix = weight_matrix.astype( np.int64 )\n",
        "\n",
        "        weight_matrix = weight_matrix.tolist()\n",
        "\n",
        "        return weight_matrix\n",
        "\n",
        "    def fill_by_shortest_path_(self, g, weight_matrix):\n",
        "\n",
        "        n = len(g.nodes())\n",
        "        for i in range(n):\n",
        "            for j in range(n):\n",
        "                if np.isnan( weight_matrix[i][j] ):\n",
        "                    shortest_path_len = nx.shortest_path_length( g, source=i, target=j,\n",
        "                                                             weight=\"weight\", method=\"dijkstra\" )\n",
        "                    shortest_path_len = round( shortest_path_len )\n",
        "                    weight_matrix[i][j] = shortest_path_len\n",
        "                    weight_matrix[j][i] = shortest_path_len\n",
        "\n",
        "        return weight_matrix\n",
        "\n",
        "    def fill_by_sum_(self, weight_matrix):\n",
        "        sum_weight = round( np.nansum( weight_matrix ), 1 )\n",
        "        n = weight_matrix.shape[0]\n",
        "        for i in range(n):\n",
        "            for j in range(n):\n",
        "                if np.isnan( weight_matrix[i][j] ):\n",
        "                    weight_matrix[i][j] = sum_weight\n",
        "                    weight_matrix[j][i] = sum_weight\n",
        "        return weight_matrix\n"
      ]
    },
    {
      "cell_type": "markdown",
      "metadata": {
        "id": "USK6Yy_mpJL4"
      },
      "source": [
        "# DataBuilder Simple"
      ]
    },
    {
      "cell_type": "code",
      "execution_count": 12,
      "metadata": {
        "id": "hnodXes_pJjL"
      },
      "outputs": [],
      "source": [
        "\n",
        "import numpy as np\n",
        "\n",
        "class DataBuilder_MPPSRP_Simple():\n",
        "    def __init__(self, weight_matrix,\n",
        "                 distance_multiplier=1, travel_time_multiplier=60*60,\n",
        "                 planning_horizon=7,\n",
        "                 safety_level=0.05, max_level=0.95,\n",
        "                 initial_inventory_level=0.5, tank_capacity=100,\n",
        "                 depot_service_time = 15*60, station_service_time=10*60,\n",
        "                 demand=10, products_count=5,\n",
        "                 k_vehicles=1, compartments=[5 * [20]],\n",
        "                 mean_vehicle_speed=60, vehicle_time_windows=[[9*60*60, 18*60*60]],\n",
        "                 noise_initial_inventory=0.0, noise_tank_capacity=0.0,\n",
        "                 noise_compartments=0.0, noise_demand=0.0,\n",
        "                 noise_vehicle_time_windows=0.0,\n",
        "                 noise_restrictions = 0.0,\n",
        "                 random_seed=45):\n",
        "\n",
        "        self.weight_matrix = weight_matrix\n",
        "        self.distance_multiplier = distance_multiplier\n",
        "        self.travel_time_multiplier = travel_time_multiplier\n",
        "        self.planning_horizon = planning_horizon\n",
        "\n",
        "        self.safety_level = safety_level\n",
        "        self.max_level = max_level\n",
        "        self.initial_inventory_level = initial_inventory_level\n",
        "        self.tank_capacity = tank_capacity\n",
        "        self.depot_service_time = depot_service_time\n",
        "        self.station_service_time = station_service_time\n",
        "\n",
        "        self.demand = demand\n",
        "        self.products_count = products_count\n",
        "\n",
        "        self.k_vehicles = k_vehicles\n",
        "        self.mean_vehicle_speed = mean_vehicle_speed\n",
        "        self.compartments = compartments\n",
        "        self.vehicle_time_windows = vehicle_time_windows\n",
        "\n",
        "        self.noise_initial_inventory = noise_initial_inventory\n",
        "        self.noise_tank_capacity = noise_tank_capacity\n",
        "        self.noise_compartments = noise_compartments\n",
        "        self.noise_demand = noise_demand\n",
        "        self.noise_vehicle_time_windows = noise_vehicle_time_windows\n",
        "        self.noise_restrictions = noise_restrictions\n",
        "        self.random_seed = random_seed\n",
        "\n",
        "        pass\n",
        "\n",
        "    def build_data_model(self):\n",
        "\n",
        "        vehicle_compartments, vehicle_time_windows, vehicle_station_restrictions = self.build_vehicles_data_()\n",
        "        distance_matrix, travel_time_matrix = self.build_base_matrices_()\n",
        "        station_data = self.build_station_data_()\n",
        "        service_times = self.build_service_times_()\n",
        "\n",
        "        data_model = {}\n",
        "        data_model[\"distance_matrix\"] = distance_matrix\n",
        "        data_model[\"travel_time_matrix\"] = travel_time_matrix\n",
        "        data_model[\"station_data\"] = station_data\n",
        "        data_model[\"k_vehicles\"] = self.k_vehicles\n",
        "        data_model[\"vehicle_compartments\"] = vehicle_compartments\n",
        "        data_model[\"vehicle_time_windows\"] = vehicle_time_windows\n",
        "        data_model[\"restriction_matrix\"] = vehicle_station_restrictions\n",
        "        data_model[\"service_times\"] = service_times\n",
        "\n",
        "        return data_model\n",
        "\n",
        "    def build_service_times_(self):\n",
        "\n",
        "        service_times = np.zeros( len(self.weight_matrix), dtype=np.int64 )\n",
        "        service_times[0] = self.depot_service_time\n",
        "        service_times[1:] = self.station_service_time\n",
        "\n",
        "        return service_times\n",
        "\n",
        "    def build_vehicles_data_(self):\n",
        "\n",
        "        compartments = np.array( self.k_vehicles * self.compartments, dtype=np.float64)\n",
        "        compartments_noise = self.noise_compartments * np.random.standard_normal(compartments.shape)\n",
        "        compartments += compartments_noise * compartments\n",
        "        compartments = compartments.astype( np.int64 )\n",
        "\n",
        "        vehicle_time_windows = np.array( self.k_vehicles * self.vehicle_time_windows, dtype=np.float64)\n",
        "        time_windows_noise = self.noise_vehicle_time_windows * np.random.standard_normal( vehicle_time_windows.shape )\n",
        "        vehicle_time_windows += time_windows_noise * vehicle_time_windows\n",
        "        vehicle_time_windows = vehicle_time_windows.astype(np.int64)\n",
        "\n",
        "        vehicle_station_restrictions = self.k_vehicles * [[1 for i in range( len(self.weight_matrix) )]]\n",
        "        vehicle_station_restrictions = np.array( vehicle_station_restrictions, dtype=np.int64 )\n",
        "        for i in range( vehicle_station_restrictions.shape[0] ):\n",
        "            for j in range( vehicle_station_restrictions.shape[1] ):\n",
        "                if np.random.random() <= self.noise_restrictions:\n",
        "                    vehicle_station_restrictions[i][j] = 0\n",
        "\n",
        "        return compartments, vehicle_time_windows, vehicle_station_restrictions\n",
        "\n",
        "    def build_station_data_(self):\n",
        "\n",
        "        station_data = []\n",
        "        n_stations = len( self.weight_matrix )\n",
        "        for i in range( 1, n_stations ):\n",
        "            for j in range( self.products_count ):\n",
        "                station_data_row = [i, j,\n",
        "                                    self.safety_level * self.tank_capacity,\n",
        "                                    self.max_level * self.tank_capacity,\n",
        "                                    self.initial_inventory_level * self.tank_capacity]\n",
        "                station_data_row += self.planning_horizon * [self.demand]\n",
        "                station_data.append( station_data_row )\n",
        "        station_data = np.array( station_data, dtype=np.float64 )\n",
        "\n",
        "\n",
        "        tank_capacities = np.zeros( len(station_data[:, 0]), dtype=np.float64 ) + self.tank_capacity\n",
        "        tank_capacity_noise = self.noise_tank_capacity * np.random.standard_normal( len(station_data[:, 0]) )\n",
        "        tank_capacities += tank_capacity_noise * tank_capacities\n",
        "        station_data[:, 2] = self.safety_level * tank_capacities\n",
        "        station_data[:, 3] = self.max_level * tank_capacities\n",
        "        station_data[:, 4] = self.initial_inventory_level * tank_capacities\n",
        "\n",
        "        demand_noise = self.noise_demand * np.random.standard_normal( station_data[:, 5:].shape )\n",
        "        station_data[:, 5:] += demand_noise * station_data[:, 5:]\n",
        "\n",
        "        station_data = np.array(station_data, dtype=np.int64)\n",
        "\n",
        "        return station_data\n",
        "\n",
        "    def build_base_matrices_(self):\n",
        "\n",
        "        distance_matrix = np.array( self.weight_matrix )\n",
        "        distance_matrix *= self.distance_multiplier\n",
        "\n",
        "        travel_time_matrix = distance_matrix / self.mean_vehicle_speed\n",
        "        travel_time_matrix *= self.travel_time_multiplier\n",
        "\n",
        "        distance_matrix = distance_matrix.astype( dtype=np.int64 )\n",
        "        travel_time_matrix = travel_time_matrix.astype(dtype=np.int64)\n",
        "\n",
        "        return distance_matrix, travel_time_matrix"
      ]
    },
    {
      "cell_type": "markdown",
      "metadata": {
        "id": "QWmqDB_LpUa1"
      },
      "source": [
        "# Solver CPSAT"
      ]
    },
    {
      "cell_type": "markdown",
      "metadata": {
        "id": "if5i_uVLp7-N"
      },
      "source": [
        "## Utilst"
      ]
    },
    {
      "cell_type": "code",
      "execution_count": 13,
      "metadata": {
        "id": "-N15Sld6p9hK"
      },
      "outputs": [],
      "source": [
        "from ortools.sat.python.cp_model import UNKNOWN, MODEL_INVALID, FEASIBLE, INFEASIBLE, OPTIMAL\n",
        "\n",
        "statuses_dict = {}\n",
        "statuses_dict[ UNKNOWN ] = \"UNKNOWN\"\n",
        "statuses_dict[ MODEL_INVALID ] = \"MODEL_INVALID\"\n",
        "statuses_dict[ FEASIBLE ] = \"FEASIBLE\"\n",
        "statuses_dict[ INFEASIBLE ] = \"INFEASIBLE\"\n",
        "statuses_dict[ OPTIMAL ] = \"OPTIMAL\""
      ]
    },
    {
      "cell_type": "markdown",
      "metadata": {
        "id": "Ov8iC4KvpVlm"
      },
      "source": [
        "## Solution"
      ]
    },
    {
      "cell_type": "code",
      "execution_count": 14,
      "metadata": {
        "id": "Uy1MBrAFpaAy"
      },
      "outputs": [],
      "source": [
        "\n",
        "import numpy as np\n",
        "from tqdm import tqdm\n",
        "\n",
        "class Solution_MPPSRP_CPSAT():\n",
        "    def __init__(self, task, solver):\n",
        "\n",
        "        self.n_nodes = len(task.data_model[\"distance_matrix\"])\n",
        "        self.k_vehicles = task.data_model[\"k_vehicles\"]\n",
        "        self.vehicle_compartments = task.data_model[\"vehicle_compartments\"]\n",
        "        self.max_trips_per_day = task.other_parameters[\"max_trips_per_day\"]\n",
        "        self.planning_horizon = task.other_parameters[\"planning_horizon\"]\n",
        "        self.products = task.other_parameters[\"P\"]\n",
        "        self.safety_levels = task.data_model[\"station_data\"][:, 2]\n",
        "        self.capacities = task.data_model[\"station_data\"][:, 3]\n",
        "        self.station_data_dict = task.station_data_dict\n",
        "\n",
        "        self.task_id = task.task_id\n",
        "        self.nodes_count = task.nodes_count\n",
        "        self.solution_values = self.convert_solution_to_dict_( task, solver )\n",
        "        self.solution_values = self.postprocess_variables_(self.solution_values)\n",
        "        self.kpi_dict = self.build_kpi_dict_( task )\n",
        "\n",
        "        pass\n",
        "\n",
        "    def get_routes_schedule(self):\n",
        "        routes_schedule = []\n",
        "\n",
        "        for t in range( self.planning_horizon ):\n",
        "            routes_schedule.append( [] )\n",
        "            for k in range( self.k_vehicles ):\n",
        "                routes_schedule[t].append( [] )\n",
        "\n",
        "        x = self.solution_values[\"x\"]\n",
        "        y = self.solution_values[\"y\"]\n",
        "        q = self.solution_values[\"q\"]\n",
        "        products = self.products\n",
        "        for t in range( self.planning_horizon ):\n",
        "            for k in range( self.k_vehicles ):\n",
        "                for r in range( self.max_trips_per_day ):\n",
        "                    if y[k, r, t] == 1:\n",
        "                        current_route = []\n",
        "                        delivery_amount = {}\n",
        "                        depot_id = 0\n",
        "                        current_node_id = depot_id\n",
        "                        current_route.append( depot_id )\n",
        "                        current_node_id = np.argmax(x[t, k, r, current_node_id, :])\n",
        "                        while current_node_id != depot_id:\n",
        "                            current_route.append( current_node_id )\n",
        "                            delivery_amount[ current_node_id ] = {}\n",
        "\n",
        "                            for p in range(len(products)):\n",
        "                                true_product_id = products[p]\n",
        "                                if true_product_id not in delivery_amount[current_node_id].keys():\n",
        "                                    delivery_amount[current_node_id][true_product_id] = 0\n",
        "\n",
        "                                for m in range(len(self.vehicle_compartments[k])):\n",
        "                                    delivery_amount[current_node_id][true_product_id] += q[t, k, r, current_node_id, p, m]\n",
        "\n",
        "                            current_node_id = np.argmax(x[t, k, r, current_node_id, :])\n",
        "\n",
        "                        current_route.append( depot_id )\n",
        "                        current_route = tuple( current_route )\n",
        "                        routes_schedule[t][k].append( (current_route, delivery_amount) )\n",
        "\n",
        "        return routes_schedule\n",
        "\n",
        "    def get_kpis(self):\n",
        "        return self.kpi_dict\n",
        "\n",
        "    def build_kpi_dict_(self, task):\n",
        "\n",
        "        kpi_dict = {}\n",
        "\n",
        "        kpi_dict[\"total_travel_distance\"] = 0\n",
        "        kpi_dict[\"total_travel_time\"] = 0\n",
        "        x = self.solution_values[\"x\"]\n",
        "        for t in range( self.planning_horizon ):\n",
        "            for k in range( self.k_vehicles ):\n",
        "                for r in range( self.max_trips_per_day ):\n",
        "                    for i in range( self.n_nodes ):\n",
        "                        for j in range( self.n_nodes ):\n",
        "                            kpi_dict[\"total_travel_distance\"] += task.data_model[\"distance_matrix\"][i][j] * x[t, k, r, i, j]\n",
        "                            kpi_dict[\"total_travel_time\"] += task.data_model[\"travel_time_matrix\"][i][j] * x[t, k, r, i, j]\n",
        "\n",
        "        kpi_dict[\"average_stock_levels\"] = np.zeros( (self.planning_horizon, ), dtype=np.int64 )\n",
        "        I = self.solution_values[\"I\"]\n",
        "        for p in range( len(self.products) ):\n",
        "            for t in range( self.planning_horizon ):\n",
        "                current_levels = I[:, p, t+1]\n",
        "                # if product type is absent on a station, then it is always zero. Don't count them.\n",
        "                avg_nonzero_levels = np.sum( current_levels[ current_levels != 0 ] )\n",
        "                kpi_dict[\"average_stock_levels\"][t] = avg_nonzero_levels\n",
        "\n",
        "        kpi_dict[\"average_stock_levels_percent\"] = []\n",
        "        I = self.solution_values[\"I\"]\n",
        "        for t in range(self.planning_horizon):\n",
        "            for station_data_key in self.station_data_dict.keys():\n",
        "                i = station_data_key[0]\n",
        "                p = station_data_key[1]\n",
        "                p_v = task.other_parameters[\"P_virtual_ids\"][p]\n",
        "                tank_capacity_i = self.station_data_dict[(i, p)][\"tank_capacity\"]\n",
        "                current_level = I[i-1, p_v, t+1]\n",
        "                kpi_dict[\"average_stock_levels_percent\"].append( current_level / tank_capacity_i )\n",
        "        kpi_dict[\"average_stock_levels_percent\"] = 100 * np.mean( kpi_dict[\"average_stock_levels_percent\"] )\n",
        "\n",
        "        kpi_dict[\"dry_runs\"] = 0\n",
        "        for t in range( self.planning_horizon ):\n",
        "            for station_data_key in self.station_data_dict.keys():\n",
        "                i = station_data_key[0]\n",
        "                p = station_data_key[1]\n",
        "                safety_level_i = self.station_data_dict[ (i, p) ][\"safety_level\"]\n",
        "                p_v = task.other_parameters[\"P_virtual_ids\"][p]\n",
        "                if self.solution_values[\"I\"][i-1, p_v, t] <= safety_level_i:\n",
        "                    kpi_dict[\"dry_runs\"] += 1\n",
        "\n",
        "        kpi_dict[\"average_vehicle_utilization\"] = 0\n",
        "        delivered_amount = 0\n",
        "        vehicle_capacities = 0\n",
        "        q = self.solution_values[\"q\"]\n",
        "        y = self.solution_values[\"y\"]\n",
        "        for t in range( self.planning_horizon ):\n",
        "            for k in range( self.k_vehicles ):\n",
        "                for r in range( self.max_trips_per_day ):\n",
        "                    if y[k, r, t] == 1:\n",
        "                        vehicle_capacities += np.sum( task.data_model[\"vehicle_compartments\"][k] )\n",
        "                        delivered_amount += np.sum( q[t, k, r, :, :, :] )\n",
        "        kpi_dict[\"average_vehicle_utilization\"] = round( 100 * (delivered_amount / vehicle_capacities), 1 )\n",
        "\n",
        "        kpi_dict[\"average_stops_per_trip\"] = 0\n",
        "        y = self.solution_values[\"y\"]\n",
        "        z = self.solution_values[\"z\"]\n",
        "        trips_count = 0\n",
        "        stops_count = 0\n",
        "        for t in range( self.planning_horizon ):\n",
        "            for k in range( self.k_vehicles ):\n",
        "                for r in range( self.max_trips_per_day ):\n",
        "                    trips_count += y[k, r, t]\n",
        "                    for i in range( self.n_nodes - 1 ):\n",
        "                        stops_count += z[k, i, r, t]\n",
        "        kpi_dict[\"average_stops_per_trip\"] = stops_count / trips_count\n",
        "\n",
        "\n",
        "        return kpi_dict\n",
        "\n",
        "    def postprocess_variables_(self, solution_values):\n",
        "        \"\"\"\n",
        "        Mathematical model is correct, but it always leaves ones into x[0][0] that\n",
        "        leads to always leave ones into all y (staying at the depot looks like a trip with null distance).\n",
        "        We need y to build routes. Useful trips are only between depot and stations. So clean all\n",
        "        ones into x[0][0] and fix y values (leave ones in trips between depot and stations).\n",
        "        :param solution_values:\n",
        "        :return:\n",
        "        \"\"\"\n",
        "\n",
        "        x = self.solution_values[\"x\"]\n",
        "        y = self.solution_values[\"y\"]\n",
        "        for t in range( self.planning_horizon ):\n",
        "            for k in range( self.k_vehicles ):\n",
        "                for r in range( self.max_trips_per_day ):\n",
        "                    x[t, k, r, 0, 0] = 0\n",
        "\n",
        "                    # if vehicle stays at a depot - set trip indicator to 0\n",
        "                    sum_x = np.sum( x[t, k, r, :, :] )\n",
        "                    if sum_x == 0:\n",
        "                        y[k, r, t] = 0\n",
        "\n",
        "        return solution_values\n",
        "\n",
        "    def convert_solution_to_dict_(self, task, solver):\n",
        "        \"\"\"\n",
        "        Extracts solution values from the solver.\n",
        "        :param task:\n",
        "        :param solver:\n",
        "        :return:\n",
        "        \"\"\"\n",
        "\n",
        "        solution_dict = {}\n",
        "\n",
        "        n_nodes = self.n_nodes\n",
        "        k_vehicles = self.k_vehicles\n",
        "        max_trips_per_day = self.max_trips_per_day\n",
        "        planning_horizon = self.planning_horizon\n",
        "        products = self.products\n",
        "\n",
        "        # 1 - if vehicle k drives from i to j in trip r during day t; 0 - otherwise\n",
        "        solution_dict[\"x\"] = np.zeros(shape=(planning_horizon, k_vehicles, max_trips_per_day,\n",
        "                                             n_nodes, n_nodes), dtype=np.int64)\n",
        "        x = task.variables[\"x\"]\n",
        "        for t in range(planning_horizon):\n",
        "            for k in range(k_vehicles):\n",
        "                for r in range(max_trips_per_day):\n",
        "                    for i in range(n_nodes):\n",
        "                        for j in range(n_nodes):\n",
        "                            solution_dict[\"x\"][t, k, r, i, j] = solver.Value( x[(t, k, r, i, j)] )\n",
        "\n",
        "        # 1 - if vehicle k driving trip r during day t; 0 - otherwise\n",
        "        solution_dict[\"y\"] = np.zeros(shape=(k_vehicles, max_trips_per_day, planning_horizon), dtype=np.int64)\n",
        "        y = task.variables[\"y\"]\n",
        "        for k in range(k_vehicles):\n",
        "            for r in range(max_trips_per_day):\n",
        "                for t in range(planning_horizon):\n",
        "                    solution_dict[\"y\"][k, r, t] = solver.Value( y[(k, r, t)] )\n",
        "\n",
        "        # 1 - if vehicle k visits station i during trip r on day t; 0 - otherwise\n",
        "        solution_dict[\"z\"] = np.zeros(shape=(k_vehicles, n_nodes-1, max_trips_per_day, planning_horizon), dtype=np.int64)\n",
        "        z = task.variables[\"z\"]\n",
        "        for k in range( k_vehicles ):\n",
        "            for i in range( 1, n_nodes ):\n",
        "                for r in range( max_trips_per_day ):\n",
        "                    for t in range( planning_horizon ):\n",
        "                        solution_dict[\"z\"][k, i-1, r, t] = solver.Value( z[(k, i, r, t)] )\n",
        "\n",
        "        # 1 - if product p is loaded into compartment m of vehicle k during trip r on day t\n",
        "        solution_dict[\"w\"] = np.zeros(shape=(len(products), k_vehicles,\n",
        "                                             len(task.data_model[\"vehicle_compartments\"][0]),\n",
        "                                             max_trips_per_day, planning_horizon), dtype=np.int64)\n",
        "        w = task.variables[\"w\"]\n",
        "        for p in range( len(products) ):\n",
        "            for k in range( k_vehicles ):\n",
        "                for m in range( len(task.data_model[\"vehicle_compartments\"][k]) ):\n",
        "                    for r in range( max_trips_per_day ):\n",
        "                        for t in range( planning_horizon ):\n",
        "                            solution_dict[\"w\"][p, k, m, r, t] = solver.Value( w[(p, k, m, r, t)] )\n",
        "\n",
        "        # 1 - if trip s is driven after trip r by vehicle k on day t; 0 - otherwise\n",
        "        solution_dict[\"u\"] = np.zeros(shape=(planning_horizon, k_vehicles,\n",
        "                                             max_trips_per_day-1, max_trips_per_day-1), dtype=np.int64)\n",
        "        u = task.variables[\"u\"]\n",
        "        for t in range(planning_horizon):\n",
        "            for k in range(k_vehicles):\n",
        "                for r in range( max_trips_per_day - 1 ):\n",
        "                    s = r + 1\n",
        "                    solution_dict[\"u\"][t, k, r, s-1] = solver.Value( u[(t, k, r, s)] )\n",
        "\n",
        "        # quantity of product p in compartment m of vehicle k delivered to location i during trip r on day t\n",
        "        solution_dict[\"q\"] = np.zeros(shape=(planning_horizon, k_vehicles, max_trips_per_day,\n",
        "                                             n_nodes, len(products), len(task.data_model[\"vehicle_compartments\"][0])),\n",
        "                                      dtype=np.int64)\n",
        "        q = task.variables[\"q\"]\n",
        "        for t in range( planning_horizon ):\n",
        "            for k in range( k_vehicles ):\n",
        "                for r in range( max_trips_per_day ):\n",
        "                    for i in range( n_nodes ):\n",
        "                        for p in range( len(products) ):\n",
        "                            for m in range(len(task.data_model[\"vehicle_compartments\"][k])):\n",
        "                                solution_dict[\"q\"][t, k, r, i, p, m] = solver.Value( q[(t, k, r, i, p, m)] )\n",
        "\n",
        "        # the time vehicle k can start the service at station i during trip r on day t\n",
        "        solution_dict[\"S\"] = np.zeros(shape=(planning_horizon, k_vehicles, max_trips_per_day, n_nodes), dtype=np.int64)\n",
        "        S = task.variables[\"S\"]\n",
        "        for t in range( planning_horizon ):\n",
        "            for k in range( k_vehicles ):\n",
        "                for r in range( max_trips_per_day ):\n",
        "                    for i in range( n_nodes ):\n",
        "                        solution_dict[\"S\"][t, k, r, i] = solver.Value( S[(t, k, r, i)] )\n",
        "\n",
        "        # inventory level of product p at station i at the end of day t\n",
        "        solution_dict[\"I\"] = np.zeros(shape=(n_nodes-1, len(products), planning_horizon+1), dtype=np.int64)\n",
        "        I = task.variables[\"I\"]\n",
        "        for i in range( 1, n_nodes ):\n",
        "            for p in range( len(products) ):\n",
        "                for t in range( planning_horizon+1 ):\n",
        "                    solution_dict[\"I\"][i-1, p, t] = solver.Value( I[(i, p, t-1)] )\n",
        "\n",
        "\n",
        "        return solution_dict"
      ]
    },
    {
      "cell_type": "markdown",
      "metadata": {
        "id": "6iNHU4XRpakf"
      },
      "source": [
        "## Task"
      ]
    },
    {
      "cell_type": "code",
      "execution_count": 15,
      "metadata": {
        "id": "NgtlrVfBpeC6"
      },
      "outputs": [],
      "source": [
        "\n",
        "import numpy as np\n",
        "from ortools.sat.python import cp_model\n",
        "\n",
        "class Task_MPPSRP_CPSAT():\n",
        "    def __init__(self, data_model, task_id):\n",
        "\n",
        "        self.data_model = data_model\n",
        "        self.task_id = task_id\n",
        "        self.solver_name = \"CP-SAT\"\n",
        "        self.model = cp_model.CpModel( )\n",
        "        self.variables = {}\n",
        "        self.other_parameters = {}\n",
        "        self.station_data_dict = {}\n",
        "        self.nodes_count = len(data_model[\"distance_matrix\"])\n",
        "\n",
        "        pass"
      ]
    },
    {
      "cell_type": "markdown",
      "metadata": {
        "id": "jFFXzuJepm5G"
      },
      "source": [
        "## TaskBuilder"
      ]
    },
    {
      "cell_type": "code",
      "execution_count": 16,
      "metadata": {
        "id": "AMG7Ro9Ppgaj"
      },
      "outputs": [],
      "source": [
        "\n",
        "import numpy as np\n",
        "from ortools.sat.python import cp_model\n",
        "\n",
        "class TaskBuilder_MPPSRP_FullMILP_CPSAT():\n",
        "    def __init__(self, max_trips_per_day=10, verbose=True):\n",
        "        \"\"\"\n",
        "        Builder for building an MP-PSRP task in the Boers Full MILP formulation (p.34).\n",
        "        \"\"\"\n",
        "\n",
        "        self.max_trips_per_day = max_trips_per_day\n",
        "        self.verbose = verbose\n",
        "\n",
        "        pass\n",
        "\n",
        "    def build_task(self, data_model, task_id=0):\n",
        "\n",
        "        task = Task_MPPSRP_CPSAT( data_model=data_model,\n",
        "                                  task_id=task_id )\n",
        "\n",
        "        self.define_variables_( task )\n",
        "        self.add_station_inventory_constraints_(task)\n",
        "        self.add_vehicle_constraints_(task)\n",
        "        self.add_route_constraints_(task)\n",
        "        self.add_speed_up_constraints_(task)\n",
        "        self.add_min_sum_distance_objective_( task )\n",
        "\n",
        "        return task\n",
        "\n",
        "    def define_variables_(self, task):\n",
        "\n",
        "        # Boyers, p.22\n",
        "\n",
        "        n_nodes = len(task.data_model[\"distance_matrix\"])\n",
        "        k_vehicles = task.data_model[\"k_vehicles\"]\n",
        "\n",
        "        task.other_parameters[\"planning_horizon\"] = len( task.data_model[\"station_data\"][0][5:] )\n",
        "        planning_horizon = task.other_parameters[\"planning_horizon\"]\n",
        "\n",
        "        # trip ids\n",
        "        task.other_parameters[\"max_trips_per_day\"] = self.max_trips_per_day\n",
        "        task.other_parameters[\"R\"] = np.array( [i for i in range( self.max_trips_per_day )], dtype=np.int64 )\n",
        "\n",
        "        # existing products in station data\n",
        "        task.other_parameters[\"P\"] = np.unique( task.data_model[\"station_data\"][:, 1] )\n",
        "        task.other_parameters[\"P_virtual_ids\"] = {}\n",
        "        task.other_parameters[\"virtual_p_to_true\"] = {}\n",
        "        products = task.other_parameters[\"P\"]\n",
        "        for i in range( len(products) ):\n",
        "            task.other_parameters[\"P_virtual_ids\"][ products[i] ] = i\n",
        "            task.other_parameters[\"virtual_p_to_true\"][i] = products[i]\n",
        "\n",
        "        # contains information about station: station_id, real product_id, product levels\n",
        "        task.station_data_dict = self.build_station_data_dict_( task )\n",
        "\n",
        "        # 1 - if vehicle k drives from i to j in trip r during day t; 0 - otherwise\n",
        "        task.variables[\"x\"] = {}\n",
        "        x = task.variables[\"x\"]\n",
        "        for t in range(planning_horizon):\n",
        "            for k in range(k_vehicles):\n",
        "                for r in range(self.max_trips_per_day):\n",
        "                    for i in range(n_nodes):\n",
        "                        for j in range(n_nodes):\n",
        "                            x[(t, k, r, i, j)] = task.model.NewIntVar(0, 1, \"x_{}_{}_{}_{}_{}\".format(t, k, r, i, j))\n",
        "\n",
        "\n",
        "        # 1 - if vehicle k driving trip r during day t; 0 - otherwise\n",
        "        task.variables[\"y\"] = {}\n",
        "        y = task.variables[\"y\"]\n",
        "        for k in range( k_vehicles ):\n",
        "            for r in range( self.max_trips_per_day ):\n",
        "                for t in range( planning_horizon ):\n",
        "                    y[(k, r, t)] = task.model.NewIntVar( 0, 1, \"y_{}_{}_{}\".format( k, r, t ) )\n",
        "\n",
        "        # 1 - if vehicle k visits station i during trip r on day t; 0 - otherwise\n",
        "        task.variables[\"z\"] = {}\n",
        "        z = task.variables[\"z\"]\n",
        "        for k in range( k_vehicles ):\n",
        "            for i in range(1, n_nodes ):\n",
        "                for r in range( self.max_trips_per_day ):\n",
        "                    for t in range( planning_horizon ):\n",
        "                        z[(k, i, r, t)] = task.model.NewIntVar(0, 1, \"z_{}_{}_{}_{}\".format(k, i, r, t))\n",
        "\n",
        "        # 1 - if product p is loaded into compartment m of vehicle k during trip r on day t\n",
        "        task.variables[\"w\"] = {}\n",
        "        w = task.variables[\"w\"]\n",
        "        for p in range( len(products) ):\n",
        "            for k in range( k_vehicles ):\n",
        "                for m in range( len(task.data_model[\"vehicle_compartments\"][k]) ):\n",
        "                    for r in range( self.max_trips_per_day ):\n",
        "                        for t in range( planning_horizon ):\n",
        "                            w[(p, k, m, r, t)] = task.model.NewIntVar(0, 1, \"w_{}_{}_{}_{}\".format(p, k, m, r, t))\n",
        "\n",
        "        # 1 - if trip s is driven after trip r by vehicle k on day t; 0 - otherwise\n",
        "        task.variables[\"u\"] = {}\n",
        "        u = task.variables[\"u\"]\n",
        "        for t in range(planning_horizon):\n",
        "            for k in range(k_vehicles):\n",
        "                for r in range( self.max_trips_per_day - 1 ):\n",
        "                    s = r + 1\n",
        "                    u[(t, k, r, s)] = task.model.NewIntVar(0, 1, \"u_{}_{}_{}_{}\".format(t, k, r, s))\n",
        "\n",
        "        # quantity of product p in compartment m of vehicle k delivered to location i during trip r on day t\n",
        "        task.variables[\"q\"] = {}\n",
        "        q = task.variables[\"q\"]\n",
        "        for t in range( planning_horizon ):\n",
        "            for k in range( k_vehicles ):\n",
        "                for r in range(self.max_trips_per_day):\n",
        "                    for i in range( n_nodes ):\n",
        "                        for p in range( len(products) ):\n",
        "                            for m in range( len(task.data_model[\"vehicle_compartments\"][k]) ):\n",
        "                                q[(t, k, r, i, p, m)] = task.model.NewIntVar(0,\n",
        "                                                                             task.data_model[\"vehicle_compartments\"][k][m],\n",
        "                                                                             \"q_{}_{}_{}_{}_{}_{}\".format(t, k, r, i, p, m))\n",
        "\n",
        "        # the time vehicle k can start the service at station i during trip r on day t\n",
        "        vehicle_time_windows = task.data_model[\"vehicle_time_windows\"]\n",
        "        task.variables[\"S\"] = {}\n",
        "        S = task.variables[\"S\"]\n",
        "        for t in range(planning_horizon):\n",
        "            for k in range( k_vehicles ):\n",
        "                for r in range( self.max_trips_per_day ):\n",
        "                    for i in range( n_nodes ):\n",
        "                        working_start_time = vehicle_time_windows[k][0]\n",
        "                        working_end_time = vehicle_time_windows[k][1]\n",
        "                        S[(t, k, r, i)] = task.model.NewIntVar(working_start_time,\n",
        "                                                               working_end_time,\n",
        "                                                               \"S_{}_{}_{}_{}\".format(t, k, r, i))\n",
        "\n",
        "        # inventory level of product p at station i at the end of day t\n",
        "        max_inventory_level = np.max( task.data_model[\"station_data\"][:, 3] )\n",
        "        task.variables[\"I\"] = {}\n",
        "        I = task.variables[\"I\"]\n",
        "        for i in range(1, n_nodes):\n",
        "            for p in range(len(products)):\n",
        "                for t in range(planning_horizon):\n",
        "                    I[(i, p, t)] = task.model.NewIntVar(0, 100 * max_inventory_level, \"I_{}_{}_{}\".format(i, p, t))\n",
        "        # for constraint (3)\n",
        "        for i in range(1, n_nodes):\n",
        "            for p in range(len(products)):\n",
        "                I[(i, p, -1)] = task.model.NewIntVar(0, 100 * max_inventory_level, \"I_{}_{}_{}\".format(i, p, -1))\n",
        "\n",
        "\n",
        "        if self.verbose:\n",
        "            print(\"Variables count:\")\n",
        "            total_count = 0\n",
        "            for variable_name in task.variables.keys():\n",
        "                current_count = len( task.variables[variable_name].keys() )\n",
        "                print(\"{}: {}\".format( variable_name, current_count) )\n",
        "                total_count += current_count\n",
        "            print(\"Total: {}\".format( total_count ))\n",
        "\n",
        "        return task\n",
        "\n",
        "    def build_station_data_dict_(self, task):\n",
        "        station_data = task.data_model[\"station_data\"]\n",
        "        station_data_dict = {}\n",
        "        for i in range(len(station_data)):\n",
        "            station_id = station_data[i][0]\n",
        "            product_id = station_data[i][1]\n",
        "            safety_level = station_data[i][2]\n",
        "            tank_capacity = station_data[i][3]\n",
        "            inventory_level = station_data[i][4]\n",
        "            demands = station_data[i][5:]\n",
        "            station_data_dict[(station_id, product_id)] = {\n",
        "                \"safety_level\": safety_level,\n",
        "                \"tank_capacity\": tank_capacity,\n",
        "                \"inventory_level\": inventory_level,\n",
        "                \"demands\": demands\n",
        "            }\n",
        "\n",
        "        return station_data_dict\n",
        "\n",
        "\n",
        "    def add_min_sum_distance_objective_(self, task):\n",
        "\n",
        "        n_nodes = len( task.data_model[\"distance_matrix\"] )\n",
        "        max_trips = len( task.other_parameters[\"R\"] )\n",
        "        planning_horizon = task.other_parameters[\"planning_horizon\"]\n",
        "        k_vehicles = task.data_model[\"k_vehicles\"]\n",
        "\n",
        "        objective_expression = [\n",
        "            task.data_model[\"distance_matrix\"][i][j] * task.variables[\"x\"][t, k, r, i, j]\n",
        "            for k in range( k_vehicles )\n",
        "            for i in range( n_nodes )\n",
        "            for j in range( n_nodes )\n",
        "            for r in range( max_trips )\n",
        "            for t in range( planning_horizon )\n",
        "        ]\n",
        "\n",
        "        task.model.Minimize(sum(objective_expression))\n",
        "\n",
        "        return task\n",
        "\n",
        "    def add_station_inventory_constraints_(self, task):\n",
        "        # Boers, p.23, constraints (2)-(5)\n",
        "\n",
        "        I = task.variables[\"I\"]\n",
        "        planning_horizon = task.other_parameters[\"planning_horizon\"]\n",
        "        station_data_dict = task.station_data_dict\n",
        "\n",
        "        # constraint (2)\n",
        "        for t in range( planning_horizon ):\n",
        "            for station_data_key in station_data_dict.keys():\n",
        "                i = station_data_key[0]\n",
        "                p = station_data_key[1]\n",
        "                safety_level_i = station_data_dict[ (i, p) ][\"safety_level\"]\n",
        "                p_v = task.other_parameters[\"P_virtual_ids\"][p]\n",
        "                # Boers doesn't define L in >= L * safety_level_i\n",
        "                task.model.Add( I[(i, p_v, t)] >= safety_level_i )\n",
        "\n",
        "        # constraint (3)\n",
        "        q = task.variables[\"q\"]\n",
        "        for t in range( planning_horizon ):\n",
        "            for station_data_key in station_data_dict.keys():\n",
        "                i = station_data_key[0]\n",
        "                p = station_data_key[1]\n",
        "                p_v = task.other_parameters[\"P_virtual_ids\"][p]\n",
        "                tank_capacity_i = station_data_dict[(i, p)][\"tank_capacity\"]\n",
        "                delivered_q = [ q[(t, k, r, i, p_v, m)]\n",
        "                                for k in range( task.data_model[\"k_vehicles\"] )\n",
        "                                for m in range( len(task.data_model[\"vehicle_compartments\"][k]) )\n",
        "                                for r in task.other_parameters[\"R\"]\n",
        "                            ]\n",
        "                # Boers doesn't define L in <= L * tank_capacity_i\n",
        "                task.model.Add( I[(i, p_v, t-1)] + sum( delivered_q ) <= tank_capacity_i )\n",
        "\n",
        "        # constraint (4)\n",
        "        for station_data_key in station_data_dict.keys():\n",
        "            i = station_data_key[0]\n",
        "            p = station_data_key[1]\n",
        "            p_v = task.other_parameters[\"P_virtual_ids\"][p]\n",
        "            inventory_level_i_p = station_data_dict[(i, p)][\"inventory_level\"]\n",
        "            # Boers doesn't define L in == L * inventory_level_i_p\n",
        "            task.model.Add(I[(i, p_v, -1)] == inventory_level_i_p)\n",
        "\n",
        "        # constraint (5)\n",
        "        q = task.variables[\"q\"]\n",
        "        for t in range( planning_horizon ):\n",
        "            for station_data_key in station_data_dict.keys():\n",
        "                i = station_data_key[0]\n",
        "                p = station_data_key[1]\n",
        "                p_v = task.other_parameters[\"P_virtual_ids\"][p]\n",
        "                demand_i_p_t = station_data_dict[(i, p)][\"demands\"][t]\n",
        "                delivered_q = [q[(t, k, r, i, p_v, m)]\n",
        "                               for k in range(task.data_model[\"k_vehicles\"])\n",
        "                               for m in range(len(task.data_model[\"vehicle_compartments\"][k]))\n",
        "                               for r in task.other_parameters[\"R\"]\n",
        "                               ]\n",
        "                # Boers doesn't define L in L * demand_i_p_t\n",
        "                task.model.Add( I[(i, p_v, t)] == I[(i, p_v, t-1)] + sum( delivered_q ) - demand_i_p_t )\n",
        "\n",
        "        return task\n",
        "\n",
        "    def add_vehicle_constraints_(self, task):\n",
        "        # Boers, p.23, constraints (6)-(12)\n",
        "\n",
        "        q = task.variables[\"q\"]\n",
        "        x = task.variables[\"x\"]\n",
        "        w = task.variables[\"w\"]\n",
        "        z = task.variables[\"z\"]\n",
        "\n",
        "        k_vehicles = task.data_model[\"k_vehicles\"]\n",
        "        n_stations = len(task.data_model[\"distance_matrix\"])\n",
        "        restriction_matrix = task.data_model[\"restriction_matrix\"]\n",
        "        planning_horizon = task.other_parameters[\"planning_horizon\"]\n",
        "        trips = task.other_parameters[\"R\"]\n",
        "        products = task.other_parameters[\"P\"]\n",
        "\n",
        "        # # constraint (6)\n",
        "        # for k in range( k_vehicles ):\n",
        "        #     for i in range(1, n_stations ):\n",
        "        #         for t in range( planning_horizon ):\n",
        "        #             for r in trips:\n",
        "        #                 task.model.Add( z[(k, i, r, t)] <= restriction_matrix[k][i] )\n",
        "\n",
        "        # constraint (7)\n",
        "        for k in range( k_vehicles ):\n",
        "            for t in range( planning_horizon ):\n",
        "                for r in trips:\n",
        "                    task.model.Add( sum(x[(t, k, r, 0, j)] for j in range( n_stations )) == 1 )\n",
        "\n",
        "        # constraint (8)\n",
        "        for k in range( k_vehicles ):\n",
        "            for t in range( planning_horizon ):\n",
        "                for r in trips:\n",
        "                    for j in range( n_stations ):\n",
        "                        in_flow = sum([x[(t, k, r, i, j)] for i in range(n_stations)])\n",
        "                        out_flow = sum([x[(t, k, r, j, i)] for i in range(n_stations)])\n",
        "                        task.model.Add(in_flow - out_flow == 0)\n",
        "\n",
        "        # constraint (9)\n",
        "        for k in range( k_vehicles ):\n",
        "            for i in range(1, n_stations ):\n",
        "                for t in range( planning_horizon ):\n",
        "                    for r in trips:\n",
        "                        x_link_to_z = [ x[(t, k, r, i, j)] for j in range( n_stations ) if i != j ]\n",
        "                        task.model.Add( z[(k, i, r, t)] == sum( x_link_to_z ))\n",
        "\n",
        "        # constraint (10)\n",
        "        for i in range(1, n_stations ):\n",
        "            for k in range( k_vehicles ):\n",
        "                for m in range( len(task.data_model[\"vehicle_compartments\"][k]) ):\n",
        "                    for t in range( planning_horizon ):\n",
        "                        for r in task.other_parameters[\"R\"]:\n",
        "                            for p in range( len(products) ):\n",
        "                                # Boers doesn't specify L in <= L * z[(k, i, r, t)]\n",
        "                                compartment_capacity = task.data_model[\"vehicle_compartments\"][k][m]\n",
        "                                task.model.Add(q[(t, k, r, i, p, m)] <= compartment_capacity * z[(k, i, r, t)])\n",
        "\n",
        "        # constraint (11)\n",
        "        for k in range( k_vehicles ):\n",
        "            for m in range( len(task.data_model[\"vehicle_compartments\"][k]) ):\n",
        "                for t in range( planning_horizon ):\n",
        "                    for r in task.other_parameters[\"R\"]:\n",
        "                        for p in range( len(products) ):\n",
        "                            delivered_amount = [q[(t, k, r, i, p, m)] for i in range(1, n_stations )]\n",
        "                            compartment_capacity = task.data_model[\"vehicle_compartments\"][k][m]\n",
        "                            task.model.Add(sum( delivered_amount ) <= w[(p, k, m, r, t)] * compartment_capacity)\n",
        "\n",
        "        # constraint (12)\n",
        "        for k in range( k_vehicles ):\n",
        "            for m in range( len(task.data_model[\"vehicle_compartments\"][k]) ):\n",
        "                for t in range( planning_horizon ):\n",
        "                    for r in task.other_parameters[\"R\"]:\n",
        "                        w_expression = [ w[(p, k, m, r, t)] for p in range( len(products) ) ]\n",
        "                        task.model.Add( sum(w_expression) <= 1)\n",
        "\n",
        "        return task\n",
        "\n",
        "    def add_route_constraints_(self, task):\n",
        "\n",
        "        # Boers, p.23, constraints (13)-(18)\n",
        "\n",
        "        S = task.variables[\"S\"]\n",
        "        x = task.variables[\"x\"]\n",
        "        y = task.variables[\"y\"]\n",
        "        u = task.variables[\"u\"]\n",
        "        z = task.variables[\"z\"]\n",
        "\n",
        "        k_vehicles = task.data_model[\"k_vehicles\"]\n",
        "        n_stations = len(task.data_model[\"distance_matrix\"])\n",
        "        planning_horizon = task.other_parameters[\"planning_horizon\"]\n",
        "        vehicle_time_windows = task.data_model[\"vehicle_time_windows\"]\n",
        "        travel_time_matrix = task.data_model[\"travel_time_matrix\"]\n",
        "        service_times = task.data_model[\"service_times\"]\n",
        "\n",
        "        # constraints (13)-(14)\n",
        "        # realized into S definition\n",
        "\n",
        "        # constraint (15)\n",
        "        sum_travel_time = np.sum( travel_time_matrix )\n",
        "        for k in range(k_vehicles):\n",
        "            for r in task.other_parameters[\"R\"]:\n",
        "                for t in range( planning_horizon ):\n",
        "                    for i in range(1, n_stations ):\n",
        "                        for j in range(1, n_stations ):\n",
        "                            # Boers doesn't define L in L * (1 - x[(t, k, r, i, j)])\n",
        "                            task.model.Add( S[(t, k, r, i)] + travel_time_matrix[i][j] +\n",
        "                                            service_times[i] - sum_travel_time * (1 - x[(t, k, r, i, j)]) <= S[(t, k, r, j)])\n",
        "\n",
        "        # constraint (16)\n",
        "        sum_travel_time = np.sum(travel_time_matrix)\n",
        "        for t in range(planning_horizon):\n",
        "            for k in range(k_vehicles):\n",
        "                for r in range(len(task.other_parameters[\"R\"]) - 1):\n",
        "                    s = r + 1\n",
        "                    # Boers doesn't define L in L * (1 - u[(t, k, r, s)])\n",
        "                    task.model.Add( S[(t, k, s, 0)] + sum_travel_time * (1 - u[(t, k, r, s)]) >= S[(t, k, r, 0)] )\n",
        "\n",
        "        # !!!!! My custom constraint !!!!!!!\n",
        "        # Vehicle can't start a trip at the last second of a working day\n",
        "        # Vehicle should end a trip before a work day end\n",
        "        \"\"\"\n",
        "        sum_travel_time = np.sum(travel_time_matrix)\n",
        "        for k in range(k_vehicles):\n",
        "            for r in task.other_parameters[\"R\"]:\n",
        "                for t in range(planning_horizon):\n",
        "                    for i in range(1, n_stations):\n",
        "                        for j in range(1, n_stations):\n",
        "                            task.model.Add( S[(t, k, r, i)] + travel_time_matrix[i][j] + travel_time_matrix[j][i] +\n",
        "                                            service_times[i] - sum_travel_time * (1 - x[(t, k, r, i, j)])\n",
        "                                            <= vehicle_time_windows[k][1])\"\"\"\n",
        "\n",
        "        # constraint (17)\n",
        "        for k in range(k_vehicles):\n",
        "            for t in range(planning_horizon):\n",
        "                left_part = [ u[(t, k, r, r+1)]\n",
        "                              for r in range(len(task.other_parameters[\"R\"]) - 1)]\n",
        "                right_part = [ y[(k, r, t)] for r in range(len(task.other_parameters[\"R\"]))]\n",
        "                task.model.Add( sum( left_part ) >= sum( right_part ) - 1 )\n",
        "\n",
        "        # constraint (18)\n",
        "        for k in range(k_vehicles):\n",
        "            for t in range(planning_horizon):\n",
        "                for r in task.other_parameters[\"R\"]:\n",
        "                    for i in range(1, n_stations ):\n",
        "                        task.model.Add( z[(k, i, r, t)] <= y[(k, r, t)] )\n",
        "\n",
        "        return task\n",
        "\n",
        "    def add_speed_up_constraints_(self, task):\n",
        "        # Boers, p.25, constraints (27)-(29)\n",
        "\n",
        "        q = task.variables[\"q\"]\n",
        "        x = task.variables[\"x\"]\n",
        "        y = task.variables[\"y\"]\n",
        "        w = task.variables[\"w\"]\n",
        "\n",
        "        k_vehicles = task.data_model[\"k_vehicles\"]\n",
        "        n_stations = len(task.data_model[\"distance_matrix\"])\n",
        "        planning_horizon = task.other_parameters[\"planning_horizon\"]\n",
        "        trips = task.other_parameters[\"R\"]\n",
        "        products = task.other_parameters[\"P\"]\n",
        "\n",
        "        # constraint (27)\n",
        "        for t in range( planning_horizon ):\n",
        "            for k in range( k_vehicles ):\n",
        "                for r in trips:\n",
        "                    task.model.Add( sum([x[t, k, r, i, 0] for i in range(n_stations)]) == 1 )\n",
        "\n",
        "        # constraint (28)\n",
        "        for t in range( planning_horizon ):\n",
        "            for k in range( k_vehicles ):\n",
        "                for r in trips:\n",
        "                    for i in range(n_stations):\n",
        "                        for j in range(n_stations):\n",
        "                            task.model.Add( x[t, k, r, i, j] <= y[k, r, t] )\n",
        "\n",
        "        # constraint (29)\n",
        "        for t in range( planning_horizon ):\n",
        "            for k in range( k_vehicles ):\n",
        "                for r in trips:\n",
        "                    for m in range(len(task.data_model[\"vehicle_compartments\"][k])):\n",
        "                        for p in range(len(products)):\n",
        "                            for i in range(n_stations):\n",
        "                                # Boers doesn't define L in <= L * w[(p, k, m, r, t)]\n",
        "                                compartment_size = task.data_model[\"vehicle_compartments\"][k][m]\n",
        "                                task.model.Add(q[(t, k, r, i, p, m)] <= compartment_size * w[(p, k, m, r, t)])\n",
        "\n",
        "        return task"
      ]
    },
    {
      "cell_type": "markdown",
      "metadata": {
        "id": "B4skpAYipv5h"
      },
      "source": [
        "## TaskSolver"
      ]
    },
    {
      "cell_type": "code",
      "execution_count": 17,
      "metadata": {
        "id": "VgLHBkADpxlo"
      },
      "outputs": [],
      "source": [
        "\n",
        "import numpy as np\n",
        "from datetime import datetime\n",
        "\n",
        "from ortools.sat.python import cp_model\n",
        "from ortools.sat import cp_model_pb2\n",
        "from pathlib import Path\n",
        "\n",
        "class TaskSolver_MPPSRP_CPSAT():\n",
        "    def __init__(self, cache_dir=None,\n",
        "                 cache_all_feasible_solutions=False,\n",
        "                 solution_prefix=None,\n",
        "                 time_limit_milliseconds = None):\n",
        "\n",
        "        self.solver = cp_model.CpSolver()\n",
        "        self.cache_dir = cache_dir\n",
        "        self.solution_prefix = solution_prefix\n",
        "        self.cache_all_feasible_solutions = cache_all_feasible_solutions\n",
        "        self.time_limit_milliseconds = time_limit_milliseconds\n",
        "\n",
        "        pass\n",
        "\n",
        "    def solve(self, task):\n",
        "\n",
        "        if self.time_limit_milliseconds is not None:\n",
        "            self.solver.parameters.max_time_in_seconds = self.time_limit_milliseconds / 1000.0\n",
        "\n",
        "        status = self.solver.Solve( task.model, self.SolutionLogger( task, self.cache_dir,\n",
        "                                                                     self.cache_all_feasible_solutions,\n",
        "                                                                     self.solution_prefix) )\n",
        "        status = statuses_dict[ status ]\n",
        "\n",
        "        solution = None\n",
        "        if status in [\"OPTIMAL\", \"FEASIBLE\"]:\n",
        "            print(status)\n",
        "            solution = Solution_MPPSRP_CPSAT(task, self.solver)\n",
        "        else:\n",
        "            print(\"Status: {}\".format( status ))\n",
        "\n",
        "        return solution\n",
        "\n",
        "    class SolutionLogger(cp_model.CpSolverSolutionCallback):\n",
        "        \"\"\"Display the objective value and time of intermediate solutions.\"\"\"\n",
        "\n",
        "        def __init__(self, task, cache_dir = None,\n",
        "                     cache_all_feasible_solutions = True,\n",
        "                     solution_prefix=None):\n",
        "            cp_model.CpSolverSolutionCallback.__init__(self)\n",
        "\n",
        "            self.task = task\n",
        "            self.cache_dir = cache_dir\n",
        "            self.solution_prefix = solution_prefix\n",
        "            self.cache_all_feasible_solutions = cache_all_feasible_solutions\n",
        "\n",
        "            self.solutions_count = 0\n",
        "            self.best_objective = 10**9\n",
        "            self.start_time = datetime.now()\n",
        "\n",
        "        def on_solution_callback(self) -> None:\n",
        "            \"\"\"Called on each new solution.\"\"\"\n",
        "            current_time = datetime.now()\n",
        "            objective_value = self.ObjectiveValue()\n",
        "            print( \"Solution: {} | Objective value: {} | \"\n",
        "                   \"Solving time: {} | Datetime: {}\".format( self.solutions_count,\n",
        "                                                            objective_value,\n",
        "                                                            current_time - self.start_time,\n",
        "                                                            current_time) )\n",
        "            if self.cache_dir is not None:\n",
        "                solution_to_cache = Solution_MPPSRP_CPSAT(self.task, self)\n",
        "\n",
        "                if self.solution_prefix is None:\n",
        "                    self.solution_prefix = \"solution\"\n",
        "\n",
        "                if self.cache_all_feasible_solutions:\n",
        "                    save( solution_to_cache,\n",
        "                          Path( self.cache_dir, self.solution_prefix + \"_\" + \"{}.pkl\".format(self.solutions_count) ),\n",
        "                          verbose=False )\n",
        "\n",
        "                if objective_value < self.best_objective:\n",
        "                    self.best_objective = objective_value\n",
        "\n",
        "                    save( solution_to_cache,\n",
        "                          Path(self.cache_dir, self.solution_prefix + \"_\" + \"best.pkl\"),\n",
        "                          verbose=False )\n",
        "\n",
        "            self.solutions_count += 1\n",
        "\n",
        "        def solution_count(self) -> int:\n",
        "\n",
        "            return self.solutions_count"
      ]
    },
    {
      "cell_type": "markdown",
      "metadata": {
        "id": "kZMuU3kLqETv"
      },
      "source": [
        "# Scripts"
      ]
    },
    {
      "cell_type": "markdown",
      "metadata": {
        "id": "EVutIRFOqRQU"
      },
      "source": [
        "## Graph Generator"
      ]
    },
    {
      "cell_type": "markdown",
      "metadata": {
        "id": "jAOriAtTqTBt"
      },
      "source": [
        "### Wheel Prime"
      ]
    },
    {
      "cell_type": "code",
      "execution_count": 18,
      "metadata": {
        "id": "mbQBGuIXqU_-",
        "colab": {
          "base_uri": "https://localhost:8080/",
          "height": 0
        },
        "outputId": "c18c7070-1c70-4b54-a1e9-e9386245eacd"
      },
      "outputs": [
        {
          "output_type": "stream",
          "name": "stdout",
          "text": [
            "done\n"
          ]
        },
        {
          "output_type": "display_data",
          "data": {
            "text/plain": [
              "<Figure size 640x480 with 1 Axes>"
            ],
            "image/png": "[encoded data removed]"
          },
          "metadata": {}
        }
      ],
      "source": [
        "import matplotlib\n",
        "#matplotlib.use(\"TkAgg\")\n",
        "import matplotlib.pyplot as plt\n",
        "from pprint import pprint\n",
        "\n",
        "graph_generator = GraphGenerator()\n",
        "\n",
        "g = graph_generator.build_graph( 10, graph_type=\"wheel\", layout=\"kamada-kawai\")\n",
        "g = graph_generator.alter_graph( g, shift=(1.3, 1.3), scale=(100.0, 100.0), rotation_angle=0, convert_to_int=True )\n",
        "g = graph_generator.init_edge_weights( g, round_to = 1 )\n",
        "weight_matrix = graph_generator.build_edge_weight_matrix(g, fill_empty_policy =\"shortest\", make_int=True)\n",
        "\n",
        "\n",
        "dataset_name = \"wheel_prime_10\"\n",
        "graph_generator.plot_graph( g, with_labels=True, with_edge_labels=True )\n",
        "#plt.show()\n",
        "plt.savefig( Path( images_dir, \"{}.jpg\".format( dataset_name ) ), dpi=1000 )\n",
        "graph_data = {}\n",
        "graph_data[\"graph\"] = g\n",
        "graph_data[\"weight_matrix\"] = weight_matrix\n",
        "save( graph_data, Path(graphs_dir, \"{}.pkl\".format( dataset_name ) ))\n",
        "\n",
        "print(\"done\")"
      ]
    },
    {
      "cell_type": "code",
      "execution_count": 19,
      "metadata": {
        "id": "lA9JbJ8V4Ksn"
      },
      "outputs": [],
      "source": [
        "# graph_generator = GraphGenerator()\n",
        "\n",
        "# g = graph_generator.build_graph( 5, graph_type=\"tree\", layout=\"kamada-kawai\")\n",
        "# g = graph_generator.alter_graph( g, shift=(1.0, 1.0), scale=(100.0, 100.0), rotation_angle=0, convert_to_int=True )\n",
        "\n",
        "# composed_graph = graph_generator.init_edge_weights( g, round_to=1 )\n",
        "# weight_matrix = graph_generator.build_edge_weight_matrix(composed_graph, fill_empty_policy=\"shortest\")\n",
        "\n",
        "# dataset_name = \"tree_prime_5\"\n",
        "# graph_generator.plot_graph( composed_graph, with_labels=True, with_edge_labels=False,\n",
        "#                             node_size=20, font_size=8)\n",
        "# #plt.show()\n",
        "# plt.savefig( Path( images_dir, \"{}.jpg\".format( dataset_name ) ), dpi=1000 )\n",
        "# graph_data = {}\n",
        "# graph_data[\"graph\"] = composed_graph\n",
        "# graph_data[\"weight_matrix\"] = weight_matrix\n",
        "# save( graph_data, Path( graphs_dir, \"{}.pkl\".format( dataset_name ) ))\n",
        "\n",
        "# print(\"done\")"
      ]
    },
    {
      "cell_type": "code",
      "execution_count": 20,
      "metadata": {
        "id": "-WTnRxw-Hg2s"
      },
      "outputs": [],
      "source": [
        "# graph_generator = GraphGenerator()\n",
        "\n",
        "# g_2 = graph_generator.build_graph( 10, graph_type=\"wheel\", layout=\"kamada-kawai\")\n",
        "# g_2 = graph_generator.alter_graph( g_2, shift=(1.3, 1.3), scale=(100.0, 100.0), rotation_angle=0, convert_to_int=True )\n",
        "\n",
        "# g_3 = graph_generator.build_graph( 20, graph_type=\"ring\", layout=\"kamada-kawai\")\n",
        "# g_3 = graph_generator.alter_graph( g_3, shift=(1.0, 1.0), scale=(130.0, 130.0), rotation_angle=0, convert_to_int=True )\n",
        "\n",
        "# g = graph_generator.compose_graphs( g_2, g_3, m_routes=4, k_neighbours=2,\n",
        "#                                     routes_strategy=\"global\", neighbours_strategy=\"nearest\" )\n",
        "# g = graph_generator.init_edge_weights( g, round_to = 1 )\n",
        "# weight_matrix = graph_generator.build_edge_weight_matrix(g, fill_empty_policy=\"shortest\")\n",
        "\n",
        "\n",
        "# dataset_name = \"wheel_10_ring_20\"\n",
        "# graph_generator.plot_graph( g, with_labels=True, with_edge_labels=True )\n",
        "# #plt.show()\n",
        "# plt.savefig( Path( images_dir, \"{}.jpg\".format( dataset_name ) ), dpi=1000 )\n",
        "# graph_data = {}\n",
        "# graph_data[\"graph\"] = g\n",
        "# graph_data[\"weight_matrix\"] = weight_matrix\n",
        "# save( graph_data, Path( graphs_dir, \"{}.pkl\".format( dataset_name ) ))\n",
        "\n",
        "# print(\"done\")"
      ]
    },
    {
      "cell_type": "markdown",
      "metadata": {
        "id": "pdCi52d2_rEe"
      },
      "source": [
        "### Graph generator"
      ]
    },
    {
      "cell_type": "code",
      "execution_count": 21,
      "metadata": {
        "id": "QN_5nB3J_xEy"
      },
      "outputs": [],
      "source": [
        "def create_wheel_noised(num_nodes):\n",
        "  graph_generator = GraphGenerator()\n",
        "\n",
        "  g = graph_generator.build_graph( num_nodes, graph_type=\"wheel\", layout=\"kamada-kawai\")\n",
        "  g = graph_generator.alter_graph( g, shift=(1.3, 1.3), scale=(100.0, 100.0), rotation_angle=0, convert_to_int=True,\n",
        "                                  noised_nodes_part=0.8, node_noise_strength=0.2, random_seed=random.randint(0,100000))\n",
        "  g = graph_generator.init_edge_weights( g, round_to = 1 )\n",
        "  weight_matrix = graph_generator.build_edge_weight_matrix(g, fill_empty_policy =\"shortest\", make_int=True)\n",
        "\n",
        "  graph_data = {}\n",
        "  graph_data[\"graph\"] = g\n",
        "  graph_data[\"weight_matrix\"] = weight_matrix\n",
        "  return graph_data"
      ]
    },
    {
      "cell_type": "code",
      "execution_count": 22,
      "metadata": {
        "id": "M8cNRhGyQQ6O"
      },
      "outputs": [],
      "source": [
        "def create_tree_noised(num_nodes):\n",
        "\n",
        "  graph_generator = GraphGenerator()\n",
        "\n",
        "  g = graph_generator.build_graph( num_nodes, graph_type=\"tree\", layout=\"spring\", random_seed=random.randint(0,100000))\n",
        "  g = graph_generator.alter_graph( g, shift=(1.0, 1.0), scale=(100.0, 100.0), rotation_angle=0, convert_to_int=True )\n",
        "  g = graph_generator.alter_graph( g, shift=(1.0, 1.0), scale=(1.0, 1.0),\n",
        "                                  noised_nodes_part=1.0, node_noise_strength=0.1, random_seed=random.randint(0,100000),\n",
        "                                  rotation_angle=0, convert_to_int=True )\n",
        "  g = graph_generator.alter_graph( g, shift=(1.0, 1.0), scale=(1.0, 1.0),\n",
        "                                  noised_nodes_part=0.4, node_noise_strength=0.2, random_seed=random.randint(0,100000),\n",
        "                                  rotation_angle=0, convert_to_int=True )\n",
        "\n",
        "  composed_graph = graph_generator.init_edge_weights( g, round_to=1 )\n",
        "  weight_matrix = graph_generator.build_edge_weight_matrix(composed_graph, fill_empty_policy=\"shortest\")\n",
        "\n",
        "  graph_data = {}\n",
        "  graph_data[\"graph\"] = composed_graph\n",
        "  graph_data[\"weight_matrix\"] = weight_matrix\n",
        "\n",
        "  return graph_data"
      ]
    },
    {
      "cell_type": "code",
      "execution_count": 23,
      "metadata": {
        "id": "8FNcC5szH0No"
      },
      "outputs": [],
      "source": [
        "def create_grid_noised(num_nodes):\n",
        "  graph_generator = GraphGenerator()\n",
        "\n",
        "  g = graph_generator.build_graph( num_nodes, graph_type=\"cube\", layout=\"kamada-kawai\" )\n",
        "  g = graph_generator.alter_graph( g, shift=(1.0, 1.0), scale=(100.0, 100.0), rotation_angle=0, convert_to_int=True )\n",
        "  g = graph_generator.alter_graph( g, shift=(1.0, 1.0), scale=(1.0, 1.0),\n",
        "                                  noised_nodes_part=1.0, node_noise_strength=0.05, random_seed=45,\n",
        "                                  rotation_angle=0, convert_to_int=True )\n",
        "  g = graph_generator.alter_graph( g, shift=(1.0, 1.0), scale=(1.0, 1.0),\n",
        "                                  noised_nodes_part=0.2, node_noise_strength=0.2, random_seed=46,\n",
        "                                  rotation_angle=0, convert_to_int=True )\n",
        "\n",
        "  g = graph_generator.init_edge_weights( g, round_to = 3 )\n",
        "  weight_matrix = graph_generator.build_edge_weight_matrix(g, fill_empty_policy=\"shortest\")\n",
        "\n",
        "  graph_data = {}\n",
        "  graph_data[\"graph\"] = g\n",
        "  graph_data[\"weight_matrix\"] = weight_matrix\n",
        "\n",
        "  return graph_data"
      ]
    },
    {
      "cell_type": "markdown",
      "metadata": {
        "id": "IZvwG8O3wSZV"
      },
      "source": [
        "### Generate Dataset"
      ]
    },
    {
      "cell_type": "code",
      "execution_count": 24,
      "metadata": {
        "id": "0wbSL72FI0Fv"
      },
      "outputs": [],
      "source": [
        "def get_graph_dict(synth_data,\n",
        "                   num_nodes,\n",
        "                   products_count,\n",
        "                   compartment_capacity,\n",
        "                   planning_horizon,\n",
        "                   noise_demand,\n",
        "                   num_depots=1,\n",
        "                   k_vehicles=1,\n",
        "                   draw=False):\n",
        "    data_builder = DataBuilder_MPPSRP_Simple(synth_data[\"weight_matrix\"],\n",
        "                                         distance_multiplier=1, travel_time_multiplier=60*60,\n",
        "                                         planning_horizon=planning_horizon,\n",
        "                                         safety_level=0.05, max_level=0.95,\n",
        "                                         initial_inventory_level=0.5, tank_capacity=100,\n",
        "                                         depot_service_time = 0*60, station_service_time=0*60,\n",
        "                                         demand=10, products_count=products_count,\n",
        "                                         k_vehicles=k_vehicles, compartments=[products_count * [compartment_capacity]],\n",
        "                                         mean_vehicle_speed=60, vehicle_time_windows=[[9*60*60, 18*60*60]],\n",
        "                                         noise_initial_inventory=0.0, noise_tank_capacity=0.0,\n",
        "                                         noise_compartments=0.0, noise_demand=noise_demand,\n",
        "                                         noise_vehicle_time_windows=0.0,\n",
        "                                         noise_restrictions = 0.0,\n",
        "                                         random_seed=45)\n",
        "\n",
        "    graph_data = data_builder.build_data_model()\n",
        "    if draw:\n",
        "      graph_generator.plot_graph( synth_data['graph'], with_labels=True, with_edge_labels=True )\n",
        "\n",
        "    # get node position\n",
        "    graph = synth_data['graph']\n",
        "    positions = nx.get_node_attributes(graph, 'pos').values()\n",
        "    positions = np.asarray(list(positions))\n",
        "\n",
        "    # get depots\n",
        "    depots = np.array([0]) #np.random.choice(num_nodes, size=num_depots, replace=False)\n",
        "\n",
        "    # get and normalize weight matrix\n",
        "    weight_matrix = graph_data['travel_time_matrix']\n",
        "    #weight_matrix = (weight_matrix-weight_matrix.min())/(weight_matrix.max()-weight_matrix.min())\n",
        "\n",
        "    # get demands and normalize by compartment_capacity\n",
        "    plan_horizon_prods = []\n",
        "    min_capacities = []\n",
        "    max_capacities = []\n",
        "    init_capacities = []\n",
        "    for day_num in range(planning_horizon):\n",
        "\n",
        "      #demands\n",
        "      demand_idx = 5\n",
        "      prods = []\n",
        "      for i in range(products_count):\n",
        "        products_type_mask = graph_data['station_data'][:,1] == i\n",
        "        demands = graph_data['station_data'][products_type_mask][:, demand_idx + day_num]\n",
        "        demands = np.insert(demands, 0, 0)\n",
        "        demands = demands / compartment_capacity\n",
        "        prods.append(demands)\n",
        "      prods = np.stack(prods, axis=0).T\n",
        "      plan_horizon_prods.append(prods)\n",
        "\n",
        "    for i in range(products_count):\n",
        "      products_type_mask = graph_data['station_data'][:,1] == i\n",
        "      #min_capacities\n",
        "      min_cap_idx = 2\n",
        "      min_capacitie = graph_data['station_data'][products_type_mask][:, min_cap_idx]\n",
        "      min_capacitie = np.insert(min_capacitie, 0, 0)\n",
        "      min_capacitie = min_capacitie / compartment_capacity\n",
        "      min_capacities.append(min_capacitie)\n",
        "\n",
        "      #max_capacities\n",
        "      max_cap_idx = 3\n",
        "      max_capacitie = graph_data['station_data'][products_type_mask][:, max_cap_idx]\n",
        "      max_capacitie = np.insert(max_capacitie, 0, 0)\n",
        "      max_capacitie = max_capacitie / compartment_capacity\n",
        "      max_capacities.append(max_capacitie)\n",
        "\n",
        "      #init_capacities\n",
        "      init_cap_idx = 4\n",
        "      init_capacitie = graph_data['station_data'][products_type_mask][:, init_cap_idx]\n",
        "      init_capacitie = np.insert(init_capacitie, 0, 0)\n",
        "      init_capacitie = init_capacitie / compartment_capacity\n",
        "      init_capacities.append(init_capacitie)\n",
        "\n",
        "\n",
        "    max_capacities = np.stack(max_capacities, axis=0).T\n",
        "    min_capacities = np.stack(min_capacities, axis=0).T\n",
        "    init_capacities = np.stack(init_capacities, axis=0).T\n",
        "\n",
        "    time_windows = graph_data['vehicle_time_windows']\n",
        "    time_deltas = time_windows[:,1] - time_windows[:,0]\n",
        "    time_deltas = time_deltas * planning_horizon\n",
        "\n",
        "    model_for_nn = {\n",
        "        'positions':positions,\n",
        "        'travel_time_matrix':weight_matrix,\n",
        "        'node_demand':np.array(plan_horizon_prods),\n",
        "        'products_count':products_count,\n",
        "        'compartment_capacity':compartment_capacity,\n",
        "        'num_nodes':num_nodes,\n",
        "        'depots':depots,\n",
        "        'k_vehicles':k_vehicles,\n",
        "        'vehicle_time_windows':time_deltas,\n",
        "        'restriction_matrix':graph_data['restriction_matrix'],\n",
        "        'service_times':graph_data['service_times'],\n",
        "        'min_capacities':min_capacities,\n",
        "        'max_capacities':max_capacities,\n",
        "        'init_capacities':init_capacities,\n",
        "    }\n",
        "\n",
        "    return model_for_nn, graph_data"
      ]
    },
    {
      "cell_type": "code",
      "execution_count": 25,
      "metadata": {
        "id": "FgzR_9GewUux"
      },
      "outputs": [],
      "source": [
        "def generate_dataset(graph_creation_method,\n",
        "                     num_nodes,\n",
        "                     num_graphs,\n",
        "                     products_count,\n",
        "                     num_depots=1,\n",
        "                     k_vehicles=2,\n",
        "                     compartment_capacity=50,\n",
        "                     planning_horizon=1,\n",
        "                     noise_demand=0.2,\n",
        "                     dataset_name=None,\n",
        "                     dataset_dir='/content/drive/MyDrive/GraphDataset',\n",
        "                     draw=False,\n",
        "                     del_previous_dir=False,\n",
        "                     generating_same_graph=True):\n",
        "\n",
        "  if del_previous_dir:\n",
        "    shutil.rmtree(dataset_dir, ignore_errors=True)\n",
        "\n",
        "  if not os.path.exists(dataset_dir):\n",
        "    os.makedirs(dataset_dir)\n",
        "\n",
        "  if dataset_name == None:\n",
        "    dataset_name = f'{graph_creation_method.__name__}_{num_nodes}'\n",
        "\n",
        "  if generating_same_graph:\n",
        "    synth_data = graph_creation_method(num_nodes)\n",
        "    model_for_nn, model_for_cpsat = get_graph_dict(synth_data=synth_data,\n",
        "                                     num_nodes=num_nodes,\n",
        "                                     products_count=products_count,\n",
        "                                     compartment_capacity=compartment_capacity,\n",
        "                                     noise_demand=noise_demand,\n",
        "                                     planning_horizon=planning_horizon, draw=draw)\n",
        "    for idx in tqdm(range(num_graphs)):\n",
        "      save( model_for_nn, Path(dataset_dir, f\"{dataset_name}_{idx}.pkl\"))\n",
        "    return model_for_cpsat\n",
        "  else:\n",
        "    for idx in tqdm(range(num_graphs)):\n",
        "      synth_data = graph_creation_method(num_nodes)\n",
        "      model_for_nn, _ = get_graph_dict(synth_data=synth_data,\n",
        "                                      num_nodes=num_nodes,\n",
        "                                      products_count=products_count,\n",
        "                                      compartment_capacity=compartment_capacity,\n",
        "                                      noise_demand=noise_demand,\n",
        "                                      planning_horizon=planning_horizon, draw=draw)\n",
        "\n",
        "      save( model_for_nn, Path(dataset_dir, f\"{dataset_name}_{idx}.pkl\"))"
      ]
    },
    {
      "cell_type": "code",
      "execution_count": 26,
      "metadata": {
        "id": "IU0pWj-_oFdD"
      },
      "outputs": [],
      "source": [
        "import os\n",
        "import pandas as pd\n",
        "from torchvision.io import read_image\n",
        "import torch\n",
        "from torch.utils.data import Dataset\n",
        "from torchvision import datasets\n",
        "from torchvision.transforms import ToTensor\n",
        "import matplotlib.pyplot as plt\n",
        "\n",
        "class CustomImageDataset(Dataset):\n",
        "    def __init__(self, dataset_dir,\n",
        "                 generation_function,\n",
        "                 num_nodes,\n",
        "                 num_graphs,\n",
        "                 compartment_capacity,\n",
        "                 planning_horizon,\n",
        "                 noise_demand,\n",
        "                 num_depots,\n",
        "                 k_vehicles,\n",
        "                 products_count):\n",
        "\n",
        "      self.dataset_dir = dataset_dir\n",
        "      self.num_nodes = num_nodes\n",
        "      self.num_graphs = num_graphs\n",
        "      self.compartment_capacity = compartment_capacity\n",
        "      self.planning_horizon = planning_horizon\n",
        "      self.num_depots = num_depots\n",
        "      self.k_vehicles = k_vehicles\n",
        "      self.products_count = products_count\n",
        "\n",
        "      self.model_for_cpsat = generate_dataset(create_wheel_noised,\n",
        "                 num_nodes=num_nodes,\n",
        "                 num_graphs=num_graphs,\n",
        "                 compartment_capacity=compartment_capacity,\n",
        "                 products_count=products_count,\n",
        "                 planning_horizon=planning_horizon,\n",
        "                 noise_demand=noise_demand,\n",
        "                 num_depots=num_depots,\n",
        "                 k_vehicles=k_vehicles,\n",
        "                 dataset_dir = dataset_dir,\n",
        "                 del_previous_dir=True,\n",
        "                 generating_same_graph=True)\n",
        "\n",
        "      self.graphs = os.listdir(dataset_dir)\n",
        "\n",
        "    def __len__(self):\n",
        "        return len(self.graphs)\n",
        "\n",
        "    def __getitem__(self, idx):\n",
        "        file = self.graphs[idx]\n",
        "        graph = load(Path(self.dataset_dir, file))\n",
        "\n",
        "        return graph['positions'],\\\n",
        "          graph['travel_time_matrix'], \\\n",
        "          graph['node_demand'],\\\n",
        "          graph['depots'],\\\n",
        "          graph['vehicle_time_windows'],\\\n",
        "          graph['restriction_matrix'],\\\n",
        "          graph['service_times'],\\\n",
        "          graph['min_capacities'],\\\n",
        "          graph['max_capacities'],\\\n",
        "          graph['init_capacities']"
      ]
    },
    {
      "cell_type": "markdown",
      "metadata": {
        "id": "Iz5U8Qqn6DhQ"
      },
      "source": [
        "## Path drawer"
      ]
    },
    {
      "cell_type": "code",
      "execution_count": 27,
      "metadata": {
        "id": "8hrVCfbK6GVk"
      },
      "outputs": [],
      "source": [
        "def draw_paths(data_nn, routes):\n",
        "  G = nx.Graph()\n",
        "  edges = []\n",
        "  for r in routes:\n",
        "      route_edges = [(r[n],r[n+1]) for n in range(len(r)-1)]\n",
        "      G.add_nodes_from(r)\n",
        "      G.add_edges_from(route_edges)\n",
        "      edges.append(route_edges)\n",
        "\n",
        "  print(\"Graph has %d nodes with %d edges\" %(G.number_of_nodes(),\n",
        "  G.number_of_edges()))\n",
        "\n",
        "  pos = data_nn['positions']\n",
        "  nx.draw_networkx_nodes(G,pos=pos)\n",
        "  nx.draw_networkx_labels(G,pos=pos)\n",
        "  colors = list(mcolors.TABLEAU_COLORS.keys())\n",
        "  for ctr, edgelist in enumerate(edges):\n",
        "      nx.draw_networkx_edges(G,pos=pos,edgelist=edgelist,edge_color = colors[ctr % len(colors)], width=5)\n",
        "  plt.savefig('this.png')"
      ]
    },
    {
      "cell_type": "markdown",
      "metadata": {
        "id": "Nr319dKR_aYr"
      },
      "source": [
        "## Extract paths"
      ]
    },
    {
      "cell_type": "markdown",
      "metadata": {
        "id": "c5QSpYJ3_zfI"
      },
      "source": [
        "### From nn predictions"
      ]
    },
    {
      "cell_type": "code",
      "execution_count": 28,
      "metadata": {
        "id": "fLoXaaSC_ef3"
      },
      "outputs": [],
      "source": [
        "def divide_to_paths_nn(actions):\n",
        "\n",
        "  particular_value = 0\n",
        "  result = []\n",
        "  temp_list = []\n",
        "  for i in actions:\n",
        "      if i == particular_value:\n",
        "          temp_list.append(i)\n",
        "          result.append(temp_list)\n",
        "          temp_list.insert(0,0)\n",
        "          temp_list = []\n",
        "      else:\n",
        "          temp_list.append(i)\n",
        "  result.append(temp_list)\n",
        "  result.pop(0)\n",
        "  result.pop(-1)\n",
        "  return result"
      ]
    },
    {
      "cell_type": "markdown",
      "metadata": {
        "id": "i2CU2v01_1g9"
      },
      "source": [
        "### From cpsat prediction"
      ]
    },
    {
      "cell_type": "code",
      "execution_count": 29,
      "metadata": {
        "id": "MFQ8HEai_92s"
      },
      "outputs": [],
      "source": [
        "def divide_to_path_cpsat(routes_schedule):\n",
        "  result_paths = []\n",
        "  for car in routes_schedule[0]:\n",
        "    for e in car:\n",
        "      result_paths.append(e[0])\n",
        "  return result_paths"
      ]
    },
    {
      "cell_type": "markdown",
      "metadata": {
        "id": "J0wQHMcEqILH"
      },
      "source": [
        "## CPSAT"
      ]
    },
    {
      "cell_type": "code",
      "execution_count": 30,
      "metadata": {
        "id": "wUsRr5bguP55"
      },
      "outputs": [],
      "source": [
        "products_count = 3\n",
        "compartment_capacity = 50"
      ]
    },
    {
      "cell_type": "code",
      "execution_count": 31,
      "metadata": {
        "id": "nXxpSHOcSDLO"
      },
      "outputs": [],
      "source": [
        "from pprint import pprint\n",
        "from pathlib import Path\n",
        "from datetime import datetime\n",
        "\n",
        "dataset_name = \"wheel_prime_10\"\n",
        "#dataset_name = \"wheel_noised_10\"\n",
        "#dataset_name = \"wheel_prime_21\"\n",
        "#dataset_name = \"wheel_noised_21\"\n",
        "#dataset_name = \"wheel_10_ring_20\"\n",
        "#dataset_name = \"grid_noised_49\"\n",
        "#dataset_name = \"grid_noised_64\"\n",
        "#dataset_name = \"tree_prime_4\"\n",
        "#dataset_name = \"tree_prime_5\"\n",
        "#dataset_name = \"tree_noised_5\"\n",
        "#dataset_name = \"mix_prime_78\"\n",
        "#dataset_name = \"mix_noised_78\"\n",
        "#dataset_name = \"moskow_prime_248\"\n",
        "#dataset_name = \"moskow_noised_248\"\n",
        "#dataset_name = \"moskow_prime_380\"\n",
        "#dataset_name = \"moskow_noised_380\"\n",
        "synth_data = load( Path( graphs_dir, \"{}.pkl\".format( dataset_name )))\n",
        "\n",
        "data_builder = DataBuilder_MPPSRP_Simple(synth_data[\"weight_matrix\"],\n",
        "                                         distance_multiplier=1, travel_time_multiplier=60*60,\n",
        "                                         planning_horizon=3,\n",
        "                                         safety_level=0.05, max_level=0.95,\n",
        "                                         initial_inventory_level=0.5, tank_capacity=100,\n",
        "                                         depot_service_time = 0*60, station_service_time=0*60,\n",
        "                                         demand=10, products_count=2,\n",
        "                                         k_vehicles=2, compartments=[3 * [compartment_capacity]],\n",
        "                                         mean_vehicle_speed=60, vehicle_time_windows=[[9*60*60, 18*60*60]],\n",
        "                                         noise_initial_inventory=0.0, noise_tank_capacity=0.2,\n",
        "                                         noise_compartments=0.0, noise_demand=0.2,\n",
        "                                         noise_vehicle_time_windows=0.2,\n",
        "                                         noise_restrictions = 0.0,\n",
        "                                         random_seed=45)\n",
        "data_model = data_builder.build_data_model()\n",
        "\n",
        "# task_builder = TaskBuilder_MPPSRP_FullMILP_CPSAT( max_trips_per_day=100, verbose=True )\n",
        "# task = task_builder.build_task( data_model )\n",
        "\n",
        "# print(\"Dataset name: {}\".format( dataset_name ))\n",
        "# print(\"Solving start time: {}\".format( datetime.now() ))\n",
        "# task_solver = TaskSolver_MPPSRP_CPSAT( cache_dir=interim_dir,\n",
        "#                                        cache_all_feasible_solutions=False,\n",
        "#                                        solution_prefix=dataset_name,\n",
        "#                                        time_limit_milliseconds=120_000 )\n",
        "# solution = task_solver.solve( task )\n",
        "\n",
        "# print('kpi')\n",
        "# kpi_dict = solution.get_kpis()\n",
        "# pprint( kpi_dict )\n",
        "\n",
        "# print()\n",
        "# routes_schedule = solution.get_routes_schedule()\n",
        "# pprint( routes_schedule )\n",
        "\n",
        "# print(\"done\")"
      ]
    },
    {
      "cell_type": "code",
      "execution_count": 32,
      "metadata": {
        "id": "oXDlIbRANUCz",
        "colab": {
          "base_uri": "https://localhost:8080/"
        },
        "outputId": "fcdf4c05-f94d-4788-b2ae-9aa7f702de28"
      },
      "outputs": [
        {
          "output_type": "execute_result",
          "data": {
            "text/plain": [
              "{'distance_matrix': array([[  0, 100, 100,  99, 100, 100, 100,  99, 100, 100],\n",
              "        [100,   0,  68, 137, 200, 200, 200, 200, 137,  68],\n",
              "        [100,  68,   0,  67, 137, 200, 200, 200, 201, 137],\n",
              "        [ 99, 137,  67,   0,  69, 137, 200, 199, 200, 200],\n",
              "        [100, 200, 137,  69,   0,  68, 136, 200, 200, 200],\n",
              "        [100, 200, 200, 137,  68,   0,  68, 137, 200, 200],\n",
              "        [100, 200, 200, 200, 136,  68,   0,  69, 137, 200],\n",
              "        [ 99, 200, 200, 199, 200, 137,  69,   0,  67, 137],\n",
              "        [100, 137, 201, 200, 200, 200, 137,  67,   0,  68],\n",
              "        [100,  68, 137, 200, 200, 200, 200, 137,  68,   0]]),\n",
              " 'travel_time_matrix': array([[    0,  6000,  6000,  5940,  6000,  6000,  6000,  5940,  6000,\n",
              "          6000],\n",
              "        [ 6000,     0,  4080,  8220, 12000, 12000, 12000, 12000,  8220,\n",
              "          4080],\n",
              "        [ 6000,  4080,     0,  4020,  8220, 12000, 12000, 12000, 12060,\n",
              "          8220],\n",
              "        [ 5940,  8220,  4020,     0,  4140,  8220, 12000, 11940, 12000,\n",
              "         12000],\n",
              "        [ 6000, 12000,  8220,  4140,     0,  4080,  8160, 12000, 12000,\n",
              "         12000],\n",
              "        [ 6000, 12000, 12000,  8220,  4080,     0,  4080,  8220, 12000,\n",
              "         12000],\n",
              "        [ 6000, 12000, 12000, 12000,  8160,  4080,     0,  4140,  8220,\n",
              "         12000],\n",
              "        [ 5940, 12000, 12000, 11940, 12000,  8220,  4140,     0,  4020,\n",
              "          8220],\n",
              "        [ 6000,  8220, 12060, 12000, 12000, 12000,  8220,  4020,     0,\n",
              "          4080],\n",
              "        [ 6000,  4080,  8220, 12000, 12000, 12000, 12000,  8220,  4080,\n",
              "             0]]),\n",
              " 'station_data': array([[  1,   0,   3,  65,  34,   8,   8,   8],\n",
              "        [  1,   1,   6, 126,  66,   9,   7,   9],\n",
              "        [  2,   0,   4,  85,  45,  12,   7,   9],\n",
              "        [  2,   1,   5, 107,  56,  13,   8,   8],\n",
              "        [  3,   0,   7, 137,  72,  10,   9,  11],\n",
              "        [  3,   1,   3,  63,  33,   6,  10,  10],\n",
              "        [  4,   0,   4,  85,  45,   9,   8,  10],\n",
              "        [  4,   1,   4,  89,  46,  12,  10,  10],\n",
              "        [  5,   0,   4,  77,  40,  10,   9,   8],\n",
              "        [  5,   1,   6, 116,  61,  10,  12,  11],\n",
              "        [  6,   0,   4,  91,  48,   9,  12,  11],\n",
              "        [  6,   1,   6, 119,  62,  12,   6,  10],\n",
              "        [  7,   0,   4,  84,  44,  13,  13,   9],\n",
              "        [  7,   1,   5, 101,  53,   8,   8,   9],\n",
              "        [  8,   0,   4,  86,  45,   9,  10,   9],\n",
              "        [  8,   1,   4,  86,  45,   8,   9,   9],\n",
              "        [  9,   0,   5,  99,  52,   8,   7,   9],\n",
              "        [  9,   1,   5, 106,  55,   8,   9,   7]]),\n",
              " 'k_vehicles': 2,\n",
              " 'vehicle_compartments': array([[50, 50, 50],\n",
              "        [50, 50, 50]]),\n",
              " 'vehicle_time_windows': array([[34277, 53481],\n",
              "        [34953, 76918]]),\n",
              " 'restriction_matrix': array([[1, 1, 1, 1, 1, 1, 1, 1, 1, 1],\n",
              "        [1, 1, 1, 1, 1, 1, 1, 1, 1, 1]]),\n",
              " 'service_times': array([0, 0, 0, 0, 0, 0, 0, 0, 0, 0])}"
            ]
          },
          "metadata": {},
          "execution_count": 32
        }
      ],
      "source": [
        "data_model"
      ]
    },
    {
      "cell_type": "markdown",
      "metadata": {
        "id": "KwvvDtdJJ_Qs"
      },
      "source": [
        "# Graph NN"
      ]
    },
    {
      "cell_type": "markdown",
      "metadata": {
        "id": "E4blx4B7G-lk"
      },
      "source": [
        "## Env"
      ]
    },
    {
      "cell_type": "code",
      "execution_count": 33,
      "metadata": {
        "id": "eQgwfTmFG6BT"
      },
      "outputs": [],
      "source": [
        "class IRPEnv_Custom:\n",
        "    \"\"\"\n",
        "    TSPEnv implements the Traveling Salesmen Problem\n",
        "    a special variant of the vehicle routing problem.\n",
        "\n",
        "    State: Shape (batch_size, num_nodes, 4) The third\n",
        "        dimension is structured as follows:\n",
        "        [x_coord, y_coord, is_depot, visitable]\n",
        "\n",
        "    Actions: Depends on the number of nodes in every graph.\n",
        "        Should contain the node numbers to visit next for\n",
        "        each graph. Shape (batch_size, 1)\n",
        "    \"\"\"\n",
        "\n",
        "    metadata = {\"render.modes\": [\"human\", \"rgb_array\"]}\n",
        "\n",
        "    def __init__(\n",
        "        self,\n",
        "        batch,\n",
        "        num_nodes,\n",
        "        batch_size,\n",
        "        products_count,\n",
        "        k_vehicles,\n",
        "        max_trips=1,\n",
        "        num_depots=1,\n",
        "        seed: int = 69,\n",
        "    ):\n",
        "        \"\"\"\n",
        "        Args:\n",
        "            num_nodes (int, optional): Number of nodes in each generated graph. Defaults to 32.\n",
        "            batch_size (int, optional): Number of graphs to generate. Defaults to 128.\n",
        "            num_draw (int, optional): When calling the render num_draw graphs will be rendered.\n",
        "                Defaults to 6.\n",
        "            seed (int, optional): Seed of the environment. Defaults to 69.\n",
        "            video_save_path (str, optional): When set a video of the interactions with the\n",
        "                environment is saved at the set location. Defaults to None.\n",
        "        \"\"\"\n",
        "\n",
        "        np.random.seed(seed)\n",
        "        self.device = torch.device(\"cuda:0\" if torch.cuda.is_available() else \"cpu\")\n",
        "        self.step_count = 0\n",
        "\n",
        "        self.num_depots = num_depots\n",
        "        self.num_nodes = num_nodes\n",
        "        self.batch_size = batch_size\n",
        "        self.products_count = products_count\n",
        "        self.k_vehicles = k_vehicles\n",
        "        self.max_trips = max_trips\n",
        "\n",
        "        self.positions, self.weight_matrixes, self.daily_demands,\\\n",
        "        self.depots, self.remaining_time,\\\n",
        "        restriction_matrix, self.service_times,\\\n",
        "        self.min_capacities, self.max_capacities, self.init_capacities = batch\n",
        "\n",
        "        if not isinstance(self.positions, np.ndarray):\n",
        "          self.positions = self.positions.numpy()\n",
        "          self.depots = self.depots.numpy()\n",
        "          self.daily_demands = np.array([demand.numpy() for demand in self.daily_demands])\n",
        "          self.remaining_time = self.remaining_time.numpy()\n",
        "          self.weight_matrixes = self.weight_matrixes.numpy()\n",
        "          self.service_times = self.service_times.numpy()\n",
        "          self.min_capacities = self.min_capacities.numpy()\n",
        "          self.max_capacities = self.max_capacities.numpy()\n",
        "          self.init_capacities = self.init_capacities.numpy()\n",
        "\n",
        "        self.days_count = self.daily_demands.shape[1]\n",
        "        self.daily_demands = np.hstack((self.daily_demands,np.zeros((self.batch_size, 1, self.num_nodes, self.products_count))))\n",
        "        self.demands = self.daily_demands[np.arange(len(self.daily_demands)),0]\n",
        "\n",
        "\n",
        "        self.planning_horizon = np.zeros(shape=(self.batch_size))\n",
        "\n",
        "        self.remaining_time = 18*60*60 - 9*60*60\n",
        "\n",
        "        #self.weight_matrixes =np.divide(self.weight_matrixes, self.remaining_time[:,None])\n",
        "        self.weight_matrixes =np.divide(self.weight_matrixes, self.remaining_time)\n",
        "        self.service_times = self.service_times / self.remaining_time\n",
        "        self.remaining_time = self.remaining_time / self.remaining_time\n",
        "        self.load = np.ones(shape=(self.batch_size, self.products_count))\n",
        "\n",
        "        self.visited = np.zeros(shape=(self.batch_size, self.num_nodes))\n",
        "\n",
        "        # set current location to the depots\n",
        "        self.current_location = self.depots\n",
        "        self.cur_remaining_time = np.ones(shape=(self.batch_size)) * self.remaining_time\n",
        "        self.vehicles = np.ones(shape=(self.batch_size)) * self.k_vehicles * self.max_trips\n",
        "\n",
        "    def step(self, actions: np.ndarray):\n",
        "        \"\"\"\n",
        "        Run the environment one timestep. It's the users responsiblity to\n",
        "        call reset() when the end of the episode has been reached. Accepts\n",
        "        an actions and return a tuple of (observation, reward, done, info)\n",
        "\n",
        "        Args:\n",
        "            actions (nd.ndarray): Which node to visit for each graph.\n",
        "                Shape of actions is (batch_size, 1).\n",
        "\n",
        "        Returns:\n",
        "            Tuple[ObsType, float, bool, dict]: Tuple of the observation,\n",
        "                reward, done and info. The observation is within\n",
        "                self.observation_space. The reward is for the previous action.\n",
        "                If done equals True then the episode is over. Stepping through\n",
        "                environment while done returns undefined results. Info contains\n",
        "                may contain additions info in terms of metrics, state variables\n",
        "                and such.\n",
        "        \"\"\"\n",
        "        assert (\n",
        "            actions.shape[0] == self.batch_size\n",
        "        ), \"Number of actions need to equal the number of generated graphs.\"\n",
        "\n",
        "        self.step_count += 1\n",
        "\n",
        "        # visit each next node\n",
        "        self.visited[np.arange(len(actions)), actions.T] = 1\n",
        "        traversed_edges = np.hstack([self.current_location, actions]).astype(int)\n",
        "\n",
        "        action_time = []\n",
        "        for i in range(self.batch_size):\n",
        "          node_1 = self.current_location[i]\n",
        "          node_2 = actions[i]\n",
        "          action_time.append(self.get_distance(i, node_1, node_2))\n",
        "\n",
        "        action_time = np.array(action_time).T.squeeze()\n",
        "        selected_service_times = self.service_times[np.arange(len(self.service_times)),actions.T].squeeze()\n",
        "        self.cur_remaining_time -= action_time + selected_service_times\n",
        "\n",
        "        # get demand of the visited nodes\n",
        "        # selected_demands = self.demands[\n",
        "        #     np.arange(len(self.demands)), actions.T\n",
        "        # ].squeeze()\n",
        "\n",
        "        # if self.load.shape[0] == 1:\n",
        "        #   selected_demands = np.expand_dims(selected_demands, axis=0)\n",
        "\n",
        "        # elif len(selected_demands.shape) == 1:\n",
        "        #   selected_demands = np.expand_dims(selected_demands, axis=1)\n",
        "\n",
        "        # update load of each vehicle\n",
        "        delivery = self.max_capacities - self.init_capacities\n",
        "        capacity_reduction = np.minimum(delivery[np.arange(len(delivery)), actions.T,:], self.load).squeeze(0)\n",
        "        self.init_capacities[np.arange(len(self.init_capacities)), actions.T] += capacity_reduction\n",
        "\n",
        "        self.load -= capacity_reduction\n",
        "        self.load[self.load <= 0.01] = 0\n",
        "\n",
        "        vehicle_in_depot = np.where(actions == self.depots)[0]\n",
        "        self.load[vehicle_in_depot] = 1\n",
        "        self.visited[vehicle_in_depot] = 0\n",
        "\n",
        "        self.cur_remaining_time[vehicle_in_depot] = 1\n",
        "\n",
        "        self.vehicles[vehicle_in_depot] -= 1\n",
        "\n",
        "        self.current_location = np.array(actions)\n",
        "\n",
        "        day_end = np.where(self.vehicles <= 0.0)[0]\n",
        "        self.cur_remaining_time[day_end] = np.ones(shape=(self.batch_size))[day_end] * self.remaining_time\n",
        "\n",
        "\n",
        "        self.vehicles[day_end] = np.ones(shape=(self.batch_size))[day_end] * self.k_vehicles * self.max_trips\n",
        "        self.init_capacities[day_end] -= self.demands[day_end]\n",
        "        self.init_capacities[self.init_capacities < 0] = 0\n",
        "\n",
        "        self.demands = self.daily_demands[np.arange(len(self.daily_demands)),self.planning_horizon.astype(int)]\n",
        "\n",
        "\n",
        "        self.planning_horizon[day_end] += 1\n",
        "        self.planning_horizon = np.clip(self.planning_horizon, 0, self.days_count)\n",
        "        done = self.is_done()\n",
        "\n",
        "        dry_runs = np.einsum('ijk ->i', (self.init_capacities < self.min_capacities).astype(int))\n",
        "        #dry_runs = np.einsum('ijk ->i', self.init_capacities)\n",
        "        avarage_stock = np.zeros((self.batch_size,))\n",
        "        avarage_stock[day_end] = (np.einsum('ijk->i',self.init_capacities)  / np.einsum('ijk->i', self.max_capacities))[day_end]\n",
        "\n",
        "        return (\n",
        "            None,\n",
        "            -self.get_distances(traversed_edges),\n",
        "            dry_runs,\n",
        "            day_end,\n",
        "            self.planning_horizon,\n",
        "            avarage_stock,\n",
        "            capacity_reduction,\n",
        "            done,\n",
        "            None,\n",
        "        )\n",
        "\n",
        "    def is_done(self):\n",
        "        return np.all(self.planning_horizon >= self.days_count)\n",
        "\n",
        "    def get_state(self) -> Tuple[np.ndarray, np.ndarray]:\n",
        "        \"\"\"\n",
        "        Getter for the current environment state.\n",
        "\n",
        "        Returns:\n",
        "            Tuple[np.ndarray, np.ndarray]: Shape (num_graph, num_nodes, 5)\n",
        "                The third dimension is structured as follows:\n",
        "            [x_coord, y_coord, demand, is_depot, visitable]\n",
        "        \"\"\"\n",
        "        # generate state (depots not yet set)\n",
        "        depots = np.zeros((self.batch_size, self.num_nodes))\n",
        "        depots[np.arange(len(depots)), self.depots.T] = 1\n",
        "\n",
        "        state = np.dstack(\n",
        "            [\n",
        "                self.positions,\n",
        "                self.demands,\n",
        "                self.min_capacities,\n",
        "                self.init_capacities,\n",
        "                self.max_capacities,\n",
        "                depots,\n",
        "                self.generate_mask(),\n",
        "\n",
        "            ]\n",
        "        )\n",
        "        # print(self.generate_mask())\n",
        "\n",
        "        state = torch.tensor(state, dtype=torch.float, device=self.device)\n",
        "        load = torch.tensor(self.load, dtype=torch.float, device=self.device)\n",
        "        vehicles = torch.tensor(self.vehicles, dtype=torch.float, device=self.device)\n",
        "        cur_remaining_time = torch.tensor(self.cur_remaining_time, dtype=torch.float, device=self.device)\n",
        "\n",
        "        return (state, load, vehicles, cur_remaining_time)\n",
        "\n",
        "    def generate_mask(self):\n",
        "        \"\"\"\n",
        "        Generates a mask of where the nodes marked as 1 cannot\n",
        "        be visited in the next step according to the env dynamic.\n",
        "\n",
        "        Returns:\n",
        "            np.ndarray: Returns mask for each (un)visitable node\n",
        "                in each graph. Shape (batch_size, num_nodes)\n",
        "        \"\"\"\n",
        "\n",
        "        #  # disallow staying at the depot\n",
        "        # depot_graphs_idxs = np.where(self.current_location == self.depots)[0]\n",
        "        # self.visited[depot_graphs_idxs, self.depots[depot_graphs_idxs].squeeze()] = 1\n",
        "        # print('disallow staying at the depot')\n",
        "        # print(self.visited)\n",
        "\n",
        "        #disallow staying in nodes with max capacity\n",
        "        filled_nodes = np.all(self.init_capacities == self.max_capacities, axis=2)\n",
        "        self.visited[filled_nodes] = 1\n",
        "        self.visited[np.arange(len(self.visited)), self.depots.squeeze()] = 0\n",
        "\n",
        "        # allow visiting the depot when not currently at the depot\n",
        "        # depot_graphs_idxs_not = np.where(self.current_location != self.depots)[0]\n",
        "        # self.visited[\n",
        "        #     depot_graphs_idxs_not, self.depots[depot_graphs_idxs_not].squeeze()\n",
        "        # ] = 0\n",
        "        # print('allow visiting the depot when not currently at the depot')\n",
        "        # print(self.visited)\n",
        "\n",
        "        # allow staying on a depot if the graph is solved.\n",
        "        done_graphs = np.where(self.planning_horizon == self.days_count)[0]\n",
        "        self.visited[done_graphs, self.depots[done_graphs].squeeze()] = 0\n",
        "        # print('allow staying on a depot if the graph is solved.')\n",
        "        # print(self.visited)\n",
        "\n",
        "        #go to base if empty\n",
        "        empty_loads = np.where(np.all(self.load <= 0, axis=1))[0]\n",
        "        self.visited[empty_loads] = 1\n",
        "        self.visited[empty_loads, self.depots[empty_loads].squeeze()] = 0\n",
        "        # print('go to base if empty')\n",
        "        # print(self.visited)\n",
        "\n",
        "        #go to base if no more time\n",
        "        exceed_time = np.where(np.all(self.cur_remaining_time <= 0, axis=0))[0]\n",
        "\n",
        "        self.visited[exceed_time] = 1\n",
        "        self.visited[exceed_time, self.depots[exceed_time].squeeze()] = 0\n",
        "        # print('go to base if no more time')\n",
        "        # print(self.visited)\n",
        "\n",
        "        #go to base if no more vehicles\n",
        "        exceed_vehicles = np.where(np.all(self.vehicles <= 0, axis=0))[0]\n",
        "\n",
        "        self.visited[exceed_vehicles] = 1\n",
        "        self.visited[exceed_vehicles, self.depots[exceed_vehicles].squeeze()] = 0\n",
        "        # print('go to base if no more vehicles')\n",
        "        # print(self.visited)\n",
        "\n",
        "        #go to base if all nodes filled\n",
        "        all_filled = np.where(np.all(self.init_capacities == self.max_capacities, axis=1))[0]\n",
        "\n",
        "        self.visited[all_filled] = 1\n",
        "        self.visited[all_filled, self.depots[all_filled].squeeze()] = 0\n",
        "        # print('go to base if all nodes filled')\n",
        "        # print(self.visited)\n",
        "\n",
        "        mask = np.copy(self.visited)\n",
        "\n",
        "        return mask\n",
        "\n",
        "    def get_distance(self, graph_idx: int, node_idx_1: int, node_idx_2: int) -> float:\n",
        "        \"\"\"\n",
        "        Calculates the euclid distance between the two nodes\n",
        "        within a single graph in the VRPNetwork.\n",
        "\n",
        "        Args:\n",
        "            graph_idx (int): Index of the graph\n",
        "            node_idx_1 (int): Source node\n",
        "            node_idx_2 (int): Target node\n",
        "\n",
        "        Returns:\n",
        "            float: Euclid distance between the two nodes\n",
        "        \"\"\"\n",
        "        return self.weight_matrixes[graph_idx][node_idx_1, node_idx_2]\n",
        "\n",
        "    def get_distances(self, paths) -> np.ndarray:\n",
        "        \"\"\"\n",
        "        Calculatest the euclid distance between\n",
        "        each node pair in paths.\n",
        "\n",
        "        Args:\n",
        "            paths (nd.array): Shape num_graphs x 2\n",
        "                where the second dimension denotes\n",
        "                [source_node, target_node].\n",
        "\n",
        "        Returns:\n",
        "            np.ndarray: Euclid distance between each\n",
        "                node pair. Shape (num_graphs,)\n",
        "        \"\"\"\n",
        "        return np.array(\n",
        "            [\n",
        "                self.get_distance(index, source, dest)\n",
        "                for index, (source, dest) in enumerate(paths)\n",
        "            ]\n",
        "        )"
      ]
    },
    {
      "cell_type": "code",
      "source": [
        "x = np.random.randint(0,10,(2,2,2))\n",
        "print(x)\n",
        "\n",
        "print(x.mean(1))\n",
        "print(x.mean())\n"
      ],
      "metadata": {
        "id": "t1Lmixd9R_Gf",
        "colab": {
          "base_uri": "https://localhost:8080/"
        },
        "outputId": "7b6a09a1-3df0-4cdf-92eb-1cdf7cb63189"
      },
      "execution_count": 34,
      "outputs": [
        {
          "output_type": "stream",
          "name": "stdout",
          "text": [
            "[[[0 6]\n",
            "  [5 8]]\n",
            "\n",
            " [[0 1]\n",
            "  [9 9]]]\n",
            "[[2.5 7. ]\n",
            " [4.5 5. ]]\n",
            "4.75\n"
          ]
        }
      ]
    },
    {
      "cell_type": "markdown",
      "metadata": {
        "id": "8CzrxZW2PdJN"
      },
      "source": [
        "## Encoder"
      ]
    },
    {
      "cell_type": "code",
      "execution_count": 35,
      "metadata": {
        "id": "KtPrRt3dPfka"
      },
      "outputs": [],
      "source": [
        "import torch\n",
        "import torch.nn as nn\n",
        "import torch.nn.functional as F\n",
        "\n",
        "\n",
        "class GraphEncoder(nn.Module):\n",
        "    def __init__(\n",
        "        self,\n",
        "        node_input_dim: int,\n",
        "        embedding_dim: int = 128,\n",
        "        hidden_dim: int = 512,\n",
        "        num_attention_layers: int = 3,\n",
        "        num_heads: int = 8,\n",
        "    ):\n",
        "        \"\"\"\n",
        "        Initalizes the GraphEncoder\n",
        "\n",
        "        Args:\n",
        "            node_input_dim (int): Feature Dimension of input nodes\n",
        "            embedding_dim (int): Number of dimensions in the embedding space.\n",
        "            hidden_dim (int): Number of neurons of the hidden layer of the fcl.\n",
        "            num_attention_layers (int): Number of attention layers.\n",
        "            num_heads (int): Number of heads in each attention layer\n",
        "        \"\"\"\n",
        "        super().__init__()\n",
        "        # initial embeds ff layer for each nodes type\n",
        "        # self.depot_embed = nn.Linear(depot_input_dim, embedding_dim)\n",
        "        self.node_embed = nn.Linear(node_input_dim, embedding_dim)\n",
        "\n",
        "        self.attention_layers = nn.ModuleList(\n",
        "            [\n",
        "                MultiHeadAttentionLayer(\n",
        "                    embedding_dim=embedding_dim,\n",
        "                    hidden_dim=hidden_dim,\n",
        "                    num_heads=num_heads,\n",
        "                )\n",
        "                for _ in range(num_attention_layers)\n",
        "            ]\n",
        "        )\n",
        "\n",
        "    def forward(self, x: torch.Tensor) -> torch.Tensor:\n",
        "        \"\"\"\n",
        "        Calculates the node embedding for each node\n",
        "        in each graph.\n",
        "\n",
        "        Args:\n",
        "            x (torch.Tensor): Shape (num_graphs, num_nodes, num_features)\n",
        "\n",
        "        Returns:\n",
        "            torch.Tensor: Returns the embedding of each node in each graph.\n",
        "                Shape (num_graphs, num_nodes, embedding_dim).\n",
        "        \"\"\"\n",
        "\n",
        "        out = self.node_embed(x)\n",
        "        for layer in self.attention_layers:\n",
        "            out = layer(out)\n",
        "\n",
        "        return out\n",
        "\n",
        "\n",
        "class GraphDemandEncoder(GraphEncoder):\n",
        "    def __init__(\n",
        "        self,\n",
        "        depot_input_dim: int,\n",
        "        node_input_dim: int,\n",
        "        embedding_dim: int = 128,\n",
        "        hidden_dim: int = 512,\n",
        "        num_attention_layers: int = 3,\n",
        "        num_heads: int = 8,\n",
        "    ):\n",
        "        \"\"\"\n",
        "        Initalizes the GraphDemandEncoder\n",
        "\n",
        "        Args:\n",
        "            depot_input_dim (int): Feature Dimension of input depots\n",
        "            node_input_dim (int): Feature Dimension of input nodes\n",
        "            embedding_dim (int): Number of dimensions in the embedding space.\n",
        "            hidden_dim (int): Number of neurons of the hidden layer of the fcl.\n",
        "            num_attention_layers (int): Number of attention layers.\n",
        "            num_heads (int): Number of heads in each attention layer\n",
        "        \"\"\"\n",
        "        super().__init__(\n",
        "            node_input_dim=node_input_dim,\n",
        "            embedding_dim=embedding_dim,\n",
        "            hidden_dim=hidden_dim,\n",
        "            num_attention_layers=num_attention_layers,\n",
        "            num_heads=num_heads,\n",
        "        )\n",
        "        self.node_f_dim = node_input_dim\n",
        "        self.depot_f_dim = depot_input_dim\n",
        "        self.emb_dim = embedding_dim\n",
        "\n",
        "        self.depot_embed = nn.Linear(depot_input_dim, embedding_dim)\n",
        "\n",
        "    def forward(self, x, depot_mask):\n",
        "        \"\"\"\n",
        "        Calculates the node embedding for each node\n",
        "        in each graph with regards to the depots.\n",
        "\n",
        "        Args:\n",
        "            x (torch.Tensor): Shape (num_graphs, num_nodes, num_features)\n",
        "            depot_mask (torch.Tensor): Mask of the depot in each graph\n",
        "\n",
        "        Returns:\n",
        "            torch.Tensor: Returns the embedding of each node in each graph.\n",
        "                Shape (num_graphs, num_nodes, embedding_dim).\n",
        "        \"\"\"\n",
        "        batch_size, num_nodes, _ = x.size()\n",
        "\n",
        "        not_depots = x[~depot_mask].view(batch_size, -1, self.node_f_dim)\n",
        "        depots = x[depot_mask].view(batch_size, -1, self.node_f_dim)\n",
        "\n",
        "        out = torch.cat(\n",
        "            [\n",
        "                self.depot_embed(depots[:, :, : self.depot_f_dim]),\n",
        "                self.node_embed(not_depots[:, :, : self.node_f_dim]),\n",
        "            ],\n",
        "            dim=1,\n",
        "        )\n",
        "\n",
        "        # move embeddings to original matrix pos\n",
        "        # depots shape: (batch, node_num, 1)\n",
        "        # out shape: (batch, node_num, 128)\n",
        "        temp = torch.empty_like(out)\n",
        "        num_depot = len(torch.where(depot_mask[0] == 1))\n",
        "\n",
        "        m = out[:, :num_depot, :].reshape(\n",
        "            batch_size * num_depot, self.emb_dim\n",
        "        )\n",
        "\n",
        "        temp[depot_mask] = m\n",
        "\n",
        "\n",
        "\n",
        "        temp[~depot_mask] = out[:, num_depot:, :].reshape(\n",
        "            (batch_size * (num_nodes - num_depot)), self.emb_dim\n",
        "        )\n",
        "\n",
        "        out = temp\n",
        "        for layer in self.attention_layers:\n",
        "            out = layer(out)\n",
        "\n",
        "        return out\n",
        "\n",
        "\n",
        "class BatchNorm(nn.Module):\n",
        "    \"\"\"\n",
        "    Coverts inputs of (N, L, C) to (N*L, C)\n",
        "    s.t we can apply BatchNorm for the\n",
        "    features C.\n",
        "    \"\"\"\n",
        "\n",
        "    def __init__(self, feature_dim):\n",
        "        super().__init__()\n",
        "        self.norm = nn.BatchNorm1d(feature_dim)\n",
        "\n",
        "    def forward(self, x):\n",
        "        shape = x.size()\n",
        "        return self.norm(x.view(-1, shape[-1])).view(*shape)\n",
        "\n",
        "\n",
        "class MultiHeadAttentionLayer(nn.Module):\n",
        "    def __init__(self, embedding_dim: int, hidden_dim: int, num_heads: int):\n",
        "        \"\"\"\n",
        "        MultiHeadAttentionLayer with skip connection, batch\n",
        "        normalization and a fully connected network.\n",
        "\n",
        "        Args:\n",
        "            embedding_dim (int): Number of dimensions in the embedding space.\n",
        "            hidden_dim (int): Number of neurons of the hidden layer of the fcl.\n",
        "            num_heads (int): Number of attention heads.\n",
        "        \"\"\"\n",
        "        super().__init__()\n",
        "\n",
        "        self.attention_layer = nn.MultiheadAttention(\n",
        "            embed_dim=embedding_dim, num_heads=num_heads, batch_first=True\n",
        "        )\n",
        "\n",
        "        self.bn1 = BatchNorm(embedding_dim)\n",
        "        self.bn2 = BatchNorm(embedding_dim)\n",
        "\n",
        "        self.ff = nn.Sequential(\n",
        "            nn.Linear(embedding_dim, hidden_dim),\n",
        "            nn.ReLU(),\n",
        "            nn.Linear(hidden_dim, embedding_dim),\n",
        "        )\n",
        "\n",
        "    def forward(self, x: torch.Tensor) -> torch.Tensor:\n",
        "        \"\"\"\n",
        "        Forward pass\n",
        "\n",
        "        Args:\n",
        "            x (torch.Tensor): Input tensor of shape\n",
        "                (num_graph, num_nodes, num_features)\n",
        "\n",
        "        Returns:\n",
        "            torch.Tensor: Output of shape\n",
        "                (num_graph, num_nodes, embedding_dim)\n",
        "        \"\"\"\n",
        "        out = self.bn1(x + self.attention_layer(x, x, x)[0])\n",
        "        out = self.bn2(out + self.ff(out))\n",
        "\n",
        "        return out\n"
      ]
    },
    {
      "cell_type": "markdown",
      "metadata": {
        "id": "KBuDY7uJ-Shr"
      },
      "source": [
        "## Decoder"
      ]
    },
    {
      "cell_type": "code",
      "execution_count": 36,
      "metadata": {
        "id": "Q26qoLlz-TXp"
      },
      "outputs": [],
      "source": [
        "import torch\n",
        "import torch.nn as nn\n",
        "import torch.nn.functional as F\n",
        "from torch.distributions.categorical import Categorical\n",
        "import numpy as np\n",
        "\n",
        "\n",
        "class GraphDecoder(nn.Module):\n",
        "    \"\"\"\n",
        "    Decoder Class to generate node prediction.\n",
        "    \"\"\"\n",
        "\n",
        "    def __init__(\n",
        "        self,\n",
        "        emb_dim: int = 128,\n",
        "        num_heads: int = 8,\n",
        "        v_dim: int = 128,\n",
        "        k_dim: int = 128,\n",
        "        products_count = 1,\n",
        "    ):\n",
        "        \"\"\"\n",
        "        Args:\n",
        "            emb_dim (int): Dimension of the input embedding.\n",
        "            num_heads (int): Number of attention heads.\n",
        "            v_dim (int): Dimension of attention value.\n",
        "            k_dim (int): Dimension of attention key.\n",
        "        \"\"\"\n",
        "        super().__init__()\n",
        "\n",
        "        self._first_node = nn.Parameter(torch.rand(1, 1, emb_dim))\n",
        "        self._last_node = nn.Parameter(torch.rand(1, 1, emb_dim))\n",
        "\n",
        "        self.attention = nn.MultiheadAttention(\n",
        "            embed_dim=3 * emb_dim,\n",
        "            num_heads=num_heads,\n",
        "            kdim=k_dim,\n",
        "            vdim=v_dim,\n",
        "            batch_first=True,\n",
        "        )\n",
        "\n",
        "        self._kp = nn.Linear(emb_dim, emb_dim, bias=False)\n",
        "        self._att_output = nn.Linear(emb_dim * 3, emb_dim, bias=False)\n",
        "\n",
        "        # project in context of [graph_emb, ]\n",
        "        self._context_proj = nn.Linear(emb_dim * 2 + products_count + 2, emb_dim * 3, bias=False)\n",
        "        # self.W1 = torch.nn.Parameter(torch.randn(3,4,5))\n",
        "        # self.W2 = torch.nn.Parameter(torch.randn(3,4,5))\n",
        "        # self.W3 = torch.nn.Parameter(torch.randn(3,4,5))\n",
        "        # self.W4 = torch.nn.Parameter(torch.randn(3,4,5))\n",
        "        # self.W5 = torch.nn.Parameter(torch.randn(3,4,5))\n",
        "\n",
        "        self.first_ = None\n",
        "        self.last_ = None\n",
        "        self.first_step = True\n",
        "        self.num_heads = num_heads\n",
        "\n",
        "    def forward(\n",
        "        self,\n",
        "        node_embs: torch.Tensor,\n",
        "        mask: torch.Tensor = None,\n",
        "        load: torch.Tensor = None,\n",
        "        k_vehicles: torch.Tensor = None,\n",
        "        remaining_time: torch.Tensor = None,\n",
        "        temp_capacity: torch.Tensor = None,\n",
        "        temp_demand: torch.Tensor = None,\n",
        "        C: int = 10,\n",
        "        rollout: bool = False,\n",
        "    ):\n",
        "        \"\"\"\n",
        "        Forward method of the Decoder\n",
        "\n",
        "        Args:\n",
        "            node_embs (torch.Tensor): Node embeddings with shape (batch_size, num_nodes, emb_dim)\n",
        "            mask (torch.Tensor, optional): Node mask with shape (batch_size, num_nodes). Defaults to None.\n",
        "            load (torch.Tensor, optional): Load of the vehicle with shape (batch_size, 1). Defaults to None.\n",
        "            C (int, optional): Hyperparameter to regularize logit calculation. Defaults to 10.\n",
        "            rollout (bool, optional): Determines if prediction is sampled or maxed. Defaults to False.\n",
        "\n",
        "        Returns:\n",
        "            torch.Tensor: Node prediction for each graph with shape (batch_size, 1)\n",
        "            torch.Tensor: Log probabilities\n",
        "        \"\"\"\n",
        "        batch_size, _, emb_dim = node_embs.shape\n",
        "\n",
        "        graph_emb = torch.mean(\n",
        "            node_embs, axis=1, keepdims=True\n",
        "        )  # shape (batch, 1, emb)\n",
        "\n",
        "        if self.first_ is None:\n",
        "            self.first_ = self._first_node.repeat(batch_size, 1, 1)\n",
        "            self.last_ = self._last_node.repeat(batch_size, 1, 1)\n",
        "\n",
        "        k = self._kp(node_embs)\n",
        "\n",
        "        # Create context with first, last node and graph embedding.\n",
        "        # Where last is the node from last decoding step.\n",
        "        if load is None:\n",
        "            context = torch.cat([graph_emb, self.first_, self.last_], -1)\n",
        "        else:\n",
        "            context = torch.cat([graph_emb, self.last_,\n",
        "                                 load[:, None], k_vehicles[:, None, None], remaining_time[:, None, None]], -1)\n",
        "\n",
        "            context = self._context_proj(context)\n",
        "\n",
        "\n",
        "        attn_mask = mask.repeat(self.num_heads, 1).unsqueeze(1)\n",
        "\n",
        "        q, _ = self.attention(context, node_embs, node_embs, attn_mask=attn_mask)\n",
        "\n",
        "        q = self._att_output(q)\n",
        "\n",
        "\n",
        "        u = torch.tanh(q.bmm(k.transpose(-2, -1)) / emb_dim ** 0.5) * C\n",
        "        # dc = torch.einsum('ijk->ij', temp_demand / (temp_capacity +0.001)).unsqueeze(1)\n",
        "        # u += dc\n",
        "\n",
        "        u = u.masked_fill(mask.unsqueeze(1).bool(), float(\"-inf\"))\n",
        "\n",
        "        log_prob = torch.zeros(size=(batch_size,))\n",
        "        nn_idx = None\n",
        "        if rollout:\n",
        "            nn_idx = u.argmax(-1)\n",
        "        else:\n",
        "            m = Categorical(logits=u)\n",
        "            nn_idx = m.sample()\n",
        "            log_prob = m.log_prob(nn_idx)\n",
        "        temp = nn_idx.unsqueeze(-1).repeat(1, 1, emb_dim)\n",
        "        self.last_ = torch.gather(node_embs, 1, temp)\n",
        "\n",
        "        if self.first_step:\n",
        "            self.first_ = self.last_\n",
        "            self.first_step = False\n",
        "\n",
        "        return nn_idx, log_prob\n",
        "\n",
        "    def reset(self):\n",
        "        \"\"\"\n",
        "        Resets first and last node.\n",
        "        Must be called before starting a new game.\n",
        "        \"\"\"\n",
        "        self.first_ = None\n",
        "        self.last_ = None\n",
        "        self.first_step = True"
      ]
    },
    {
      "cell_type": "markdown",
      "metadata": {
        "id": "gJo9CHQEr84P"
      },
      "source": [
        "## VRP GYM CUSTOM"
      ]
    },
    {
      "cell_type": "code",
      "execution_count": 48,
      "metadata": {
        "id": "DCdw3fY-5mAL"
      },
      "outputs": [],
      "source": [
        "#from agents.graph_encoder import GraphDemandEncoder\n",
        "\n",
        "logging.basicConfig(level=logging.DEBUG)\n",
        "\n",
        "\n",
        "class IRPModel(nn.Module):\n",
        "    def __init__(\n",
        "        self,\n",
        "        depot_dim: int,\n",
        "        node_dim: int,\n",
        "        emb_dim: int,\n",
        "        hidden_dim: int,\n",
        "        num_attention_layers: int,\n",
        "        num_heads: int,\n",
        "    ):\n",
        "        \"\"\"\n",
        "        The IRPModel is used in companionship with the IRPEnv\n",
        "        to solve the capacited vehicle routing problem.\n",
        "\n",
        "        Args:\n",
        "            depot_dim (int): Input dimension of a depot node.\n",
        "            node_dim (int): Input dimension of a regular graph node.\n",
        "            emb_dim (int): Size of a vector in the embedding space.\n",
        "            hidden_dim (int): Dimension of the hidden layers of the\n",
        "                ff-network layers within the graph-encoder.\n",
        "            num_attention_layers (int): Number of attention layers\n",
        "                for both the graph-encoder and -decoder.\n",
        "            num_heads (int): Number of attention heads in each\n",
        "                MultiHeadAttentionLayer for both the graph-encoder and -decoder.\n",
        "        \"\"\"\n",
        "        super().__init__()\n",
        "        self.device = torch.device(\"cuda:0\" if torch.cuda.is_available() else \"cpu\")\n",
        "        self.node_dim = node_dim\n",
        "\n",
        "        self.encoder = GraphDemandEncoder(\n",
        "            depot_input_dim=depot_dim,\n",
        "            node_input_dim=node_dim,\n",
        "            embedding_dim=emb_dim,\n",
        "            hidden_dim=hidden_dim,\n",
        "            num_attention_layers=num_attention_layers,\n",
        "            num_heads=num_heads,\n",
        "        )\n",
        "        self.decoder = GraphDecoder(\n",
        "            emb_dim=emb_dim, num_heads=8, v_dim=emb_dim, k_dim=emb_dim, products_count=int((node_dim-2)/4)\n",
        "        )\n",
        "\n",
        "        self.model = lambda x, mask, rollout: self.decoder(\n",
        "            x, mask, rollout=rollout\n",
        "        )  # remove encoding and make it do it once\n",
        "\n",
        "\n",
        "    def forward(self, env, rollout=False) -> Tuple[float, float]:\n",
        "        \"\"\"\n",
        "        Forward method of the model\n",
        "        Args:\n",
        "            env (gym.Env): environment which the agent has to solve.\n",
        "            rollout (bool, optional): policy decision. Defaults to False.\n",
        "\n",
        "        Returns:\n",
        "            Tuple[float, float]: accumulated loss and log probabilities.\n",
        "        \"\"\"\n",
        "        done = False\n",
        "        # state = torch.tensor(env.get_state(), dtype=torch.float, device=self.device)\n",
        "\n",
        "        # split state in graph state and vehicle state\n",
        "        graph_state, vehicle_state, k_vehicles, remaining_time = env.get_state()\n",
        "\n",
        "        acc_loss = torch.zeros(size=(graph_state.shape[0],), device=self.device)\n",
        "        acc_dist_loss = torch.zeros(size=(graph_state.shape[0],), device=self.device)\n",
        "        acc_dry_runs = torch.zeros(size=(graph_state.shape[0],), device=self.device)\n",
        "        acc_remaining_time = torch.zeros(size=(graph_state.shape[0],), device=self.device)\n",
        "        acc_vehicle_count = torch.zeros(size=(graph_state.shape[0],), device=self.device)\n",
        "        acc_log_prob = torch.zeros(size=(graph_state.shape[0],), device=self.device)\n",
        "\n",
        "\n",
        "        # play the game till done\n",
        "        actions_list = []\n",
        "        avarage_stocks = defaultdict(list)\n",
        "        dry_runs_dict = defaultdict(list)\n",
        "        actions_daily = defaultdict(list)\n",
        "        vehicle_utilisation = []\n",
        "\n",
        "        zeros_rt = torch.zeros(size=remaining_time.shape, device=self.device)\n",
        "        zeros_kv = torch.zeros(size=k_vehicles.shape, device=self.device)\n",
        "\n",
        "        while not done:\n",
        "            emb = self.encoder(\n",
        "              x=graph_state[:, :, :self.node_dim], depot_mask=graph_state[:, :, self.node_dim].bool()\n",
        "            )\n",
        "\n",
        "            temp_capacity = torch.tensor(env.init_capacities, dtype=torch.float, device=self.device)\n",
        "            temp_demand = torch.tensor(env.demands, dtype=torch.float, device=self.device)\n",
        "\n",
        "            actions, log_prob = self.decoder(\n",
        "                node_embs=emb,\n",
        "                mask=graph_state[:, :, -1],\n",
        "                load=vehicle_state,\n",
        "                remaining_time=remaining_time,\n",
        "                k_vehicles=k_vehicles,\n",
        "                rollout=rollout,\n",
        "                temp_capacity=temp_capacity,\n",
        "                temp_demand=temp_demand,\n",
        "            )\n",
        "\n",
        "            actions_list.append(actions.detach())\n",
        "\n",
        "            state, loss, dry_runs, day_end, temp_day_nums,\\\n",
        "            avarage_stock, capacity_reduction, done, _ = env.step(actions.cpu().numpy())\n",
        "\n",
        "            for day in temp_day_nums:\n",
        "              if len(day_end) != 0:\n",
        "                avarage_stocks[day].append(avarage_stock)\n",
        "                dry_runs_dict[day].append(dry_runs[day_end])\n",
        "              actions_daily[day].append(actions.detach())\n",
        "\n",
        "            vehicle_utilisation.append(capacity_reduction.mean())\n",
        "\n",
        "            acc_dist_loss += torch.tensor(loss, dtype=torch.float, device=self.device)\n",
        "\n",
        "            # diff_capacity = env.min_capacities - env.init_capacities\n",
        "            # diff_capacity = torch.tensor(diff_capacity, dtype=torch.float, device=self.device)\n",
        "            # diff_capacity = torch.max(diff_capacity, dim=2)[0]\n",
        "            # diff_capacity = torch.einsum('ij ->i', diff_capacity)\n",
        "\n",
        "            acc_dry_runs += dry_runs #torch.sigmoid(diff_capacity )\n",
        "\n",
        "            acc_remaining_time += torch.maximum(-remaining_time, zeros_rt).squeeze(0)\n",
        "\n",
        "            #acc_vehicle_count += torch.maximum(-k_vehicles, zeros_kv).squeeze(0)\n",
        "            #acc_vehicle_count += k_vehicles\n",
        "\n",
        "            acc_log_prob += log_prob.squeeze().to(self.device)\n",
        "\n",
        "            graph_state, vehicle_state, k_vehicles, remaining_time = env.get_state()\n",
        "\n",
        "            # graph_state = torch.tensor(graph_state, dtype=torch.float, device=self.device)\n",
        "            # vehicle_state = torch.tensor(vehicle_state, dtype=torch.float, device=self.device)\n",
        "            # k_vehicles = torch.tensor(k_vehicles, dtype=torch.float, device=self.device)\n",
        "            # remaining_time = torch.tensor(remaining_time, dtype=torch.float, device=self.device)\n",
        "\n",
        "\n",
        "        acc_vehicle_count += torch.maximum(-k_vehicles, zeros_kv).squeeze(0)\n",
        "\n",
        "        fullness_penalty = env.init_capacities\n",
        "\n",
        "        normalization_coef = (env.num_nodes - env.num_depots) * env.days_count *  env.products_count\n",
        "\n",
        "        acc_loss += acc_dist_loss - acc_dry_runs / normalization_coef   # + -1*acc_remaining_time -50 * len(actions_list)\n",
        "        self.decoder.reset()\n",
        "\n",
        "\n",
        "        for key in dry_runs_dict:\n",
        "          dry_runs_dict[key] = np.hstack(dry_runs_dict[key]).sum()\n",
        "        for key in avarage_stocks:\n",
        "          avarage_stocks[key] = np.vstack(avarage_stocks[key]).mean()\n",
        "\n",
        "        kpi = {\n",
        "            'actions_list':actions_list,\n",
        "            'actions_daily':actions_daily,\n",
        "            'avarage_stocks':avarage_stocks,\n",
        "            'dry_runs':dry_runs_dict,\n",
        "            'vehicle_utilisation':np.array(vehicle_utilisation).mean(),\n",
        "        }\n",
        "\n",
        "        return acc_loss, acc_log_prob, actions_list, acc_dist_loss, acc_dry_runs, kpi  # shape (batch_size), shape (batch_size)\n",
        "\n",
        "\n",
        "class IRPAgent:\n",
        "    def __init__(\n",
        "        self,\n",
        "        depot_dim: int = 2,\n",
        "        node_dim: int = 5,\n",
        "        emb_dim: int = 128,\n",
        "        hidden_dim: int = 512,\n",
        "        num_attention_layers: int = 10,\n",
        "        num_heads: int = 8,\n",
        "        lr: float = 1e-4,\n",
        "        csv_path: str = \"loss_log.csv\",\n",
        "        seed: int = 69,\n",
        "    ):\n",
        "        \"\"\"\n",
        "        The IPRAgent is used in companionship with the IPREnv\n",
        "        to solve the capacited vehicle routing problem.\n",
        "\n",
        "        Args:\n",
        "            depot_dim (int): Input dimension of a graph depot.\n",
        "            node_dim (int): Input dimension of a regular graph node.\n",
        "            emb_dim (int): Size of a vector in the embedding space.\n",
        "            hidden_dim (int): Dimension of the hidden layers of the\n",
        "                ff-network layers within the graph-encoder.\n",
        "            num_attention_layers (int): Number of attention layers\n",
        "                for both the graph-encoder and -decoder.\n",
        "            num_heads (int): Number of attention heads in each\n",
        "                MultiHeadAttentionLayer for both the graph-encoder and -decoder.\n",
        "            lr (float): learning rate.\n",
        "            csv_path (string): file where the loss gets saved.\n",
        "            seed (int): the seed.\n",
        "        \"\"\"\n",
        "        torch.manual_seed(seed)\n",
        "        np.random.seed(seed)\n",
        "\n",
        "        self.device = torch.device(\"cuda:0\" if torch.cuda.is_available() else \"cpu\")\n",
        "        self.csv_path = csv_path\n",
        "        self.model = IRPModel(\n",
        "            depot_dim=depot_dim,\n",
        "            node_dim=node_dim,\n",
        "            emb_dim=emb_dim,\n",
        "            hidden_dim=hidden_dim,\n",
        "            num_attention_layers=num_attention_layers,\n",
        "            num_heads=num_heads,\n",
        "        ).to(self.device)\n",
        "\n",
        "        self.target_model = IRPModel(\n",
        "            depot_dim=depot_dim,\n",
        "            node_dim=node_dim,\n",
        "            emb_dim=emb_dim,\n",
        "            hidden_dim=hidden_dim,\n",
        "            num_attention_layers=num_attention_layers,\n",
        "            num_heads=num_heads,\n",
        "        ).to(self.device)\n",
        "\n",
        "        self.target_model.load_state_dict(self.model.state_dict())\n",
        "        self.target_model.eval()\n",
        "\n",
        "        self.opt = torch.optim.Adam(self.model.parameters(), lr=lr)\n",
        "\n",
        "    def save_model(self, episode: int, check_point_dir: str) -> None:\n",
        "        \"\"\"\n",
        "        Saves the model parameters every 50 epochs.\n",
        "\n",
        "        Args:\n",
        "            episode (int): Current episode number\n",
        "            check_point_dir (str): Directory where the checkpoints\n",
        "                will be stored.\n",
        "        \"\"\"\n",
        "        if not os.path.exists(check_point_dir):\n",
        "            os.makedirs(check_point_dir)\n",
        "\n",
        "        if episode % 50 == 0 and episode != 0:\n",
        "            torch.save(\n",
        "                self.model.state_dict(), check_point_dir + f\"model_epoch_{episode}.pt\",\n",
        "            )\n",
        "\n",
        "    def step(self, env, rollouts: Tuple[bool, bool]):\n",
        "        \"\"\"\n",
        "        Plays the environment to completion for\n",
        "        both the baseline and the current model.\n",
        "\n",
        "        Resets the environment beforehand.\n",
        "\n",
        "        Args:\n",
        "            env (gym.env): Environment to train on\n",
        "            rollouts (Tuple[bool, bool]): Each entry decides\n",
        "                if we sample the actions from the learned\n",
        "                distribution or act greedy. Indices are for\n",
        "                the current model (0) and the baseline (1).\n",
        "\n",
        "        Returns:\n",
        "            (Tuple[torch.tensor, torch.tensor, torch.tensor]):\n",
        "                Tuple of the loss of the current model, the loss\n",
        "                of the baseline and the log_probability for the\n",
        "                current model.\n",
        "        \"\"\"\n",
        "\n",
        "        env_baseline = deepcopy(env)\n",
        "\n",
        "        # Go through graph batch and get loss\n",
        "        loss, log_prob, actions_list, acc_vehicle_count, acc_remaining_time, kpi = self.model(env, rollouts[0])\n",
        "\n",
        "        with torch.no_grad():\n",
        "            loss_b, _, _, _, _, _ = self.target_model(env_baseline, rollouts[0])\n",
        "\n",
        "        return loss, loss_b, log_prob, actions_list, acc_vehicle_count, acc_remaining_time, kpi\n",
        "\n",
        "    def evaluate(self, env):\n",
        "        \"\"\"\n",
        "        Evalutes the current model on the given environment.\n",
        "\n",
        "        Args:\n",
        "            env (gym.env): TSPAgent (or inherited) environment\n",
        "                to evaluate\n",
        "\n",
        "        Returns:\n",
        "            torch.Tensor: Reward (e.g. -cost) of the current model.\n",
        "        \"\"\"\n",
        "        self.model.eval()\n",
        "\n",
        "        with torch.no_grad():\n",
        "            loss, _, actions_list, _, _, kpi = self.model(env, rollout=True)\n",
        "\n",
        "        return loss, actions_list, kpi\n",
        "\n",
        "    def baseline_update(self, env, batch_steps: int = 3):\n",
        "        \"\"\"\n",
        "        Updates the baseline with the current model iff\n",
        "        it perform significantly better than the baseline.\n",
        "\n",
        "        Args:\n",
        "            env (gym.env): Env to step through\n",
        "            batch_steps (int, optional): How many games to play.\n",
        "        \"\"\"\n",
        "        logging.info(\"Update Baseline\")\n",
        "        self.model.eval()\n",
        "        self.target_model.eval()\n",
        "\n",
        "        current_model_cost = []\n",
        "        baseline_model_cost = []\n",
        "        with torch.no_grad():\n",
        "            for _ in range(batch_steps):\n",
        "                loss, loss_b, _, _, _, _, _ = self.step(env, [False, True])\n",
        "\n",
        "                current_model_cost.append(loss)\n",
        "                baseline_model_cost.append(loss_b)\n",
        "\n",
        "        current_model_cost = torch.cat(current_model_cost)\n",
        "        baseline_model_cost = torch.cat(baseline_model_cost)\n",
        "        advantage = ((current_model_cost - baseline_model_cost) * -1).mean()\n",
        "        _, p_value = stats.ttest_rel(\n",
        "            current_model_cost.tolist(), baseline_model_cost.tolist()\n",
        "        )\n",
        "\n",
        "        if advantage.item() <= 0 and p_value <= 0.05:\n",
        "            print(\"replacing baceline\")\n",
        "            self.target_model.load_state_dict(self.model.state_dict())"
      ]
    },
    {
      "cell_type": "markdown",
      "metadata": {
        "id": "sCBwqL1QPjPq"
      },
      "source": [
        "# Train"
      ]
    },
    {
      "cell_type": "code",
      "execution_count": 49,
      "metadata": {
        "id": "kBC3UqOv7sBd"
      },
      "outputs": [],
      "source": [
        "def train(\n",
        "        agent,\n",
        "        train_dataset,\n",
        "        batch_size,\n",
        "        k_vehicles,\n",
        "        max_trips,\n",
        "        epochs: int = 100,\n",
        "        eval_epochs: int = 1,\n",
        "        check_point_dir: str = \"./check_points/\",\n",
        "    ):\n",
        "        \"\"\"\n",
        "        Trains the TSPAgent on an TSPEnvironment.\n",
        "\n",
        "        Args:\n",
        "            env: TSPEnv instance to train on\n",
        "            epochs (int, optional): Amount of epochs to train. Defaults to 100.\n",
        "            eval_epochs (int, optional): Amount of epochs to evaluate the current\n",
        "                model against the baseline. Defaults to 1.\n",
        "            check_point_dir (str, optional): Directiory that the checkpoints will\n",
        "                be stored in. Defaults to \"./check_points/\".\n",
        "        \"\"\"\n",
        "        logging.info(\"Start Training\")\n",
        "        with open(agent.csv_path, \"w+\", newline=\"\") as file:\n",
        "            writer = csv.writer(file)\n",
        "            writer.writerow([\"Epoch\", \"Loss\", \"Cost\", \"Advantage\", \"Time\"])\n",
        "\n",
        "        start_time = time.time()\n",
        "\n",
        "        loss_history = []\n",
        "        rem_time_history = []\n",
        "        k_vehicles_history = []\n",
        "\n",
        "        for e in tqdm(range(epochs), total=epochs):\n",
        "          for batch_orig in train_dataset:\n",
        "            batch = deepcopy(batch_orig)\n",
        "            env = IRPEnv_Custom(batch,\n",
        "                                num_depots=dataset.num_depots,\n",
        "                                num_nodes=dataset.num_nodes,\n",
        "                                batch_size=batch_size,\n",
        "                                k_vehicles=random.randint(2, k_vehicles),\n",
        "                                max_trips=max_trips,\n",
        "                                products_count=dataset.products_count)\n",
        "\n",
        "            agent.model.train()\n",
        "\n",
        "            loss_m, loss_b, log_prob, actions_list, acc_vehicle_count, acc_remaining_time, kpi = agent.step(env, (False, True))\n",
        "            advantage = (loss_m - loss_b) * -1\n",
        "            loss = (advantage * log_prob).mean()\n",
        "            loss_history.append(loss.mean())\n",
        "            rem_time_history.append(acc_vehicle_count.sum())\n",
        "            k_vehicles_history.append(acc_remaining_time.sum())\n",
        "\n",
        "            # backpropagate\n",
        "            agent.opt.zero_grad()\n",
        "            loss.backward()\n",
        "\n",
        "            agent.opt.step()\n",
        "\n",
        "            # update model if better\n",
        "            env = IRPEnv_Custom(batch,\n",
        "                                num_depots=dataset.num_depots,\n",
        "                                num_nodes=dataset.num_nodes,\n",
        "                                batch_size=batch_size,\n",
        "                                k_vehicles=k_vehicles,\n",
        "                                products_count=dataset.products_count)\n",
        "            agent.baseline_update(env, eval_epochs)\n",
        "\n",
        "            logging.info(\n",
        "                f\"Epoch {e} finished - Loss: {loss}, Advantage: {advantage.mean()} Dist: {loss_m.mean()}\"\n",
        "            )\n",
        "\n",
        "            # log training data\n",
        "            with open(agent.csv_path, \"a\", newline=\"\") as file:\n",
        "                writer = csv.writer(file)\n",
        "                writer.writerow(\n",
        "                    [\n",
        "                        e,\n",
        "                        loss.item(),\n",
        "                        loss_m.mean().item(),\n",
        "                        advantage.mean().item(),\n",
        "                        time.time() - start_time,\n",
        "                    ]\n",
        "                )\n",
        "\n",
        "            agent.save_model(episode=e, check_point_dir=check_point_dir)\n",
        "        return loss_history, rem_time_history, k_vehicles_history, kpi"
      ]
    },
    {
      "cell_type": "markdown",
      "metadata": {
        "id": "GGx1-cRi8dUf"
      },
      "source": [
        "# Experiments"
      ]
    },
    {
      "cell_type": "code",
      "execution_count": 50,
      "metadata": {
        "id": "113jtSQkzKbu",
        "colab": {
          "base_uri": "https://localhost:8080/"
        },
        "outputId": "7fa25ada-eaff-41d5-ba3d-b16af41b969d"
      },
      "outputs": [
        {
          "output_type": "stream",
          "name": "stdout",
          "text": [
            "/content/VRP-GYM\n"
          ]
        }
      ],
      "source": [
        "%cd /content/VRP-GYM"
      ]
    },
    {
      "cell_type": "code",
      "execution_count": 51,
      "metadata": {
        "id": "aPWVh5IuEykU"
      },
      "outputs": [],
      "source": [
        "result = {}"
      ]
    },
    {
      "cell_type": "markdown",
      "metadata": {
        "id": "XtycZ3bi8gIR"
      },
      "source": [
        "## Node count = 10, wheel graphs, product count = 3"
      ]
    },
    {
      "cell_type": "markdown",
      "metadata": {
        "id": "AKvfzpLIAF4y"
      },
      "source": [
        "### Generate data"
      ]
    },
    {
      "cell_type": "code",
      "execution_count": 57,
      "metadata": {
        "id": "Zut6YbUX_2or"
      },
      "outputs": [],
      "source": [
        "dataset_dir='/content/drive/MyDrive/GraphDataset/wheel_10/'\n",
        "generation_function=create_wheel_noised\n",
        "num_nodes=5\n",
        "num_graphs=10\n",
        "compartment_capacity=50\n",
        "planning_horizon=7\n",
        "noise_demand=0.0\n",
        "num_depots=1\n",
        "k_vehicles=10\n",
        "\n",
        "products_count=1\n",
        "seed = 5\n",
        "node_dim = products_count*4 + 2\n",
        "batch_size = 10"
      ]
    },
    {
      "cell_type": "markdown",
      "metadata": {
        "id": "NFGJw4oGAJmS"
      },
      "source": [
        "### Learn model"
      ]
    },
    {
      "cell_type": "code",
      "source": [
        "dataset = CustomImageDataset(dataset_dir=dataset_dir,\n",
        "        generation_function=generation_function,\n",
        "        num_nodes=num_nodes,\n",
        "        num_graphs=num_graphs,\n",
        "        compartment_capacity=compartment_capacity,\n",
        "        planning_horizon=planning_horizon,\n",
        "        noise_demand=noise_demand,\n",
        "        num_depots=num_depots,\n",
        "        k_vehicles=k_vehicles,\n",
        "        products_count=products_count)\n",
        "\n",
        "train_dataloader = DataLoader(dataset, batch_size=batch_size, shuffle=True)"
      ],
      "metadata": {
        "colab": {
          "base_uri": "https://localhost:8080/"
        },
        "id": "S1JPz93dDa8j",
        "outputId": "2a5ca2e0-2ef2-446a-f262-53b3084390e4"
      },
      "execution_count": 58,
      "outputs": [
        {
          "output_type": "stream",
          "name": "stderr",
          "text": [
            "100%|██████████| 10/10 [00:00<00:00, 2638.76it/s]\n"
          ]
        }
      ]
    },
    {
      "cell_type": "code",
      "source": [
        "size = 100\n",
        "y = np.random.randint(low=0, high=63, size=size)/63\n",
        "\n",
        "x = np.arange(0, size, 1, dtype=int)\n",
        "plt.plot(x,y, color='green',)\n",
        "y = np.tanh(y)\n",
        "plt.plot(x,y)"
      ],
      "metadata": {
        "colab": {
          "base_uri": "https://localhost:8080/",
          "height": 447
        },
        "id": "0GP5ZPNNdsqk",
        "outputId": "7a8b66ae-19a1-4a49-c97f-b1b89dbe934d"
      },
      "execution_count": 59,
      "outputs": [
        {
          "output_type": "execute_result",
          "data": {
            "text/plain": [
              "[<matplotlib.lines.Line2D at 0x78da9d4d1420>]"
            ]
          },
          "metadata": {},
          "execution_count": 59
        },
        {
          "output_type": "display_data",
          "data": {
            "text/plain": [
              "<Figure size 640x480 with 1 Axes>"
            ],
            "image/png": "[encoded data removed]"
          },
          "metadata": {}
        }
      ]
    },
    {
      "cell_type": "code",
      "source": [
        "agent_irp = IRPAgent(node_dim=node_dim,\n",
        "            seed=seed, csv_path=f\"./train_logs/my_loss_log_irp_{num_nodes}_{seed}.csv\",)"
      ],
      "metadata": {
        "id": "2RyxJucaFF0b"
      },
      "execution_count": 60,
      "outputs": []
    },
    {
      "cell_type": "code",
      "execution_count": null,
      "metadata": {
        "colab": {
          "base_uri": "https://localhost:8080/"
        },
        "id": "p7zLZr4D_Thj",
        "outputId": "2c0a8494-19b2-4955-8bb7-6c1d3ed27783"
      },
      "outputs": [
        {
          "output_type": "stream",
          "name": "stderr",
          "text": [
            "\r  0%|          | 0/100 [00:00<?, ?it/s]<ipython-input-33-06376a48975b>:268: DeprecationWarning: Calling nonzero on 0d arrays is deprecated, as it behaves surprisingly. Use `atleast_1d(cond).nonzero()` if the old behavior was intended. If the context of this warning is of the form `arr[nonzero(cond)]`, just use `arr[cond]`.\n",
            "  exceed_time = np.where(np.all(self.cur_remaining_time <= 0, axis=0))[0]\n",
            "<ipython-input-33-06376a48975b>:276: DeprecationWarning: Calling nonzero on 0d arrays is deprecated, as it behaves surprisingly. Use `atleast_1d(cond).nonzero()` if the old behavior was intended. If the context of this warning is of the form `arr[nonzero(cond)]`, just use `arr[cond]`.\n",
            "  exceed_vehicles = np.where(np.all(self.vehicles <= 0, axis=0))[0]\n",
            "  3%|▎         | 3/100 [00:36<20:43, 12.82s/it]"
          ]
        },
        {
          "output_type": "stream",
          "name": "stdout",
          "text": [
            "replacing baceline\n"
          ]
        },
        {
          "output_type": "stream",
          "name": "stderr",
          "text": [
            "  5%|▌         | 5/100 [01:07<21:46, 13.75s/it]"
          ]
        }
      ],
      "source": [
        "import time\n",
        "loss_history, rem_time_history, k_vehicles_history, kpi = train(agent_irp,\n",
        "            train_dataloader,\n",
        "            batch_size=batch_size,\n",
        "            k_vehicles=k_vehicles,\n",
        "            epochs=100,\n",
        "            max_trips=2,\n",
        "            check_point_dir=f\"./check_points/my_irp_{num_nodes}_{seed}/\",)"
      ]
    },
    {
      "cell_type": "code",
      "execution_count": null,
      "metadata": {
        "id": "MQq0XqHWfkb-"
      },
      "outputs": [],
      "source": [
        "import matplotlib.pyplot as plt\n",
        "\n",
        "loss_history = torch.tensor(loss_history)\n",
        "rem_time_history = torch.tensor(rem_time_history)\n",
        "k_vehicles_history = torch.tensor(k_vehicles_history)\n",
        "\n",
        "linspace = np.array(range(len(loss_history)))\n",
        "plt.plot(linspace, loss_history.numpy())"
      ]
    },
    {
      "cell_type": "code",
      "execution_count": null,
      "metadata": {
        "id": "D1dpmzGlkiwg"
      },
      "outputs": [],
      "source": [
        "plt.plot(linspace, rem_time_history.numpy())"
      ]
    },
    {
      "cell_type": "code",
      "execution_count": null,
      "metadata": {
        "id": "fnM_weCykl7-"
      },
      "outputs": [],
      "source": [
        "plt.plot(linspace, k_vehicles_history.numpy())"
      ]
    },
    {
      "cell_type": "markdown",
      "metadata": {
        "id": "lDdcpinsAwTb"
      },
      "source": [
        "### Pred on CPSAT"
      ]
    },
    {
      "cell_type": "code",
      "execution_count": null,
      "metadata": {
        "id": "tE5RnWoxXjeW"
      },
      "outputs": [],
      "source": [
        "# num_nodes = 10\n",
        "# synth_data = create_wheel_noised(num_nodes)\n",
        "# data_nn, data_cpsat = get_graph_dict(synth_data,\n",
        "#                                      num_nodes,\n",
        "#                                      products_count,\n",
        "#                                      compartment_capacity,\n",
        "#                                      7,\n",
        "#                                      k_vehicles=k_vehicles,\n",
        "#                                      noise_demand=0.0,\n",
        "#                                      draw=True)\n",
        "\n",
        "data_nn = dataset[0]\n",
        "data_cpsat = dataset.model_for_cpsat"
      ]
    },
    {
      "cell_type": "code",
      "execution_count": null,
      "metadata": {
        "id": "sE6BFej-_shS"
      },
      "outputs": [],
      "source": [
        "import time\n",
        "task_builder = TaskBuilder_MPPSRP_FullMILP_CPSAT( max_trips_per_day=2, verbose=True )\n",
        "task = task_builder.build_task( data_cpsat )\n",
        "\n",
        "print(\"Dataset name: {}\".format( dataset_name ))\n",
        "print(\"Solving start time: {}\".format( datetime.now() ))\n",
        "task_solver = TaskSolver_MPPSRP_CPSAT( cache_dir=interim_dir,\n",
        "                                       cache_all_feasible_solutions=False,\n",
        "                                       solution_prefix=dataset_name,\n",
        "                                       time_limit_milliseconds=300_000)\n",
        "start_time = time.time()\n",
        "solution = task_solver.solve( task )\n",
        "delta_time = time.time() - start_time\n",
        "print('kpi')\n",
        "kpi_dict = solution.get_kpis()\n",
        "pprint( kpi_dict )\n",
        "\n",
        "print()\n",
        "routes_schedule = solution.get_routes_schedule()\n",
        "pprint( routes_schedule )\n",
        "\n",
        "print(\"done\")"
      ]
    },
    {
      "cell_type": "markdown",
      "metadata": {
        "id": "GbCt4-eLAM5Q"
      },
      "source": [
        "### Pred on model"
      ]
    },
    {
      "cell_type": "code",
      "source": [
        "item = dataset[0]\n",
        "new_item = []\n",
        "for i in range(len(item)):\n",
        "  new_item.append(np.expand_dims(item[i], axis=0))"
      ],
      "metadata": {
        "id": "ugxVJGUsFvI8"
      },
      "execution_count": null,
      "outputs": []
    },
    {
      "cell_type": "code",
      "execution_count": null,
      "metadata": {
        "id": "0IsBhctg_lDy"
      },
      "outputs": [],
      "source": [
        "import time\n",
        "from copy import deepcopy\n",
        "\n",
        "temp_data = deepcopy(new_item)\n",
        "# batch = [np.expand_dims(temp_data['positions'], axis=0),\\\n",
        "#           np.expand_dims(temp_data['travel_time_matrix'], axis=0), \\\n",
        "#           np.expand_dims(temp_data['node_demand'], axis=0),\\\n",
        "#           np.expand_dims(temp_data['depots'], axis=0),\\\n",
        "#           np.expand_dims(temp_data['vehicle_time_windows'], axis=0),\\\n",
        "#           np.expand_dims(temp_data['restriction_matrix'], axis=0),\\\n",
        "#           np.expand_dims(temp_data['service_times'], axis=0),\\\n",
        "#           np.expand_dims(temp_data['min_capacities'], axis=0),\\\n",
        "#           np.expand_dims(temp_data['max_capacities'], axis=0),\\\n",
        "#           np.expand_dims(temp_data['init_capacities'], axis=0)]\n",
        "\n",
        "\n",
        "\n",
        "\n",
        "\n",
        "env_irp = IRPEnv_Custom(temp_data,\n",
        "                        num_depots=num_depots,\n",
        "                        num_nodes=num_nodes,\n",
        "                        batch_size=1,\n",
        "                        k_vehicles=10,\n",
        "                        products_count=products_count,\n",
        "                        seed=seed)\n",
        "\n",
        "start_time = time.time()\n",
        "loss_a, actions_list, kpi = agent_irp.evaluate(env_irp)\n",
        "delta_time_model = time.time() - start_time\n",
        "print(loss_a)"
      ]
    },
    {
      "cell_type": "code",
      "execution_count": null,
      "metadata": {
        "id": "P4_Cj-VxCrOI"
      },
      "outputs": [],
      "source": [
        "actions = [e.item() for e in actions_list]\n",
        "m = data_cpsat['distance_matrix']\n",
        "t = data_cpsat['travel_time_matrix']\n",
        "\n",
        "time_delta = 18*60*60 - 9*60*60\n",
        "\n",
        "sum_dist = 0\n",
        "sum_time = 0\n",
        "global_sum_time = 0\n",
        "exceeded_time = 0\n",
        "actions.insert(0,0)\n",
        "print(actions)\n",
        "for i in range(len(actions)-1):\n",
        "  start = actions[i]\n",
        "  end = actions[i+1]\n",
        "  dist = m[start][end]\n",
        "  edge_time = t[start][end]\n",
        "  sum_time += edge_time\n",
        "  global_sum_time += edge_time\n",
        "  sum_dist += dist\n",
        "\n",
        "  if end == 0 and sum_time > time_delta:\n",
        "    #print(start, end)\n",
        "    exceeded_time += 1\n",
        "    sum_time = 0\n",
        "  #print(f'{start} -> {end} : dist = {dist} time = {edge_time}')\n",
        "\n",
        "print()\n",
        "print(f'sum_dist={sum_dist}, sum_time={global_sum_time}, exceeded_time = {exceeded_time}')"
      ]
    },
    {
      "cell_type": "code",
      "source": [
        "\n",
        "nn_paths = divide_to_paths_nn(actions)\n",
        "lengths = []\n",
        "for e in nn_paths:\n",
        "  if not np.all(np.array(e) == 0):\n",
        "    lengths.append(len(e))\n",
        "np.array(lengths).mean()"
      ],
      "metadata": {
        "id": "HLdAp4WHr_yj"
      },
      "execution_count": null,
      "outputs": []
    },
    {
      "cell_type": "code",
      "source": [
        "kpi['mean_stops'] = np.array(lengths).mean()"
      ],
      "metadata": {
        "id": "PJ4lixs5Fsrf"
      },
      "execution_count": null,
      "outputs": []
    },
    {
      "cell_type": "code",
      "source": [
        "kpi['avarage_stocks']"
      ],
      "metadata": {
        "id": "WzIH8OX91OkJ"
      },
      "execution_count": null,
      "outputs": []
    },
    {
      "cell_type": "code",
      "source": [
        "kpi['dry_runs']"
      ],
      "metadata": {
        "id": "QhN7VDGs767_"
      },
      "execution_count": null,
      "outputs": []
    },
    {
      "cell_type": "code",
      "source": [
        "actions_daily = kpi['actions_daily']\n",
        "for key in actions_daily:\n",
        "  actions_daily[key] =[e.item() for e in actions_daily[key]]"
      ],
      "metadata": {
        "id": "WkS-28VXF8c1"
      },
      "execution_count": null,
      "outputs": []
    },
    {
      "cell_type": "code",
      "source": [
        "kpi['dry_runs'].values()"
      ],
      "metadata": {
        "id": "Xtex5Hbawljd"
      },
      "execution_count": null,
      "outputs": []
    },
    {
      "cell_type": "code",
      "execution_count": null,
      "metadata": {
        "id": "L2b2AF5FBag0"
      },
      "outputs": [],
      "source": [
        "result['wheel_10_3'] = {\n",
        "        'sum_dist_cpsat':kpi_dict['total_travel_distance'],\n",
        "        'sum_dist_model':sum_dist,\n",
        "        'error': (kpi_dict['total_travel_distance'] - sum_dist) / kpi_dict['total_travel_distance'],\n",
        "        'time_cpsat':delta_time,\n",
        "        'time_model':delta_time_model,\n",
        "        'dry_runs_model':sum(list(kpi['dry_runs'].values())),\n",
        "        'dry_runs_cpsat':kpi_dict['dry_runs'],\n",
        "    }\n",
        "pd.DataFrame.from_dict(result, orient='index',).round(3)"
      ]
    },
    {
      "cell_type": "code",
      "execution_count": null,
      "metadata": {
        "id": "lUXaj3t9A1UU"
      },
      "outputs": [],
      "source": [
        "\n",
        "nn_paths = divide_to_paths_nn(actions_daily[0.0])\n",
        "print(len(nn_paths))\n",
        "draw_paths(data_nn, nn_paths)"
      ]
    },
    {
      "cell_type": "code",
      "source": [
        "\n",
        "nn_paths = divide_to_paths_nn(actions_daily[1.0])\n",
        "print(len(nn_paths))\n",
        "draw_paths(data_nn, nn_paths)"
      ],
      "metadata": {
        "id": "hreVF6YgICLh"
      },
      "execution_count": null,
      "outputs": []
    },
    {
      "cell_type": "code",
      "source": [
        "nn_paths = divide_to_paths_nn(actions_daily[3.0])\n",
        "print(len(nn_paths))\n",
        "draw_paths(data_nn, nn_paths)"
      ],
      "metadata": {
        "id": "qtAwHOwlIEiW"
      },
      "execution_count": null,
      "outputs": []
    },
    {
      "cell_type": "code",
      "source": [
        "nn_paths = divide_to_paths_nn(actions_daily[4.0])\n",
        "print(len(nn_paths))\n",
        "draw_paths(data_nn, nn_paths)"
      ],
      "metadata": {
        "id": "80ZpUbWxIHDJ"
      },
      "execution_count": null,
      "outputs": []
    },
    {
      "cell_type": "code",
      "source": [
        "nn_paths = divide_to_paths_nn(actions_daily[5.0])\n",
        "print(len(nn_paths))\n",
        "draw_paths(data_nn, nn_paths)"
      ],
      "metadata": {
        "id": "ZeB0KKv4GFnW"
      },
      "execution_count": null,
      "outputs": []
    },
    {
      "cell_type": "code",
      "source": [
        "nn_paths = divide_to_paths_nn(actions_daily[6.0])\n",
        "print(len(nn_paths))\n",
        "draw_paths(data_nn, nn_paths)"
      ],
      "metadata": {
        "id": "Fl3ITJalGIEW"
      },
      "execution_count": null,
      "outputs": []
    },
    {
      "cell_type": "code",
      "source": [
        "actions_daily"
      ],
      "metadata": {
        "id": "XCD88jg5KinG"
      },
      "execution_count": null,
      "outputs": []
    },
    {
      "cell_type": "code",
      "source": [
        "nn_paths = divide_to_paths_nn(actions_daily[7.0])\n",
        "print(len(nn_paths))\n",
        "draw_paths(data_nn, nn_paths)"
      ],
      "metadata": {
        "id": "4YRnk6ryGKSv"
      },
      "execution_count": null,
      "outputs": []
    },
    {
      "cell_type": "code",
      "execution_count": null,
      "metadata": {
        "id": "_PS4EzqqCGO8"
      },
      "outputs": [],
      "source": [
        "cpsat_path = divide_to_path_cpsat(routes_schedule)\n",
        "draw_paths(data_nn, cpsat_path)"
      ]
    },
    {
      "cell_type": "markdown",
      "metadata": {
        "id": "Dul28ELW8mC0"
      },
      "source": [
        "## Node count = 20, wheel graphs"
      ]
    },
    {
      "cell_type": "markdown",
      "metadata": {
        "id": "-ELE0ue9E4wK"
      },
      "source": [
        "### Generate data"
      ]
    },
    {
      "cell_type": "code",
      "execution_count": null,
      "metadata": {
        "id": "SzAOZAmDE4wd"
      },
      "outputs": [],
      "source": [
        "num_nodes = 20\n",
        "products_count = 3\n",
        "compartment_capacity = 50\n",
        "dir = '/content/drive/MyDrive/GraphDataset/wheel_20/'"
      ]
    },
    {
      "cell_type": "code",
      "execution_count": null,
      "metadata": {
        "id": "PVRHKWHOE4we"
      },
      "outputs": [],
      "source": [
        "generate_dataset(create_wheel_noised,\n",
        "                 num_nodes=num_nodes,\n",
        "                 num_graphs=100,\n",
        "                 compartment_capacity=compartment_capacity,\n",
        "                 products_count=products_count,\n",
        "                 dataset_dir = dir)"
      ]
    },
    {
      "cell_type": "markdown",
      "metadata": {
        "id": "ty6RbfrYE4we"
      },
      "source": [
        "### Learn model"
      ]
    },
    {
      "cell_type": "code",
      "execution_count": null,
      "metadata": {
        "id": "Sql_xuqIE4wf"
      },
      "outputs": [],
      "source": [
        "files = os.listdir(dir)\n",
        "dataset = [load(Path(dir, file)) for file in files[0:100]]\n",
        "\n",
        "seed = 69\n",
        "num_node = dataset[0]['num_nodes']\n",
        "node_dim = dataset[0]['products_count'] + 2\n",
        "batch_size=100\n",
        "\n",
        "agent_irp = IRPAgent(node_dim=node_dim,\n",
        "            seed=seed, csv_path=f\"./train_logs/my_loss_log_irp_{num_node}_{seed}.csv\",)\n",
        "\n",
        "train(agent_irp,\n",
        "            dataset,\n",
        "            batch_size=batch_size,\n",
        "            epochs=20,\n",
        "            check_point_dir=f\"./check_points/my_irp_{num_node}_{seed}/\",)"
      ]
    },
    {
      "cell_type": "markdown",
      "metadata": {
        "id": "ix8-oAWhE4wf"
      },
      "source": [
        "### Pred on CPSAT"
      ]
    },
    {
      "cell_type": "code",
      "execution_count": null,
      "metadata": {
        "id": "XULAzokA1gOM"
      },
      "outputs": [],
      "source": [
        "synth_data = create_wheel_noised(num_nodes)\n",
        "data_nn, data_cpsat = get_graph_dict(synth_data,\n",
        "                                     num_nodes,\n",
        "                                     products_count,\n",
        "                                     compartment_capacity,\n",
        "                                     planning_horizon,\n",
        "                                     noise_demand=0.2,\n",
        "                                     draw=True)"
      ]
    },
    {
      "cell_type": "code",
      "execution_count": null,
      "metadata": {
        "id": "_Nfc-yOFE4wf"
      },
      "outputs": [],
      "source": [
        "task_builder = TaskBuilder_MPPSRP_FullMILP_CPSAT( max_trips_per_day=100, verbose=True )\n",
        "task = task_builder.build_task( data_cpsat )\n",
        "\n",
        "print(\"Dataset name: {}\".format( dataset_name ))\n",
        "print(\"Solving start time: {}\".format( datetime.now() ))\n",
        "task_solver = TaskSolver_MPPSRP_CPSAT( cache_dir=interim_dir,\n",
        "                                       cache_all_feasible_solutions=False,\n",
        "                                       solution_prefix=dataset_name,\n",
        "                                       time_limit_milliseconds=300_000 )\n",
        "start_time = time.time()\n",
        "solution = task_solver.solve( task )\n",
        "delta_time = time.time() - start_time\n",
        "print('kpi')\n",
        "kpi_dict = solution.get_kpis()\n",
        "pprint( kpi_dict )\n",
        "\n",
        "print()\n",
        "routes_schedule = solution.get_routes_schedule()\n",
        "pprint( routes_schedule )\n",
        "\n",
        "print(\"done\")"
      ]
    },
    {
      "cell_type": "markdown",
      "metadata": {
        "id": "HaxfqmXkE4wg"
      },
      "source": [
        "### Pred on model"
      ]
    },
    {
      "cell_type": "code",
      "execution_count": null,
      "metadata": {
        "id": "yvam9RQsE4wg"
      },
      "outputs": [],
      "source": [
        "seed = 69\n",
        "\n",
        "VRPNetwork = VRPNetwork_Synthetic([data_nn], 1)\n",
        "env_irp = IRPEnv_Custom(VRPNetwork, seed=seed, num_draw=1)\n",
        "\n",
        "start_time = time.time()\n",
        "loss_a, actions_list = agent_irp.evaluate(env_irp)\n",
        "delta_time_model = time.time() - start_time\n",
        "print(loss_a)\n",
        "\n",
        "a = env_irp.render()"
      ]
    },
    {
      "cell_type": "code",
      "execution_count": null,
      "metadata": {
        "id": "ddC5Na1UE4wh"
      },
      "outputs": [],
      "source": [
        "actions = [e.item() for e in actions_list]\n",
        "m = synth_data['weight_matrix']\n",
        "\n",
        "sum_dist = 0\n",
        "actions.insert(0,0)\n",
        "print(actions)\n",
        "for i in range(len(actions)-1):\n",
        "  start = actions[i]\n",
        "  end = actions[i+1]\n",
        "  dist = m[start][end]\n",
        "  sum_dist += dist\n",
        "  print(f'{start} -> {end} = {dist}')\n",
        "\n",
        "sum_dist"
      ]
    },
    {
      "cell_type": "code",
      "execution_count": null,
      "metadata": {
        "id": "J3OP7d3PE4wh"
      },
      "outputs": [],
      "source": [
        "result['wheel_20_3'] = {\n",
        "        'sum_dist_cpsat':kpi_dict['total_travel_distance'],\n",
        "        'sum_dist_model':sum_dist,\n",
        "        'error': (kpi_dict['total_travel_distance'] - sum_dist) / kpi_dict['total_travel_distance'],\n",
        "        'time_cpsat':delta_time,\n",
        "        'time_model':delta_time_model,\n",
        "    }\n",
        "pd.DataFrame.from_dict(result, orient='index',).round(3)"
      ]
    },
    {
      "cell_type": "code",
      "execution_count": null,
      "metadata": {
        "id": "IdFXZGFdApXN"
      },
      "outputs": [],
      "source": [
        "nn_paths = divide_to_paths_nn(actions)\n",
        "cpsat_path = divide_to_path_cpsat(routes_schedule)\n",
        "draw_paths(data_nn, nn_paths)"
      ]
    },
    {
      "cell_type": "code",
      "execution_count": null,
      "metadata": {
        "id": "Mkr8EffdFDVO"
      },
      "outputs": [],
      "source": [
        "draw_paths(data_nn, cpsat_path)"
      ]
    },
    {
      "cell_type": "markdown",
      "metadata": {
        "id": "0oyBQtI68o-z"
      },
      "source": [
        "## Node count = 8, tree graphs"
      ]
    },
    {
      "cell_type": "markdown",
      "metadata": {
        "id": "gZL__PVxMn8K"
      },
      "source": [
        "### Generate data"
      ]
    },
    {
      "cell_type": "code",
      "execution_count": null,
      "metadata": {
        "id": "U-u6JSe9Mn8b"
      },
      "outputs": [],
      "source": [
        "num_nodes = 8\n",
        "num_gen_nodes = int(math.log2(num_nodes))\n",
        "products_count = 3\n",
        "compartment_capacity = 50\n",
        "dir = '/content/drive/MyDrive/GraphDataset/tree_50/'"
      ]
    },
    {
      "cell_type": "code",
      "execution_count": null,
      "metadata": {
        "id": "XUKwunSKMn8c"
      },
      "outputs": [],
      "source": [
        "generate_dataset(create_tree_noised,\n",
        "                 num_nodes=num_gen_nodes,\n",
        "                 num_graphs=300,\n",
        "                 compartment_capacity=compartment_capacity,\n",
        "                 products_count=products_count,\n",
        "                 dataset_dir = dir,\n",
        "                 noise_demand=0.2,\n",
        "                 draw=False)"
      ]
    },
    {
      "cell_type": "markdown",
      "metadata": {
        "id": "P1Gx27SvMn8c"
      },
      "source": [
        "### Learn model"
      ]
    },
    {
      "cell_type": "code",
      "execution_count": null,
      "metadata": {
        "id": "Mev66111Mn8c"
      },
      "outputs": [],
      "source": [
        "files = os.listdir(dir)\n",
        "dataset = [load(Path(dir, file)) for file in files[0:300]]\n",
        "print(dataset[0]['products_count'])\n",
        "\n",
        "seed = 70\n",
        "num_node = dataset[0]['num_nodes']\n",
        "node_dim = dataset[0]['products_count'] + 2\n",
        "batch_size=100\n",
        "\n",
        "agent_irp = IRPAgent(node_dim=node_dim,\n",
        "            seed=seed, csv_path=f\"./train_logs/my_loss_log_irp_{num_node}_{seed}.csv\",)\n",
        "\n",
        "train(agent_irp,\n",
        "            dataset,\n",
        "            batch_size=batch_size,\n",
        "            epochs=150,\n",
        "            check_point_dir=f\"./check_points/my_irp_{num_node}_{seed}/\",)"
      ]
    },
    {
      "cell_type": "markdown",
      "metadata": {
        "id": "Xg3AsWkJMn8d"
      },
      "source": [
        "### Pred on CPSAT"
      ]
    },
    {
      "cell_type": "code",
      "execution_count": null,
      "metadata": {
        "id": "9t2cU_L17jfa"
      },
      "outputs": [],
      "source": [
        "synth_data = create_tree_noised(num_gen_nodes)\n",
        "data_nn, data_cpsat = get_graph_dict(synth_data,\n",
        "                                     num_nodes,\n",
        "                                     products_count,\n",
        "                                     compartment_capacity,\n",
        "                                     planning_horizon,\n",
        "                                     noise_demand=0.2,\n",
        "                                     draw=True)"
      ]
    },
    {
      "cell_type": "code",
      "execution_count": null,
      "metadata": {
        "id": "5AXpzYcnMn8d"
      },
      "outputs": [],
      "source": [
        "task_builder = TaskBuilder_MPPSRP_FullMILP_CPSAT( max_trips_per_day=100, verbose=True )\n",
        "task = task_builder.build_task( data_cpsat )\n",
        "\n",
        "print(\"Dataset name: {}\".format( dataset_name ))\n",
        "print(\"Solving start time: {}\".format( datetime.now() ))\n",
        "task_solver = TaskSolver_MPPSRP_CPSAT( cache_dir=interim_dir,\n",
        "                                       cache_all_feasible_solutions=False,\n",
        "                                       solution_prefix=dataset_name,\n",
        "                                       time_limit_milliseconds=300_000 )\n",
        "start_time = time.time()\n",
        "solution = task_solver.solve( task )\n",
        "delta_time = time.time() - start_time\n",
        "print('kpi')\n",
        "kpi_dict = solution.get_kpis()\n",
        "pprint( kpi_dict )\n",
        "\n",
        "print()\n",
        "routes_schedule = solution.get_routes_schedule()\n",
        "pprint( routes_schedule )\n",
        "\n",
        "print(\"done\")"
      ]
    },
    {
      "cell_type": "markdown",
      "metadata": {
        "id": "qqexbnmWMn8e"
      },
      "source": [
        "### Pred on model"
      ]
    },
    {
      "cell_type": "code",
      "execution_count": null,
      "metadata": {
        "id": "Y64Q7BgdMn8e"
      },
      "outputs": [],
      "source": [
        "seed = 69\n",
        "\n",
        "VRPNetwork = VRPNetwork_Synthetic([data_nn], num_depots=1)\n",
        "env_irp = IRPEnv_Custom(VRPNetwork, seed=seed, num_draw=1)\n",
        "\n",
        "start_time = time.time()\n",
        "loss_a, actions_list = agent_irp.evaluate(env_irp)\n",
        "delta_time_model = time.time() - start_time\n",
        "print(loss_a)\n",
        "\n",
        "a = env_irp.render()"
      ]
    },
    {
      "cell_type": "code",
      "execution_count": null,
      "metadata": {
        "id": "b3kdwBRyMn8f"
      },
      "outputs": [],
      "source": [
        "actions = [e.item() for e in actions_list]\n",
        "m = synth_data['weight_matrix']\n",
        "\n",
        "sum_dist = 0\n",
        "actions.insert(0,0)\n",
        "print(actions)\n",
        "for i in range(len(actions)-1):\n",
        "  start = actions[i]\n",
        "  end = actions[i+1]\n",
        "  dist = m[start][end]\n",
        "  sum_dist += dist\n",
        "  print(f'{start} -> {end} = {dist}')\n",
        "\n",
        "sum_dist"
      ]
    },
    {
      "cell_type": "code",
      "execution_count": null,
      "metadata": {
        "id": "2t30C5nBMn8f"
      },
      "outputs": [],
      "source": [
        "result[f'tree_{num_nodes}_{products_count}'] = {\n",
        "        'sum_dist_cpsat':kpi_dict['total_travel_distance'],\n",
        "        'sum_dist_model':sum_dist,\n",
        "        'error': (kpi_dict['total_travel_distance'] - sum_dist) / kpi_dict['total_travel_distance'],\n",
        "        'time_cpsat':delta_time,\n",
        "        'time_model':delta_time_model,\n",
        "    }\n",
        "pd.DataFrame.from_dict(result, orient='index',).round(3)"
      ]
    },
    {
      "cell_type": "code",
      "execution_count": null,
      "metadata": {
        "id": "9x2-ACG85MPj"
      },
      "outputs": [],
      "source": [
        "nn_paths = divide_to_paths_nn(actions)\n",
        "cpsat_path = divide_to_path_cpsat(routes_schedule)\n",
        "draw_paths(data_nn, nn_paths)"
      ]
    },
    {
      "cell_type": "code",
      "execution_count": null,
      "metadata": {
        "id": "2RhzV3ADDEJa"
      },
      "outputs": [],
      "source": [
        "draw_paths(data_nn, cpsat_path)"
      ]
    },
    {
      "cell_type": "markdown",
      "metadata": {
        "id": "RHlpaXsU8ta3"
      },
      "source": [
        "## Node count = 16, tree graphs"
      ]
    },
    {
      "cell_type": "markdown",
      "metadata": {
        "id": "sBqPA3ssTeXf"
      },
      "source": [
        "### Generate data"
      ]
    },
    {
      "cell_type": "code",
      "execution_count": null,
      "metadata": {
        "id": "JKts9RthTeXg"
      },
      "outputs": [],
      "source": [
        "num_nodes = 16\n",
        "num_gen_nodes = int(math.log2(num_nodes))\n",
        "products_count = 3\n",
        "compartment_capacity = 50\n",
        "dir = '/content/drive/MyDrive/GraphDataset/tree_64/'"
      ]
    },
    {
      "cell_type": "code",
      "execution_count": null,
      "metadata": {
        "id": "FAQFT9YBTeXg"
      },
      "outputs": [],
      "source": [
        "generate_dataset(create_tree_noised,\n",
        "                 num_nodes=num_gen_nodes,\n",
        "                 num_graphs=100,\n",
        "                 compartment_capacity=compartment_capacity,\n",
        "                 products_count=products_count,\n",
        "                 dataset_dir = dir,\n",
        "                 draw=False)"
      ]
    },
    {
      "cell_type": "markdown",
      "metadata": {
        "id": "KAyJ0pw-TeXg"
      },
      "source": [
        "### Learn model"
      ]
    },
    {
      "cell_type": "code",
      "execution_count": null,
      "metadata": {
        "id": "8KlcP1XkTeXh"
      },
      "outputs": [],
      "source": [
        "files = os.listdir(dir)\n",
        "dataset = [load(Path(dir, file)) for file in files[0:100]]\n",
        "\n",
        "seed = 69\n",
        "num_node = dataset[0]['num_nodes']\n",
        "node_dim = dataset[0]['products_count'] + 2\n",
        "batch_size=100\n",
        "\n",
        "agent_irp = IRPAgent(node_dim=node_dim,\n",
        "            seed=seed, csv_path=f\"./train_logs/my_loss_log_irp_{num_node}_{seed}.csv\",)\n",
        "\n",
        "train(agent_irp,\n",
        "            dataset,\n",
        "            batch_size=batch_size,\n",
        "            epochs=100,\n",
        "            check_point_dir=f\"./check_points/my_irp_{num_node}_{seed}/\",)"
      ]
    },
    {
      "cell_type": "markdown",
      "metadata": {
        "id": "qv3ZFDc8TeXi"
      },
      "source": [
        "### Pred on CPSAT"
      ]
    },
    {
      "cell_type": "code",
      "execution_count": null,
      "metadata": {
        "id": "B0P5YnINCseT"
      },
      "outputs": [],
      "source": [
        "synth_data = create_tree_noised(num_gen_nodes)\n",
        "data_nn, data_cpsat = get_graph_dict(synth_data,\n",
        "                                     num_nodes,\n",
        "                                     products_count,\n",
        "                                     compartment_capacity,\n",
        "                                     planning_horizon,\n",
        "                                     noise_demand=0.2,\n",
        "                                     draw=True)"
      ]
    },
    {
      "cell_type": "code",
      "execution_count": null,
      "metadata": {
        "id": "ux-sQ7MnTeXi"
      },
      "outputs": [],
      "source": [
        "task_builder = TaskBuilder_MPPSRP_FullMILP_CPSAT( max_trips_per_day=100, verbose=True )\n",
        "task = task_builder.build_task( data_cpsat )\n",
        "\n",
        "print(\"Dataset name: {}\".format( dataset_name ))\n",
        "print(\"Solving start time: {}\".format( datetime.now() ))\n",
        "task_solver = TaskSolver_MPPSRP_CPSAT( cache_dir=interim_dir,\n",
        "                                       cache_all_feasible_solutions=False,\n",
        "                                       solution_prefix=dataset_name,\n",
        "                                       time_limit_milliseconds=300_000 )\n",
        "start_time = time.time()\n",
        "solution = task_solver.solve( task )\n",
        "delta_time = time.time() - start_time\n",
        "print('kpi')\n",
        "kpi_dict = solution.get_kpis()\n",
        "pprint( kpi_dict )\n",
        "\n",
        "print()\n",
        "routes_schedule = solution.get_routes_schedule()\n",
        "pprint( routes_schedule )\n",
        "\n",
        "print(\"done\")"
      ]
    },
    {
      "cell_type": "markdown",
      "metadata": {
        "id": "XthdvTz_TeXj"
      },
      "source": [
        "### Pred on model"
      ]
    },
    {
      "cell_type": "code",
      "execution_count": null,
      "metadata": {
        "id": "DQRb4BtITeXj"
      },
      "outputs": [],
      "source": [
        "seed = 69\n",
        "\n",
        "VRPNetwork = VRPNetwork_Synthetic([data_nn], 1)\n",
        "env_irp = IRPEnv_Custom(VRPNetwork, seed=seed, num_draw=1)\n",
        "\n",
        "start_time = time.time()\n",
        "loss_a, actions_list = agent_irp.evaluate(env_irp)\n",
        "delta_time_model = time.time() - start_time\n",
        "print(loss_a)\n",
        "\n",
        "a = env_irp.render()"
      ]
    },
    {
      "cell_type": "code",
      "execution_count": null,
      "metadata": {
        "id": "ldYGX6TbTeXk"
      },
      "outputs": [],
      "source": [
        "actions = [e.item() for e in actions_list]\n",
        "m = synth_data['weight_matrix']\n",
        "\n",
        "sum_dist = 0\n",
        "actions.insert(0,0)\n",
        "print(actions)\n",
        "for i in range(len(actions)-1):\n",
        "  start = actions[i]\n",
        "  end = actions[i+1]\n",
        "  dist = m[start][end]\n",
        "  sum_dist += dist\n",
        "  print(f'{start} -> {end} = {dist}')\n",
        "\n",
        "sum_dist"
      ]
    },
    {
      "cell_type": "code",
      "execution_count": null,
      "metadata": {
        "id": "EGu2IkQ5TeXk"
      },
      "outputs": [],
      "source": [
        "result['tree_16_3'] = {\n",
        "        'sum_dist_cpsat':kpi_dict['total_travel_distance'],\n",
        "        'sum_dist_model':sum_dist,\n",
        "        'error': (kpi_dict['total_travel_distance'] - sum_dist) / kpi_dict['total_travel_distance'],\n",
        "        'time_cpsat':delta_time,\n",
        "        'time_model':delta_time_model,\n",
        "    }\n",
        "pd.DataFrame.from_dict(result, orient='index',).round(3)"
      ]
    },
    {
      "cell_type": "code",
      "execution_count": null,
      "metadata": {
        "id": "veSscJO9IWfa"
      },
      "outputs": [],
      "source": [
        "nn_paths = divide_to_paths_nn(actions)\n",
        "cpsat_path = divide_to_path_cpsat(routes_schedule)\n",
        "draw_paths(data_nn, nn_paths)"
      ]
    },
    {
      "cell_type": "code",
      "execution_count": null,
      "metadata": {
        "id": "PrgZCiNXIWfb"
      },
      "outputs": [],
      "source": [
        "draw_paths(data_nn, cpsat_path)"
      ]
    },
    {
      "cell_type": "code",
      "execution_count": null,
      "metadata": {
        "id": "t0D3fVifZT1a"
      },
      "outputs": [],
      "source": []
    },
    {
      "cell_type": "markdown",
      "metadata": {
        "id": "h5gQuMoTZUEf"
      },
      "source": [
        "## Node count = 16, grid graphs"
      ]
    },
    {
      "cell_type": "markdown",
      "metadata": {
        "id": "Dqx6j5HiZUEf"
      },
      "source": [
        "### Generate data"
      ]
    },
    {
      "cell_type": "code",
      "execution_count": null,
      "metadata": {
        "id": "7gU5LvHVZUEg"
      },
      "outputs": [],
      "source": [
        "num_nodes = 16\n",
        "num_gen_nodes = int(math.log2(num_nodes))\n",
        "products_count = 3\n",
        "compartment_capacity = 50\n",
        "dir = '/content/drive/MyDrive/GraphDataset/grid_16/'"
      ]
    },
    {
      "cell_type": "code",
      "execution_count": null,
      "metadata": {
        "id": "DSWu_ZeZZUEg"
      },
      "outputs": [],
      "source": [
        "generate_dataset(create_grid_noised,\n",
        "                 num_nodes=num_gen_nodes,\n",
        "                 num_graphs=100,\n",
        "                 compartment_capacity=compartment_capacity,\n",
        "                 products_count=products_count,\n",
        "                 dataset_dir = dir,\n",
        "                 draw=False)"
      ]
    },
    {
      "cell_type": "markdown",
      "metadata": {
        "id": "Ob9WEEaHZUEh"
      },
      "source": [
        "### Learn model"
      ]
    },
    {
      "cell_type": "code",
      "execution_count": null,
      "metadata": {
        "id": "oUVAHUobZUEh"
      },
      "outputs": [],
      "source": [
        "files = os.listdir(dir)\n",
        "dataset = [load(Path(dir, file)) for file in files[0:100]]\n",
        "\n",
        "seed = 69\n",
        "num_node = dataset[0]['num_nodes']\n",
        "node_dim = dataset[0]['products_count'] + 2\n",
        "batch_size=100\n",
        "\n",
        "agent_irp = IRPAgent(node_dim=node_dim,\n",
        "            seed=seed, csv_path=f\"./train_logs/my_loss_log_irp_{num_node}_{seed}.csv\",)\n",
        "\n",
        "train(agent_irp,\n",
        "            dataset,\n",
        "            batch_size=batch_size,\n",
        "            epochs=100,\n",
        "            check_point_dir=f\"./check_points/my_irp_{num_node}_{seed}/\",)"
      ]
    },
    {
      "cell_type": "markdown",
      "metadata": {
        "id": "l4dFWFxIZUEh"
      },
      "source": [
        "### Pred on CPSAT"
      ]
    },
    {
      "cell_type": "code",
      "execution_count": null,
      "metadata": {
        "id": "ynBeMkmLZUEi"
      },
      "outputs": [],
      "source": [
        "synth_data = create_grid_noised(num_gen_nodes)\n",
        "data_nn, data_cpsat = get_graph_dict(synth_data,\n",
        "                                     num_nodes,\n",
        "                                     products_count,\n",
        "                                     compartment_capacity,\n",
        "                                     planning_horizon,\n",
        "                                     noise_demand=0.2,\n",
        "                                     draw=True)"
      ]
    },
    {
      "cell_type": "code",
      "execution_count": null,
      "metadata": {
        "id": "vRvBwH82ZUEi"
      },
      "outputs": [],
      "source": [
        "task_builder = TaskBuilder_MPPSRP_FullMILP_CPSAT( max_trips_per_day=100, verbose=True )\n",
        "task = task_builder.build_task( data_cpsat )\n",
        "\n",
        "print(\"Dataset name: {}\".format( dataset_name ))\n",
        "print(\"Solving start time: {}\".format( datetime.now() ))\n",
        "task_solver = TaskSolver_MPPSRP_CPSAT( cache_dir=interim_dir,\n",
        "                                       cache_all_feasible_solutions=False,\n",
        "                                       solution_prefix=dataset_name,\n",
        "                                       time_limit_milliseconds=6000_000 )\n",
        "start_time = time.time()\n",
        "solution = task_solver.solve( task )\n",
        "delta_time = time.time() - start_time\n",
        "print('kpi')\n",
        "kpi_dict = solution.get_kpis()\n",
        "pprint( kpi_dict )\n",
        "\n",
        "print()\n",
        "routes_schedule = solution.get_routes_schedule()\n",
        "pprint( routes_schedule )\n",
        "\n",
        "print(\"done\")"
      ]
    },
    {
      "cell_type": "markdown",
      "metadata": {
        "id": "5wP_rPuSZUEj"
      },
      "source": [
        "### Pred on model"
      ]
    },
    {
      "cell_type": "code",
      "execution_count": null,
      "metadata": {
        "id": "SaYyLZZZZUEj"
      },
      "outputs": [],
      "source": [
        "seed = 69\n",
        "\n",
        "VRPNetwork = VRPNetwork_Synthetic([data_nn], 1)\n",
        "env_irp = IRPEnv_Custom(VRPNetwork, seed=seed, num_draw=1)\n",
        "\n",
        "start_time = time.time()\n",
        "loss_a, actions_list = agent_irp.evaluate(env_irp)\n",
        "delta_time_model = time.time() - start_time\n",
        "print(loss_a)\n",
        "\n",
        "a = env_irp.render()"
      ]
    },
    {
      "cell_type": "code",
      "execution_count": null,
      "metadata": {
        "id": "PL4SzMoXZUEj"
      },
      "outputs": [],
      "source": [
        "actions = [e.item() for e in actions_list]\n",
        "m = synth_data['weight_matrix']\n",
        "\n",
        "sum_dist = 0\n",
        "actions.insert(0,0)\n",
        "print(actions)\n",
        "for i in range(len(actions)-1):\n",
        "  start = actions[i]\n",
        "  end = actions[i+1]\n",
        "  dist = m[start][end]\n",
        "  sum_dist += dist\n",
        "  print(f'{start} -> {end} = {dist}')\n",
        "\n",
        "sum_dist"
      ]
    },
    {
      "cell_type": "code",
      "execution_count": null,
      "metadata": {
        "id": "8LeXGPoFZUEk"
      },
      "outputs": [],
      "source": [
        "result['grid_16_3'] = {\n",
        "        'sum_dist_cpsat':kpi_dict['total_travel_distance'],\n",
        "        'sum_dist_model':sum_dist,\n",
        "        'error': (kpi_dict['total_travel_distance'] - sum_dist) / kpi_dict['total_travel_distance'],\n",
        "        'time_cpsat':delta_time,\n",
        "        'time_model':delta_time_model,\n",
        "    }\n",
        "pd.DataFrame.from_dict(result, orient='index',).round(3)"
      ]
    },
    {
      "cell_type": "code",
      "execution_count": null,
      "metadata": {
        "id": "FeWdleKgZUEk"
      },
      "outputs": [],
      "source": [
        "nn_paths = divide_to_paths_nn(actions)\n",
        "cpsat_path = divide_to_path_cpsat(routes_schedule)\n",
        "draw_paths(data_nn, nn_paths)"
      ]
    },
    {
      "cell_type": "code",
      "execution_count": null,
      "metadata": {
        "id": "T-dAKb5FZUEk"
      },
      "outputs": [],
      "source": [
        "draw_paths(data_nn, cpsat_path)"
      ]
    },
    {
      "cell_type": "markdown",
      "metadata": {
        "id": "kahsuqcO_8EP"
      },
      "source": [
        "# Compartments"
      ]
    },
    {
      "cell_type": "code",
      "execution_count": null,
      "metadata": {
        "id": "6peSrhJbAAkF"
      },
      "outputs": [],
      "source": [
        "graph_generator = GraphGenerator()\n",
        "\n",
        "g = graph_generator.build_graph( 10, graph_type=\"wheel\", layout=\"kamada-kawai\")\n",
        "g = graph_generator.alter_graph( g, shift=(1.3, 1.3), scale=(100.0, 100.0), rotation_angle=0, convert_to_int=True )\n",
        "g = graph_generator.init_edge_weights( g, round_to = 1 )\n",
        "weight_matrix = graph_generator.build_edge_weight_matrix(g, fill_empty_policy =\"shortest\", make_int=True)\n",
        "\n",
        "\n",
        "dataset_name = \"wheel_prime_10\"\n",
        "graph_generator.plot_graph( g, with_labels=True, with_edge_labels=True )\n",
        "#plt.show()\n",
        "plt.savefig( Path( images_dir, \"{}.jpg\".format( dataset_name ) ), dpi=1000 )\n",
        "graph_data = {}\n",
        "graph_data[\"graph\"] = g\n",
        "graph_data[\"weight_matrix\"] = weight_matrix\n",
        "save( graph_data, Path( graphs_dir, \"{}.pkl\".format( dataset_name ) ))\n",
        "\n",
        "print(\"done\")"
      ]
    },
    {
      "cell_type": "code",
      "execution_count": null,
      "metadata": {
        "id": "0XwgIOTK_1C5"
      },
      "outputs": [],
      "source": [
        "dataset_name = \"wheel_prime_10\"\n",
        "#dataset_name = \"wheel_noised_10\"\n",
        "#dataset_name = \"wheel_prime_21\"\n",
        "#dataset_name = \"wheel_noised_21\"\n",
        "#dataset_name = \"wheel_10_ring_20\"\n",
        "#dataset_name = \"grid_noised_49\"\n",
        "#dataset_name = \"grid_noised_64\"\n",
        "#dataset_name = \"tree_prime_4\"\n",
        "#dataset_name = \"tree_prime_5\"\n",
        "#dataset_name = \"tree_noised_5\"\n",
        "#dataset_name = \"mix_prime_78\"\n",
        "#dataset_name = \"mix_noised_78\"\n",
        "#dataset_name = \"moskow_prime_248\"\n",
        "#dataset_name = \"moskow_noised_248\"\n",
        "#dataset_name = \"moskow_prime_380\"\n",
        "#dataset_name = \"moskow_noised_380\"\n",
        "synth_data = load( Path( graphs_dir, \"{}.pkl\".format( dataset_name ) ) )\n",
        "\n",
        "data_builder = DataBuilder_MPPSRP_Simple(synth_data[\"weight_matrix\"],\n",
        "                                         distance_multiplier=1, travel_time_multiplier=60*60,\n",
        "                                         planning_horizon=7,\n",
        "                                         safety_level=0.05, max_level=0.95,\n",
        "                                         initial_inventory_level=0.5, tank_capacity=100,\n",
        "                                         depot_service_time = 15*60, station_service_time=10*60,\n",
        "                                         demand=10, products_count=2,\n",
        "                                         k_vehicles=13, compartments=[5 * [50]],\n",
        "                                         mean_vehicle_speed=60, vehicle_time_windows=[[9*60*60, 18*60*60]],\n",
        "                                         noise_initial_inventory=0.2, noise_tank_capacity=0.2,\n",
        "                                         noise_compartments=0.2, noise_demand=0.2,\n",
        "                                         noise_vehicle_time_windows=0.0,\n",
        "                                         noise_restrictions = 0.0,\n",
        "                                         random_seed=45)\n",
        "data_model = data_builder.build_data_model()\n",
        "\n",
        "task_builder = TaskBuilder_MPPSRP_FullMILP_CPSAT( max_trips_per_day=2, verbose=True )\n",
        "task = task_builder.build_task( data_model )\n",
        "\n",
        "print(\"Dataset name: {}\".format( dataset_name ))\n",
        "print(\"Solving start time: {}\".format( datetime.now() ))\n",
        "task_solver = TaskSolver_MPPSRP_CPSAT( cache_dir=interim_dir,\n",
        "                                       cache_all_feasible_solutions=False,\n",
        "                                       solution_prefix=dataset_name,\n",
        "                                       time_limit_milliseconds=120_000 )\n",
        "solution = task_solver.solve( task )\n",
        "\n",
        "print()\n",
        "kpi_dict = solution.get_kpis()\n",
        "pprint( kpi_dict )\n",
        "\n",
        "print()\n",
        "routes_schedule = solution.get_routes_schedule()\n",
        "pprint( routes_schedule )\n",
        "\n",
        "print(\"done\")"
      ]
    },
    {
      "cell_type": "code",
      "execution_count": null,
      "metadata": {
        "id": "T_2NsVgNFwZ1"
      },
      "outputs": [],
      "source": []
    },
    {
      "cell_type": "markdown",
      "metadata": {
        "id": "foug1J5qFwfv"
      },
      "source": [
        "## Print shapes"
      ]
    },
    {
      "cell_type": "markdown",
      "metadata": {
        "id": "j5cXC4vDFwfw"
      },
      "source": [
        "### Generate data"
      ]
    },
    {
      "cell_type": "code",
      "execution_count": null,
      "metadata": {
        "id": "FIsU3dCtFwfw"
      },
      "outputs": [],
      "source": [
        "num_nodes = 10\n",
        "products_count = 3\n",
        "compartment_capacity = 50\n",
        "planning_horizon = 1\n",
        "dir = '/content/drive/MyDrive/GraphDataset/wheel_10/'"
      ]
    },
    {
      "cell_type": "code",
      "execution_count": null,
      "metadata": {
        "id": "LyRvyHp_Fwfy"
      },
      "outputs": [],
      "source": [
        "generate_dataset(create_wheel_noised,\n",
        "                 num_nodes=num_nodes,\n",
        "                 num_graphs=100,\n",
        "                 compartment_capacity=compartment_capacity,\n",
        "                 products_count=products_count,\n",
        "                 dataset_dir = dir,\n",
        "                 del_previous_dir=True)"
      ]
    },
    {
      "cell_type": "markdown",
      "metadata": {
        "id": "XQBklYWtFwfz"
      },
      "source": [
        "### Learn model"
      ]
    },
    {
      "cell_type": "code",
      "execution_count": null,
      "metadata": {
        "id": "8udyJFGQFwfz"
      },
      "outputs": [],
      "source": [
        "files = os.listdir(dir)\n",
        "dataset = [load(Path(dir, file)) for file in files[0:2]]\n",
        "\n",
        "seed = 70\n",
        "num_node = dataset[0]['num_nodes']\n",
        "node_dim = dataset[0]['products_count'] + 2\n",
        "batch_size=2\n",
        "\n",
        "agent_irp = IRPAgent(node_dim=node_dim,\n",
        "            seed=seed, csv_path=f\"./train_logs/my_loss_log_irp_{num_node}_{seed}.csv\",)\n",
        "\n",
        "train(agent_irp,\n",
        "            dataset,\n",
        "            batch_size=batch_size,\n",
        "            epochs=1,\n",
        "            check_point_dir=f\"./check_points/my_irp_{num_node}_{seed}/\",)"
      ]
    },
    {
      "cell_type": "code",
      "execution_count": null,
      "metadata": {
        "id": "GItexao4TwtE"
      },
      "outputs": [],
      "source": [
        "a = torch.ones((2, 1, 128))\n",
        "\n",
        "b = torch.ones((2, 1, 128))\n",
        "\n",
        "c = torch.ones((2, 1, 100))\n",
        "\n",
        "context = torch.cat([a, b, c], -1)\n",
        "context.shape"
      ]
    },
    {
      "cell_type": "code",
      "execution_count": null,
      "metadata": {
        "id": "7NaBXXLdLwHt"
      },
      "outputs": [],
      "source": [
        "probs = torch.tensor([[[   float('-inf'),  0.0185,  0.4894, -0.3443, -0.4399]],\n",
        "\n",
        "        [[   float('-inf'), -0.0842,  0.2667, -0.4489, -0.2583]]])"
      ]
    },
    {
      "cell_type": "code",
      "execution_count": null,
      "metadata": {
        "id": "H53_hCYYL2zI"
      },
      "outputs": [],
      "source": [
        "probs"
      ]
    },
    {
      "cell_type": "code",
      "execution_count": null,
      "metadata": {
        "id": "nZTfVTMeI86X"
      },
      "outputs": [],
      "source": [
        "probs = torch.rand((2,2,10))\n",
        "m = Categorical(logits=probs)"
      ]
    },
    {
      "cell_type": "code",
      "execution_count": null,
      "metadata": {
        "id": "VTg6i9NrMEUS"
      },
      "outputs": [],
      "source": [
        "nn_idx = m.sample()\n",
        "nn_idx"
      ]
    },
    {
      "cell_type": "code",
      "execution_count": null,
      "metadata": {
        "id": "UiyumWf9Mjh8"
      },
      "outputs": [],
      "source": [
        "m.log_prob(nn_idx)"
      ]
    },
    {
      "cell_type": "code",
      "execution_count": null,
      "metadata": {
        "id": "llXmnLMuJzxR"
      },
      "outputs": [],
      "source": [
        "m.enumerate_support()"
      ]
    },
    {
      "cell_type": "markdown",
      "metadata": {
        "id": "cjS2S_7vFwfz"
      },
      "source": [
        "### Pred on CPSAT"
      ]
    },
    {
      "cell_type": "code",
      "execution_count": null,
      "metadata": {
        "id": "sQdre7srFwf0"
      },
      "outputs": [],
      "source": [
        "synth_data = create_wheel_noised(num_nodes)\n",
        "data_nn, data_cpsat = get_graph_dict(synth_data,\n",
        "                                     num_nodes,\n",
        "                                     products_count,\n",
        "                                     compartment_capacity,\n",
        "                                     planning_horizon,\n",
        "                                     noise_demand=0.2,\n",
        "                                     draw=True)"
      ]
    },
    {
      "cell_type": "code",
      "execution_count": null,
      "metadata": {
        "id": "mQ2V9lAcFwf0"
      },
      "outputs": [],
      "source": [
        "task_builder = TaskBuilder_MPPSRP_FullMILP_CPSAT( max_trips_per_day=100, verbose=True )\n",
        "task = task_builder.build_task( data_cpsat )\n",
        "\n",
        "print(\"Dataset name: {}\".format( dataset_name ))\n",
        "print(\"Solving start time: {}\".format( datetime.now() ))\n",
        "task_solver = TaskSolver_MPPSRP_CPSAT( cache_dir=interim_dir,\n",
        "                                       cache_all_feasible_solutions=False,\n",
        "                                       solution_prefix=dataset_name,\n",
        "                                       time_limit_milliseconds=300_000)\n",
        "start_time = time.time()\n",
        "solution = task_solver.solve( task )\n",
        "delta_time = time.time() - start_time\n",
        "print('kpi')\n",
        "kpi_dict = solution.get_kpis()\n",
        "pprint( kpi_dict )\n",
        "\n",
        "print()\n",
        "routes_schedule = solution.get_routes_schedule()\n",
        "pprint( routes_schedule )\n",
        "\n",
        "print(\"done\")"
      ]
    },
    {
      "cell_type": "markdown",
      "metadata": {
        "id": "Mi9849C-Fwf0"
      },
      "source": [
        "### Pred on model"
      ]
    },
    {
      "cell_type": "code",
      "execution_count": null,
      "metadata": {
        "id": "FCfL3FcPFwf1"
      },
      "outputs": [],
      "source": [
        "seed = 69\n",
        "\n",
        "VRPNetwork = VRPNetwork_Synthetic([data_nn], 1)\n",
        "env_irp = IRPEnv_Custom(VRPNetwork, seed=seed, num_draw=1)\n",
        "\n",
        "start_time = time.time()\n",
        "loss_a, actions_list = agent_irp.evaluate(env_irp)\n",
        "delta_time_model = time.time() - start_time\n",
        "print(loss_a)\n",
        "\n",
        "a = env_irp.render()"
      ]
    },
    {
      "cell_type": "code",
      "execution_count": null,
      "metadata": {
        "id": "C8OjD5XaFwf1"
      },
      "outputs": [],
      "source": [
        "actions = [e.item() for e in actions_list]\n",
        "m = synth_data['weight_matrix']\n",
        "\n",
        "sum_dist = 0\n",
        "actions.insert(0,0)\n",
        "print(actions)\n",
        "for i in range(len(actions)-1):\n",
        "  start = actions[i]\n",
        "  end = actions[i+1]\n",
        "  dist = m[start][end]\n",
        "  sum_dist += dist\n",
        "  print(f'{start} -> {end} = {dist}')\n",
        "\n",
        "sum_dist"
      ]
    },
    {
      "cell_type": "code",
      "execution_count": null,
      "metadata": {
        "id": "XpZIUA2cFwf1"
      },
      "outputs": [],
      "source": [
        "result['wheel_10_3'] = {\n",
        "        'sum_dist_cpsat':kpi_dict['total_travel_distance'],\n",
        "        'sum_dist_model':sum_dist,\n",
        "        'error': (kpi_dict['total_travel_distance'] - sum_dist) / kpi_dict['total_travel_distance'],\n",
        "        'time_cpsat':delta_time,\n",
        "        'time_model':delta_time_model,\n",
        "    }\n",
        "pd.DataFrame.from_dict(result, orient='index',).round(3)"
      ]
    },
    {
      "cell_type": "code",
      "execution_count": null,
      "metadata": {
        "id": "BF4jUO3mFwf2"
      },
      "outputs": [],
      "source": [
        "nn_paths = divide_to_paths_nn(actions)\n",
        "cpsat_path = divide_to_path_cpsat(routes_schedule)\n",
        "draw_paths(data_nn, nn_paths)"
      ]
    },
    {
      "cell_type": "code",
      "execution_count": null,
      "metadata": {
        "id": "BbtGQcQ0Fwf2"
      },
      "outputs": [],
      "source": [
        "draw_paths(data_nn, cpsat_path)"
      ]
    },
    {
      "cell_type": "code",
      "execution_count": null,
      "metadata": {
        "id": "j4ytdv2NAHkS"
      },
      "outputs": [],
      "source": [
        "data_model"
      ]
    },
    {
      "cell_type": "code",
      "execution_count": null,
      "metadata": {
        "id": "I1BqhImvAIxt"
      },
      "outputs": [],
      "source": []
    },
    {
      "cell_type": "code",
      "execution_count": null,
      "metadata": {
        "id": "iAcj8ImANRjc"
      },
      "outputs": [],
      "source": []
    },
    {
      "cell_type": "code",
      "execution_count": null,
      "metadata": {
        "id": "Qt0_RUfrVYFu"
      },
      "outputs": [],
      "source": []
    },
    {
      "cell_type": "code",
      "execution_count": null,
      "metadata": {
        "id": "2E7dCMt10FRW"
      },
      "outputs": [],
      "source": []
    },
    {
      "cell_type": "code",
      "execution_count": null,
      "metadata": {
        "id": "VKYpXJyC_r9Y"
      },
      "outputs": [],
      "source": [
        "torch.set_printoptions(precision=3)"
      ]
    }
  ],
  "metadata": {
    "colab": {
      "collapsed_sections": [
        "sPfNa2nSqmDc",
        "CBqdCBZ_qkgN",
        "JTq_Z8cCo29U",
        "n5jcEAKlo4AW",
        "JOR_NBlxpEWk",
        "USK6Yy_mpJL4",
        "QWmqDB_LpUa1",
        "if5i_uVLp7-N",
        "6iNHU4XRpakf",
        "jFFXzuJepm5G",
        "B4skpAYipv5h",
        "EVutIRFOqRQU",
        "jAOriAtTqTBt",
        "pdCi52d2_rEe",
        "Iz5U8Qqn6DhQ",
        "c5QSpYJ3_zfI",
        "i2CU2v01_1g9",
        "J0wQHMcEqILH",
        "E4blx4B7G-lk",
        "8CzrxZW2PdJN",
        "KBuDY7uJ-Shr",
        "gJo9CHQEr84P",
        "sCBwqL1QPjPq",
        "lDdcpinsAwTb",
        "GbCt4-eLAM5Q"
      ],
      "provenance": [],
      "toc_visible": true,
      "mount_file_id": "1b0EF9TYhMcEjISYrX0CHoaEPN5pRf8_8",
      "authorship_tag": "ABX9TyObdURyndT7eqjCdG+W/RUy",
      "include_colab_link": true
    },
    "kernelspec": {
      "display_name": "Python 3",
      "name": "python3"
    },
    "language_info": {
      "name": "python"
    }
  },
  "nbformat": 4,
  "nbformat_minor": 0
}